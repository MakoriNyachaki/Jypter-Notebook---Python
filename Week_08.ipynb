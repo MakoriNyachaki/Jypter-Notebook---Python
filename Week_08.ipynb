{
 "cells": [
  {
   "cell_type": "markdown",
   "id": "8f5a5e47",
   "metadata": {},
   "source": [
    "# CHAPTER EIGHT\n",
    "\n",
    "### Advanced Topics: Efficiency 1\n",
    "\n",
    "Throughout this week, we’ll be covering one-liners using list comprehension and anonymous functions. This will help to reduce the lines of code by condensing the same functionality within a single line. We’ll then cover a few of the built-in Python\n",
    "functions that make working with data easier. The last concept we cover is when functions call themselves, known as a recursive function. Often, these types of functions lack efficiency, so we’ll cover how to use a caching concept called memoization. As this week is all about advanced topics, we’ll dive into one of the more important algorithms in programming… Binary Search! We’ll see how to program this algorithm line by line and understand how searching algorithms are able to work efficiently.\n",
    "\n",
    "Overview\n",
    "\n",
    "• Building lists in one line using comprehensions\n",
    "\n",
    "• Understanding one-line anonymous functions\n",
    "\n",
    "• Using Python’s built-in functions for list alteration\n",
    "\n",
    "• Understanding recursive functions and how to improve them\n",
    "\n",
    "• Writing the algorithm for Binary Search\n",
    "\n",
    "#### Weekly Challenge\n",
    "For this week’s challenge, I’d like you to create a program that asks a user to input a number and tells that user if the number they entered is a prime number or not. Remember that prime numbers are only divisible by one and itself and must be above the number 2. Create a function called “isPrime” that you pass the input into, and return a True or False value. Be sure to keep efficiency in mind when programming the function."
   ]
  },
  {
   "cell_type": "markdown",
   "id": "2aa07a0b",
   "metadata": {},
   "source": [
    "### Monday: List Comprehension\n",
    "List comprehension allows us to create a list filled with data in a single line. Rather than creating an empty list, iterating over some data, and appending it to the list all on separate lines, we can use comprehension to perform all these steps at once. It doesn’t improve performance, but it’s cleaner and helps reduce the lines of code within our program. With comprehension we can reduce two or more lines into one. Plus, it’s generally quicker to write."
   ]
  },
  {
   "cell_type": "markdown",
   "id": "b7055287",
   "metadata": {},
   "source": [
    "#### List Comprehension Syntax\n",
    "The syntax when using list comprehension depends on what you’re trying to write. The general syntax structure for list comprehensions looks like the following:\n",
    ">>> *result* = [ *transform* *iteration* *filter* ]\n",
    "\n",
    "For example, when you want to populate a list, the syntax would have the following\n",
    "structure:\n",
    "\n",
    ">>> name_of_list = [ item_to_append for item in list ]\n",
    "\n",
    "However, when you want to include an if statement, the comprehension would look\n",
    "like the following:\n",
    "\n",
    ">>> name_of_list = [ item_to_append for item in list if condition ]\n",
    "\n",
    "The item will only be appended to the new list if the condition is met; otherwise, it won’t include it. Lastly, if you would like to include an else condition, it would look like the following:\n",
    "\n",
    ">>> name_of_list = [ item_to_append if condition else item_to_append for\n",
    "item in list ]\n",
    "\n",
    "When using the else conditional within list comprehension, the first item will be appended to the list only when the if statement proves True. If it is False, then the item that comes after the else statement will be appended to the list."
   ]
  },
  {
   "cell_type": "code",
   "execution_count": 4,
   "id": "59eee518",
   "metadata": {},
   "outputs": [
    {
     "name": "stdout",
     "output_type": "stream",
     "text": [
      "[0, 1, 2, 3, 4, 5, 6, 7, 8, 9, 10, 11, 12, 13, 14, 15, 16, 17, 18, 19, 20, 21, 22, 23, 24, 25, 26, 27, 28, 29, 30, 31, 32, 33, 34, 35, 36, 37, 38, 39, 40, 41, 42, 43, 44, 45, 46, 47, 48, 49, 50, 51, 52, 53, 54, 55, 56, 57, 58, 59, 60, 61, 62, 63, 64, 65, 66, 67, 68, 69, 70, 71, 72, 73, 74, 75, 76, 77, 78, 79, 80, 81, 82, 83, 84, 85, 86, 87, 88, 89, 90, 91, 92, 93, 94, 95, 96, 97, 98, 99]\n"
     ]
    }
   ],
   "source": [
    "#### Generating a List of Numbers #####\n",
    "\n",
    "# Create a list of ten numbers using list comprehension\n",
    "\n",
    "nums = [x for x in range(100)] # Generates a list from 0 upto 100\n",
    "print(nums)"
   ]
  },
  {
   "cell_type": "code",
   "execution_count": 8,
   "id": "b119c620",
   "metadata": {},
   "outputs": [
    {
     "name": "stdout",
     "output_type": "stream",
     "text": [
      "[0, 2, 4, 6, 8, 10, 12, 14, 16, 18]\n"
     ]
    }
   ],
   "source": [
    "##### Using if Statements ######\n",
    "# Using 'if statement' within list comprehension\n",
    "\n",
    "nums = [x for x in range(20) if x % 2 == 0] # Generates a list of even numbers up to  20\n",
    "print(nums)\n",
    "\n",
    "## We were able to reduce 4 lines of code here."
   ]
  },
  {
   "cell_type": "code",
   "execution_count": 11,
   "id": "a75863d2",
   "metadata": {},
   "outputs": [
    {
     "name": "stdout",
     "output_type": "stream",
     "text": [
      "['Even', 'Odd', 'Even', 'Odd', 'Even', 'Odd', 'Even', 'Odd', 'Even', 'Odd', 'Even', 'Odd', 'Even', 'Odd', 'Even', 'Odd', 'Even', 'Odd', 'Even', 'Odd']\n"
     ]
    }
   ],
   "source": [
    "##### using 'if...else' in list comprehension\n",
    "# Using if/else within list comprehension\n",
    "\n",
    "nums = ['Even' if x % 2 == 0 else 'Odd' for x in range(20)] # generates a list of even and odd strings\n",
    "print(nums)"
   ]
  },
  {
   "cell_type": "code",
   "execution_count": 13,
   "id": "b8000641",
   "metadata": {},
   "outputs": [
    {
     "name": "stdout",
     "output_type": "stream",
     "text": [
      "[4, 9, 16, 36]\n"
     ]
    }
   ],
   "source": [
    "###### List Comprehension with variables ######\n",
    "# Creating a list of squared numbers from another list of numbers using list comprehension\n",
    "\n",
    "nums = [2, 3, 4, 6]\n",
    "squared_nums = [nums**2 for nums in nums] # creates a list of squared numbers based on nums\n",
    "print(squared_nums)"
   ]
  },
  {
   "cell_type": "code",
   "execution_count": 15,
   "id": "9e7e8054",
   "metadata": {},
   "outputs": [
    {
     "name": "stdout",
     "output_type": "stream",
     "text": [
      "{0: 0, 2: 4, 4: 16, 6: 36, 8: 64}\n"
     ]
    }
   ],
   "source": [
    "######## Dictionary Comprehension ############\n",
    "# creating a dictionary of even numbers and square values using comprehension\n",
    "\n",
    "numbers = [x for x in range(10)]\n",
    "squares = {num: num**2 for num in numbers if num % 2 == 0}\n",
    "print(squares)"
   ]
  },
  {
   "cell_type": "markdown",
   "id": "2c7788c9",
   "metadata": {},
   "source": [
    "###### Monday Exercise\n",
    "\n",
    "1. Degree Conversion: Using list comprehension, convert the following list toFahrenheit. Currently, the degrees are in Celsius temperatures. The conversion formula is “(9/5) * C + 32”. Your output should be [ 53.6, 69.8, 59, 89.6 ].\n",
    "\n",
    ">>> degrees = [ 12, 21, 15, 32 ]\n",
    "\n",
    "2. User Input: Ask the user to input a single integer up to and including 100. Generate a list of numbers that are exactly divisible by that number up to and including 100 using list comprehension. For example, if the number 25 was input, then the output should be [ 25, 50, 75, 100 ]."
   ]
  },
  {
   "cell_type": "code",
   "execution_count": 49,
   "id": "f81fcbf4",
   "metadata": {},
   "outputs": [
    {
     "name": "stdout",
     "output_type": "stream",
     "text": [
      "[53.6, 69.8, 59.0, 89.6]\n",
      "Enter a number: 30\n",
      "[30, 60, 90]\n"
     ]
    }
   ],
   "source": [
    "### Solutions ###\n",
    "##Degree conversion\n",
    "\n",
    "degrees = [12, 21, 15, 32]\n",
    "toFahreheit = [round((9/5)* deg + 32, 1) for deg in degrees ]\n",
    "print(toFahreheit)\n",
    "\n",
    "## User Input\n",
    "num = int(input(\"Enter a number: \"))\n",
    "conversion = [number for number in range(101) if number % num == 0 and number > 0 and num >0 and num <= 100]\n",
    "print(conversion)"
   ]
  },
  {
   "cell_type": "markdown",
   "id": "ea5dfa91",
   "metadata": {},
   "source": [
    "### Tuesday: Lambda Functions\n",
    "\n",
    "Lambda functions, otherwise known as anonymous functions, are one-line functions within Python. Like list comprehension, lambda functions allow us to reduce the lines of code we need to write within our program. It doesn’t work for complicated functions but helps to improve readability of smaller functions.\n",
    "The syntax for lambda functions will generally remain the same, unlike list comprehensions when you begin to add the conditional statements. To start, let’s look at the basic structure:\n",
    "\n",
    ">>> lambda arguments : expression\n",
    "\n",
    "Lambdas will always begin with the keyword lambda. Following that you’ll find any arguments that are being passed in. On the right side of the colon, we’ll see the expression to be performed and returned. Lambdas return the expression by default, so\n",
    "we don’t need to use the keyword:\n",
    "\n",
    ">>> lambda arguments : value_to_return if condition else value_to_return\n",
    "\n",
    "Like list comprehension, the conditional statement goes at the end. Lists generally use ternary operators"
   ]
  },
  {
   "cell_type": "code",
   "execution_count": 50,
   "id": "aab84095",
   "metadata": {
    "scrolled": false
   },
   "outputs": [
    {
     "data": {
      "text/plain": [
       "25"
      ]
     },
     "execution_count": 50,
     "metadata": {},
     "output_type": "execute_result"
    }
   ],
   "source": [
    "##### Using a Lambda #####\n",
    "# When using lambdas without storing them into a variable, you need to wrap parenthesis \n",
    "# around the function, as well as any arguments being passed in. Let’s start small by\n",
    "# writing a lambda function that will return the result of the argument squared:\n",
    "\n",
    "# Using a lambda to square the number\n",
    "(lambda x: x**2 )(5) # Takes in 5 and squares the number to give 25"
   ]
  },
  {
   "cell_type": "code",
   "execution_count": 53,
   "id": "81c39a19",
   "metadata": {},
   "outputs": [
    {
     "data": {
      "text/plain": [
       "75"
      ]
     },
     "execution_count": 53,
     "metadata": {},
     "output_type": "execute_result"
    }
   ],
   "source": [
    "# Passing in multiple arguments\n",
    "(lambda x, y: x*y)(15,5) # x=15, y=5 and returns x*y =75"
   ]
  },
  {
   "cell_type": "code",
   "execution_count": 56,
   "id": "8f553d65",
   "metadata": {},
   "outputs": [
    {
     "name": "stdout",
     "output_type": "stream",
     "text": [
      "<function <lambda> at 0x0000027953B40940>\n",
      "75\n"
     ]
    }
   ],
   "source": [
    "#saving a lambda function into a variable\n",
    "\n",
    "square = lambda x,y: x*y\n",
    "print(square)\n",
    "result = square(15,5) # Calls the lambda function stored in the square variable and returns 15*5\n",
    "print(result)"
   ]
  },
  {
   "cell_type": "code",
   "execution_count": 59,
   "id": "a188726e",
   "metadata": {},
   "outputs": [
    {
     "name": "stdout",
     "output_type": "stream",
     "text": [
      "90\n"
     ]
    }
   ],
   "source": [
    "# using if/else statements within a lambda to return the greater number\n",
    "\n",
    "greater = lambda x, y: x if x > y else y\n",
    "result = greater(10,90)\n",
    "print(result)"
   ]
  },
  {
   "cell_type": "code",
   "execution_count": 60,
   "id": "9c69373f",
   "metadata": {},
   "outputs": [
    {
     "name": "stdout",
     "output_type": "stream",
     "text": [
      "10\n",
      "15\n"
     ]
    }
   ],
   "source": [
    "# returning a lambda function from another function\n",
    "\n",
    "def my_funct(n):\n",
    "    return lambda x: x*n\n",
    "doubler = my_funct(2) #return an equivalent of lambda x: x*2\n",
    "print(doubler(5)) # returns 10\n",
    "trippler = my_funct(3) # return an equivalent of lambda x: x*2\n",
    "print(trippler(5)) # will output 15\n"
   ]
  },
  {
   "cell_type": "markdown",
   "id": "10b5b388",
   "metadata": {},
   "source": [
    "#### Tuesday Exercise\n",
    "1. Fill in the Blanks: Fill in the blanks for the following code so that it takes in a parameter of “x” and returns “True” if it is greater than 50; otherwise, it should return “False”:\n",
    "\n",
    " ____ x _ True if x _ 50 ____ False\n",
    " \n",
    " \n",
    "2. Degree Conversion: Write a lambda function that takes in a degree value in Celsius and returns the degree converted into Fahrenheit."
   ]
  },
  {
   "cell_type": "code",
   "execution_count": 3,
   "id": "bde230fc",
   "metadata": {},
   "outputs": [
    {
     "data": {
      "text/plain": [
       "False"
      ]
     },
     "execution_count": 3,
     "metadata": {},
     "output_type": "execute_result"
    }
   ],
   "source": [
    "### Fill in the blanks.\n",
    "(lambda x: True if x > 50 else False)(30)"
   ]
  },
  {
   "cell_type": "code",
   "execution_count": 76,
   "id": "29f42c4e",
   "metadata": {},
   "outputs": [
    {
     "name": "stdout",
     "output_type": "stream",
     "text": [
      "Enter temperature in degrees: 45\n",
      "113\n"
     ]
    }
   ],
   "source": [
    "### Degree conversion\n",
    "\n",
    "degree = lambda d: d\n",
    "fahreinheit = (round((9/5)*degree(int(input(\"Enter temperature in degrees: \"))) + 32))\n",
    "print(fahreinheit)"
   ]
  },
  {
   "cell_type": "markdown",
   "id": "b502625a",
   "metadata": {},
   "source": [
    "### Wednesday: Map, Filter and Reduce\n",
    "\n",
    "\n",
    "The map function is used to iterate over a data collection and modify it. \n",
    "The filter function is used to iterate over a data collection, and you guessed it… filter out data\n",
    "that doesn’t meet a condition.\n",
    "Lastly, the reduce function takes a data collection and condenses it down to a single result, like the sum function for lists."
   ]
  },
  {
   "cell_type": "markdown",
   "id": "3cb94e8b",
   "metadata": {},
   "source": [
    "The map function is used when you need to alter all items within an iterable data collection. It takes in two arguments, the function to be applied on each element and the iterable data. When using map, it returns a map object, which is an iterator."
   ]
  },
  {
   "cell_type": "code",
   "execution_count": 4,
   "id": "83ba6e17",
   "metadata": {},
   "outputs": [
    {
     "name": "stdout",
     "output_type": "stream",
     "text": [
      "<map object at 0x000002210E434790>\n",
      "[54.5, 56.480000000000004, 59.0, 48.56]\n"
     ]
    }
   ],
   "source": [
    "# Using map function without lambdas\n",
    "def convertDeg(C):\n",
    "    return (9/5) * C + 32\n",
    "temps = [12.5, 13.6, 15, 9.2]\n",
    "converted_temps = map(convertDeg, temps) # returns map object\n",
    "print(converted_temps)\n",
    "\n",
    "converted_temps = list(converted_temps) # Type convert map object\n",
    "print(converted_temps)"
   ]
  },
  {
   "cell_type": "code",
   "execution_count": 5,
   "id": "d3bb5f1f",
   "metadata": {},
   "outputs": [
    {
     "name": "stdout",
     "output_type": "stream",
     "text": [
      "[54.5, 56.480000000000004, 59.0, 48.56]\n"
     ]
    }
   ],
   "source": [
    "# using a map function with lambdas\n",
    "\n",
    "temps = [12.5, 13.6, 15, 9.2]\n",
    "converted_temps = list(map(lambda C: (9/5) * C +32, temps)) # type convert the map object right away\n",
    "print(converted_temps)"
   ]
  },
  {
   "cell_type": "markdown",
   "id": "bb6a9eab",
   "metadata": {},
   "source": [
    "The filter function is useful for taking a collection of data and removing any information that you don’t need. Like the map function, it takes in a function and an iterable data type and returns a filter object. This object can be converted into a working list like we did with our map object."
   ]
  },
  {
   "cell_type": "code",
   "execution_count": 7,
   "id": "ab5293c8",
   "metadata": {},
   "outputs": [
    {
     "name": "stdout",
     "output_type": "stream",
     "text": [
      "<filter object at 0x000002210E479250>\n",
      "[13.6, 15]\n"
     ]
    }
   ],
   "source": [
    "# using the filter function without lambda functions, filter out temps below 55F\n",
    "def filterTemps(C):\n",
    "    converted = (9/5) * C + 32\n",
    "    return True if converted > 55 else False  # use ternary operator # Use ternary operator\n",
    "temps = [12.5, 13.6, 15, 9.2]\n",
    "filtered_temps = filter(filterTemps, temps) # returns filter object\n",
    "print(filtered_temps)\n",
    "filtered_temps = list(filtered_temps) # Convert filter object to list data\n",
    "\n",
    "print(filtered_temps)\n"
   ]
  },
  {
   "cell_type": "code",
   "execution_count": 8,
   "id": "3156693f",
   "metadata": {},
   "outputs": [
    {
     "name": "stdout",
     "output_type": "stream",
     "text": [
      "[13.6, 15]\n"
     ]
    }
   ],
   "source": [
    "# using the filter function with lambda functions, filter out temps below 55F\n",
    "\n",
    "temps = [12.5, 13.6, 15, 9.2]\n",
    "filtered_temps = list(filter(lambda C: True if (9/5) * C + 32 > 55 else False, temps)) # type convert the filter\n",
    "print(filtered_temps)\n"
   ]
  },
  {
   "cell_type": "code",
   "execution_count": 10,
   "id": "5712e9ee",
   "metadata": {},
   "outputs": [
    {
     "name": "stdout",
     "output_type": "stream",
     "text": [
      "24\n"
     ]
    }
   ],
   "source": [
    "# Note Reduce was a built-in function in Python 2, since then it has been moved into the functools library.\n",
    "# for informational purposes this is how you use the reduce function \n",
    "from functools import reduce\n",
    "\n",
    "nums = [1, 2, 3, 4]\n",
    "result = reduce(lambda a, b: a * b, nums)\n",
    "print(result)\n"
   ]
  },
  {
   "cell_type": "markdown",
   "id": "113ec7be",
   "metadata": {},
   "source": [
    "#### Wednesday Exercises\n",
    "\n",
    "1. Mapping Names: Use a lambda and map function to map over the list of names in the following to produce the following result “[ “Ryan”, “Paul”,\n",
    "“Kevin Connors” ].\n",
    "    \n",
    "names = [ \" ryan\", \"PAUL\", \"kevin connors \" ]\n",
    "\n",
    "2. Filter Names: Using a lambda and filter function, filter out all the names that start with the letter “A.” Make it case insensitive, so it filters out the name\n",
    "whether it’s uppercase or not. The output of the following list should be [ “Frank”, “Ripal” ].\n",
    "\n",
    "names = [ \"Amanda\", \"Frank\", \"abby\", \"Ripal\", \"Adam\" ]"
   ]
  },
  {
   "cell_type": "code",
   "execution_count": 13,
   "id": "56717bfc",
   "metadata": {},
   "outputs": [
    {
     "name": "stdout",
     "output_type": "stream",
     "text": [
      "['Ryan', 'Paul', 'Kevin', 'Ripal', 'Adam']\n"
     ]
    }
   ],
   "source": [
    "#### Mapping names\n",
    "names = [\"ryan\", \"PAUL\", \"kevin\", \"Ripal\", \"Adam\"]\n",
    "names = list(map(lambda name: name.strip().title(), names))\n",
    "print(names)"
   ]
  },
  {
   "cell_type": "code",
   "execution_count": 14,
   "id": "bf5e55ee",
   "metadata": {},
   "outputs": [
    {
     "name": "stdout",
     "output_type": "stream",
     "text": [
      "['Frank', 'Ripal']\n"
     ]
    }
   ],
   "source": [
    "#### Filter names\n",
    "names = [\"Amanda\", \"Frank\", \"abby\", \"Ripal\", \"Adam\"]\n",
    "\n",
    "names = list(filter(lambda name: True if name[0].lower() != 'a' else False, names))\n",
    "\n",
    "print(names)"
   ]
  },
  {
   "cell_type": "markdown",
   "id": "1dcd8e49",
   "metadata": {},
   "source": [
    "### Thursday: Recursive Functions and Memoization\n",
    "\n",
    "Recursion is a concept in programming where a function calls itself one or more times within its block. These types of functions can often run into issues with speed, however, due to the function constantly calling itself. Memoization helps this process by storing values that were already calculated to be used later. Let’s first understand more about recursive functions.\n"
   ]
  },
  {
   "cell_type": "code",
   "execution_count": 16,
   "id": "7f1cda7b",
   "metadata": {},
   "outputs": [
    {
     "name": "stdout",
     "output_type": "stream",
     "text": [
      "120\n"
     ]
    }
   ],
   "source": [
    "# Writing a factorial using recursive functions\n",
    "def factorial(n):\n",
    "    # set you base\n",
    "    if n <= 1:\n",
    "        return 1\n",
    "    else:\n",
    "        return factorial(n-1) * n\n",
    "print(factorial(5)) # The result of 5!"
   ]
  },
  {
   "cell_type": "code",
   "execution_count": 19,
   "id": "62d2d655",
   "metadata": {},
   "outputs": [
    {
     "name": "stdout",
     "output_type": "stream",
     "text": [
      "5\n"
     ]
    }
   ],
   "source": [
    "# Writing the recursive fibonacci sequence\n",
    "\n",
    "def fib(n):\n",
    "    if n <= 1:\n",
    "        return n\n",
    "    else:\n",
    "        return fib(n-1) + fib(n-2)\n",
    "print(fib(5))"
   ]
  },
  {
   "cell_type": "markdown",
   "id": "060bdab3",
   "metadata": {},
   "source": [
    "In computing, memoization is an optimization technique used primarily to speed up computer programs by storing the results of previously called functions and returning the saved result when trying to calculate the same sequence. This is simply known as\n",
    "“caching,” and the preceding paragraph is a real-life example of how memoization can improve performance. Let’s look at some examples of how memoization can improve our recursive"
   ]
  },
  {
   "cell_type": "code",
   "execution_count": 23,
   "id": "6114ebd3",
   "metadata": {},
   "outputs": [
    {
     "name": "stdout",
     "output_type": "stream",
     "text": [
      "12586269025\n"
     ]
    }
   ],
   "source": [
    "# using memoization with the fibonacci sequence\n",
    "\n",
    "cache = { } # used to cache values to be used later\n",
    "\n",
    "def fib(n):\n",
    "    if n in cache:\n",
    "        return cache[ n ] # return value stored in dictionary\n",
    "    \n",
    "    result = 0\n",
    "\n",
    "    # base case\n",
    "    if n <= 1:\n",
    "        result = n\n",
    "    else:\n",
    "        result = fib( n - 1 ) + fib( n - 2 )\n",
    "    \n",
    "    cache[ n ] = result # save result into dictionary with n as the key\n",
    "    \n",
    "    return result\n",
    "\n",
    "print( fib(50) ) # calculates almost instantly"
   ]
  },
  {
   "cell_type": "code",
   "execution_count": 24,
   "id": "67021351",
   "metadata": {},
   "outputs": [
    {
     "data": {
      "text/plain": [
       "12586269025"
      ]
     },
     "execution_count": 24,
     "metadata": {},
     "output_type": "execute_result"
    }
   ],
   "source": [
    "##### Using @lru_cache #####\n",
    "# @lru_cache or least recently used cache is Python's inbuilt method of memoization\n",
    "# using @lru_cache Python's inbuilt method of memoization\n",
    "\n",
    "from functools import lru_cache\n",
    "\n",
    "@lru_cache() # Python's built-in memoization/caching system\n",
    "def fib(n):\n",
    "    if n <= 1:\n",
    "        return n\n",
    "    else:\n",
    "        return fib(n-1) + fib(n-2)\n",
    "fib(50) # Calculates almost instantly"
   ]
  },
  {
   "cell_type": "markdown",
   "id": "3fef8d68",
   "metadata": {},
   "source": [
    "#### Thursday Exercises\n",
    "1. Factorial Caching: Apply either the lru_cache built-in decorator to the factorial function that we created previously, or set up your own caching system.\n",
    "\n",
    "\n",
    "\n",
    "2. Searching Data: Create a function that takes in two arguments, a list of data and an item to search for. Search through the list of data passed in and return True if the item to search for appears, otherwise, return False. If one of the items is another list, create a recursive call so that you don’t need to create another loop. Use the example call in the following as a reference on what data to expect:\n",
    "\n",
    "searchList( [ 2, 3, [ 18, 22 ], 6 ], 22 )"
   ]
  },
  {
   "cell_type": "code",
   "execution_count": 25,
   "id": "c016be41",
   "metadata": {},
   "outputs": [
    {
     "name": "stdout",
     "output_type": "stream",
     "text": [
      "815915283247897734345611269596115894272000000000\n"
     ]
    }
   ],
   "source": [
    "## Factorial caching\n",
    "from functools import lru_cache\n",
    "\n",
    "@lru_cache(500)\n",
    "def factorial(n):\n",
    "    if n <= 1:\n",
    "        return 1\n",
    "    else:\n",
    "        return factorial(n-1) * n\n",
    "print(factorial(40))"
   ]
  },
  {
   "cell_type": "code",
   "execution_count": 26,
   "id": "262b87e3",
   "metadata": {},
   "outputs": [
    {
     "data": {
      "text/plain": [
       "True"
      ]
     },
     "execution_count": 26,
     "metadata": {},
     "output_type": "execute_result"
    }
   ],
   "source": [
    "# Searching Data\n",
    "\n",
    "def searchList(aList, num):\n",
    "    result = False\n",
    "    \n",
    "    for item in aList:\n",
    "        if item == num:\n",
    "            return True\n",
    "        elif isinstance(item, list):\n",
    "            result = searchList(item, num)\n",
    "    \n",
    "    return result\n",
    "\n",
    "searchList([2, 3, [18, 22], 6], 22)"
   ]
  },
  {
   "cell_type": "markdown",
   "id": "d1eb0f10",
   "metadata": {},
   "source": [
    "### Friday: Binary Search Project\n",
    "\n",
    "This week’s project is all about understanding one of the more efficient algorithms in programming… Binary Search. When you need to search a list full of data, you need to do it efficiently. It may not make sense to create an algorithm for a list of ten items but imagine if it was one million items. You don’t want to search through the list item by item to try and find what you’re looking for. Instead, we use algorithms like Binary Search to perform these tasks.\n",
    "\n",
    "##### Overview\n",
    "\n",
    "Remember that algorithms are nothing more than a set of steps. Binary Search is no different. Each step for this algorithm is as follows:\n",
    "\n",
    "1. Sort the list.\n",
    "\n",
    "2. Find the middle index.\n",
    "\n",
    "3. Check the value at the middle index; if it’s the value we’re looking for, return True.\n",
    "\n",
    "4. Check the value at the middle index; if it’s greater than the value we’re looking for, cut off the right half of the list.\n",
    "\n",
    "5. Check the value at the middle index; if it’s less than the value we’re looking for, cut off the left half of the list.\n",
    "\n",
    "6. Repeat steps 2 through 6 until the list is empty.\n",
    "\n",
    "7. If the while loop ends, it means there’s no items left, so return False."
   ]
  },
  {
   "cell_type": "code",
   "execution_count": 33,
   "id": "f4641123",
   "metadata": {},
   "outputs": [
    {
     "ename": "SyntaxError",
     "evalue": "'return' outside function (<ipython-input-33-0a03074ba394>, line 16)",
     "output_type": "error",
     "traceback": [
      "\u001b[1;36m  File \u001b[1;32m\"<ipython-input-33-0a03074ba394>\"\u001b[1;36m, line \u001b[1;32m16\u001b[0m\n\u001b[1;33m    return True\u001b[0m\n\u001b[1;37m    ^\u001b[0m\n\u001b[1;31mSyntaxError\u001b[0m\u001b[1;31m:\u001b[0m 'return' outside function\n"
     ]
    }
   ],
   "source": [
    "# setting up imports and generating a list of random numbers to work with\n",
    "import random\n",
    "\n",
    "nums = [random.randint(0, 20) for i in range(10)] # Creat a list of ten numbers between 0 and 20\n",
    "\n",
    "def binarySearch(aList, num):\n",
    "    # step 1: sort list\n",
    "    aList.sort()\n",
    "\n",
    "# step 6: setup a loop to repeat step 2 through 6 until list is empty\n",
    "while aList:\n",
    "# step 2: find the middle index\n",
    "    mid = len(aList)//2  # two slashes means floor division - round down to the nearest whloe num\n",
    "# step 3: check the value at middle index, if it is equal to num return True\n",
    "    if aList[mid] == num:\n",
    "            return True\n",
    "\n",
    "# step 4: check if value is greater, if so, cut off right half of list using slicing\n",
    "    elif aList[mid] > num:\n",
    "        aList = aList[ : mid]\n",
    "# step 5: check if value is less, if so, cut off left half of list using slicing\n",
    "    elif aList[mid] < num:\n",
    "        aList = aList[mid + 1]\n",
    "# step 7: return False, if it makes it to this line it means the list was empty and num wasn't found\n",
    "    return False\n",
    "print(aList) # remove after working properly\n",
    "#print(mid) # remove once working\n",
    "print(sorted(nums)) # for debugging purposes\n",
    "print(binarySearch(nums, 3))\n"
   ]
  },
  {
   "cell_type": "code",
   "execution_count": 34,
   "id": "6c45b7fd",
   "metadata": {},
   "outputs": [
    {
     "name": "stdout",
     "output_type": "stream",
     "text": [
      "[2, 2, 3, 5, 5, 5, 6, 10, 13, 15]\n",
      "True\n"
     ]
    }
   ],
   "source": [
    "# full output of binary search without comments\n",
    "import random\n",
    "\n",
    "nums = [ random.randint(0, 20) for i in range(10) ]\n",
    "\n",
    "def binarySearch(aList, num):\n",
    "    aList.sort( )\n",
    "    \n",
    "    while aList:\n",
    "        mid = len(aList) // 2\n",
    "\n",
    "        if aList[mid] == num:\n",
    "            return True\n",
    "        elif aList[mid] > num:\n",
    "            aList = aList[ : mid ]\n",
    "        elif aList[mid] < num:\n",
    "            aList = aList[ mid + 1 : ]\n",
    "    \n",
    "    return False\n",
    "\n",
    "print( sorted(nums) )\n",
    "print( binarySearch(nums, 3) )"
   ]
  },
  {
   "cell_type": "code",
   "execution_count": null,
   "id": "a139d580",
   "metadata": {},
   "outputs": [],
   "source": []
  }
 ],
 "metadata": {
  "kernelspec": {
   "display_name": "Python 3 (ipykernel)",
   "language": "python",
   "name": "python3"
  },
  "language_info": {
   "codemirror_mode": {
    "name": "ipython",
    "version": 3
   },
   "file_extension": ".py",
   "mimetype": "text/x-python",
   "name": "python",
   "nbconvert_exporter": "python",
   "pygments_lexer": "ipython3",
   "version": "3.9.7"
  }
 },
 "nbformat": 4,
 "nbformat_minor": 5
}
