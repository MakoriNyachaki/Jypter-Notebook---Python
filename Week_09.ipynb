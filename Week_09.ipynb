{
 "cells": [
  {
   "cell_type": "markdown",
   "id": "1b654270",
   "metadata": {},
   "source": [
    "# CHAPTER NINE\n",
    "\n",
    "## Advanced Topics II: Complexity\n",
    "\n",
    "To begin the week, we’ll cover a concept that you’ve been using this whole time, generators and iterators. Over the following couple of days, we’ll cover decorators and modules, which will help us in building larger-scale applications. These concepts will help to understand how frameworks are used, like Flask and Django.\n",
    "\n",
    "On Thursday, we’ll dive into Big O Notation and understanding algorithms further.\n",
    "\n",
    "Overview\n",
    "\n",
    "• Understanding generator and iterator objects\n",
    "\n",
    "• Using and applying decorators\n",
    "\n",
    "• Creating and importing modules\n",
    "\n",
    "• What is time complexity and Big O Notation?\n",
    "\n",
    "• Knowing how to handle interviews, questions, and more"
   ]
  },
  {
   "cell_type": "markdown",
   "id": "9ef40a32",
   "metadata": {},
   "source": [
    "### Challenge Question\n",
    "\n",
    "As a programmer you must think about the time it takes to execute a program. Even a program that will give you 100% accurate answers can be useless if it doesn’t give the answer to you in time. Without looking it up, do you think lists or dictionaries are more efficient when needing to retrieve and store information?"
   ]
  },
  {
   "cell_type": "markdown",
   "id": "65cdaba0",
   "metadata": {},
   "source": [
    "### Monday: Generators and Iterators\n",
    "\n",
    "##### Iterators vs Iterables\n",
    "\n",
    "An iterator is an object that contains items which can be iterated upon, meaning you can traverse through all values. An iterable is a collection like lists, dictionaries, tuples, and sets. The major difference is that iterables are not iterators; rather they are containers for data. In Python, iterator objects implement the magic methods iter and next that allow you to traverse through its values.\n",
    "\n",
    "###### Creating a basic iterator\n",
    " We use the 'iter()'  function"
   ]
  },
  {
   "cell_type": "code",
   "execution_count": 2,
   "id": "49514580",
   "metadata": {},
   "outputs": [
    {
     "name": "stdout",
     "output_type": "stream",
     "text": [
      "Football\n",
      "Volleyball\n",
      "Hockey\n",
      "Handball\n",
      "Tennis\n"
     ]
    },
    {
     "ename": "StopIteration",
     "evalue": "",
     "output_type": "error",
     "traceback": [
      "\u001b[1;31m---------------------------------------------------------------------------\u001b[0m",
      "\u001b[1;31mStopIteration\u001b[0m                             Traceback (most recent call last)",
      "\u001b[1;32m<ipython-input-2-1cd35127e3bc>\u001b[0m in \u001b[0;36m<module>\u001b[1;34m\u001b[0m\n\u001b[0;32m      7\u001b[0m \u001b[1;32mfor\u001b[0m \u001b[0mitem\u001b[0m \u001b[1;32min\u001b[0m \u001b[0mmy_iter\u001b[0m\u001b[1;33m:\u001b[0m\u001b[1;33m\u001b[0m\u001b[1;33m\u001b[0m\u001b[0m\n\u001b[0;32m      8\u001b[0m     \u001b[0mprint\u001b[0m\u001b[1;33m(\u001b[0m\u001b[0mitem\u001b[0m\u001b[1;33m)\u001b[0m\u001b[1;33m\u001b[0m\u001b[1;33m\u001b[0m\u001b[0m\n\u001b[1;32m----> 9\u001b[1;33m \u001b[0mprint\u001b[0m\u001b[1;33m(\u001b[0m\u001b[0mnext\u001b[0m\u001b[1;33m(\u001b[0m\u001b[0mmy_iter\u001b[0m\u001b[1;33m)\u001b[0m\u001b[1;33m)\u001b[0m \u001b[1;31m# Will produce an error\u001b[0m\u001b[1;33m\u001b[0m\u001b[1;33m\u001b[0m\u001b[0m\n\u001b[0m",
      "\u001b[1;31mStopIteration\u001b[0m: "
     ]
    }
   ],
   "source": [
    "# Creating a basic iterator function from iterables\n",
    "\n",
    "sports = ['Football', 'Volleyball', 'Hockey', 'Handball', 'Tennis']\n",
    "my_iter = iter(sports)\n",
    "print(next(my_iter)) # outputs first item\n",
    "print(next(my_iter)) # outputs second item\n",
    "for item in my_iter:\n",
    "    print(item)\n",
    "print(next(my_iter)) # Will produce an error"
   ]
  },
  {
   "cell_type": "code",
   "execution_count": 6,
   "id": "ebb84305",
   "metadata": {},
   "outputs": [
    {
     "name": "stdout",
     "output_type": "stream",
     "text": [
      "a\n",
      "b\n",
      "c\n",
      "d\n",
      "e\n",
      "f\n",
      "g\n",
      "h\n",
      "i\n",
      "j\n",
      "k\n",
      "l\n",
      "m\n",
      "n\n",
      "o\n",
      "p\n",
      "q\n",
      "r\n",
      "s\n",
      "t\n",
      "u\n",
      "v\n",
      "w\n",
      "x\n",
      "y\n",
      "z\n"
     ]
    }
   ],
   "source": [
    "### Creating our own iterator\n",
    "# let’s create our own iterator class that will output each letter in the alphabet\n",
    "# To create an iterator, we’ll need to implement the magic methods __iter__() and __next__():\n",
    "\n",
    "# Creating our own iterator\n",
    "\n",
    "class Alphabet():\n",
    "    def __iter__(self):\n",
    "        self.letters = 'abcdefghijklmnopqrstuvwxyz'\n",
    "        self.index = 0\n",
    "        return self\n",
    "    \n",
    "    def __next__(self):\n",
    "        if self.index <= 25:\n",
    "            char = self.letters[self.index]\n",
    "            self.index += 1\n",
    "            return char\n",
    "        else:\n",
    "            raise StopIteration\n",
    "    \n",
    "for char in Alphabet():\n",
    "    print(char)"
   ]
  },
  {
   "cell_type": "markdown",
   "id": "d8d17a1c",
   "metadata": {},
   "source": [
    "##### Generators\n",
    "Generators are functions that yield back information to produce a sequence of results rather than a single value. They’re a way to simplify the creation of an iterator. Normally, when a function has completed its task and returned information, the variables declared inside of the function will be deleted.With generators, however, they use the “yield” keyword to send information back to the location it was called without terminating the function"
   ]
  },
  {
   "cell_type": "code",
   "execution_count": 8,
   "id": "67a344c2",
   "metadata": {},
   "outputs": [
    {
     "name": "stdout",
     "output_type": "stream",
     "text": [
      "Generator start value: 0\n",
      "For Loop X Value: 0\n",
      "Generator start value: 1\n",
      "For Loop X Value: 1\n",
      "Generator start value: 2\n",
      "For Loop X Value: 2\n",
      "Generator start value: 3\n",
      "For Loop X Value: 3\n",
      "Generator start value: 4\n",
      "For Loop X Value: 4\n"
     ]
    }
   ],
   "source": [
    "### Creating range genarator\n",
    "# creating our own range generator with start, stop, and step parameters\n",
    "\n",
    "def myRange(stop, start=0, step=1):\n",
    "    while start < stop:\n",
    "        print(\"Generator start value: {}\".format(start))\n",
    "        yield start\n",
    "        start += step # increment start, otherwise infinite loop\n",
    "for x in myRange(5):\n",
    "    print(\"For Loop X Value: {}\".format(x))"
   ]
  },
  {
   "cell_type": "markdown",
   "id": "2265ac13",
   "metadata": {},
   "source": [
    "#### Monday Exercises\n",
    "1. Reverse Iteration: Create an iterator that takes in a list, and when iterated over, it returns the information in a reverse order. Hint: When accepting arguments into an iterator, you need to use the init method, as well as iter and next. The following call should result in “5, 4, 3, 2, 1”.\n",
    "\n",
    ">>> for i in RevIter( [ 1, 2, 3, 4, 5 ] ):\n",
    "\n",
    "2. Squares: Create a generator that acts like the range function, except it yields a squared number every time. The result of the following call should be “0, 1, 4, 16”.\n",
    "\n",
    ">>> for i in range(4):"
   ]
  },
  {
   "cell_type": "code",
   "execution_count": 12,
   "id": "28339069",
   "metadata": {},
   "outputs": [
    {
     "name": "stdout",
     "output_type": "stream",
     "text": [
      "5\n",
      "4\n",
      "3\n",
      "2\n",
      "1\n"
     ]
    }
   ],
   "source": [
    "# creating an iterator that will iterate an iterable in reverse \n",
    "\n",
    "class ReverseIter():\n",
    "    def __init__(self, items):\n",
    "        self.items = items\n",
    "        self.i = len(items) - 1\n",
    "    def __iter__(self):\n",
    "        return self\n",
    "    def __next__(self):\n",
    "        if self.i >= 0:\n",
    "            item = self.items[self.i]\n",
    "            self.i -= 1\n",
    "            return item\n",
    "        else:\n",
    "            raise StopIteration\n",
    "rev_iter = ReverseIter([1, 2, 3, 4, 5])\n",
    "for num in rev_iter:\n",
    "    print(num)\n",
    "        "
   ]
  },
  {
   "cell_type": "code",
   "execution_count": 14,
   "id": "3de1016b",
   "metadata": {},
   "outputs": [
    {
     "name": "stdout",
     "output_type": "stream",
     "text": [
      "0\n",
      "1\n",
      "4\n",
      "9\n",
      "16\n"
     ]
    }
   ],
   "source": [
    "# Squares\n",
    "def squared(n):\n",
    "    for i in range(n+1):\n",
    "        yield i**2\n",
    "for x in squared(4):\n",
    "    print(x)"
   ]
  },
  {
   "cell_type": "markdown",
   "id": "a7c2a301",
   "metadata": {},
   "source": [
    "### Tuesday: Decorators\n",
    "\n",
    "Decorators, also known as wrappers, are functions that give other functions extra capabilities without explicitly modifying them. They are denoted by the “@” symbol in front of the function name, which is written above a function declaration like the following:\n",
    "\n",
    ">>> @decorator\n",
    ">>> def normalFunc( ):\n",
    "\n",
    "Decorators are useful when you want to perform some functionality before or after a function executes. For example, let’s imagine you wanted to restrict access to\n",
    "a function based on a user being logged in. Rather than writing the same conditional statement for every function you create, you could put the code into a decorator and apply the decorator onto all functions. Now, whenever a function is called, the conditional statement will still run, but you were able to save yourself several lines.\n",
    "This is a real-life example for the Flask framework, which restricts access to certain pages based on user authentication using decorators.\n",
    "\n",
    "###### Higher order functions\n",
    "\n",
    "A higher-order function is a function that operates on other functions, either by taking a function as its argument or by returning a function."
   ]
  },
  {
   "cell_type": "code",
   "execution_count": 15,
   "id": "ffcd9a2a",
   "metadata": {},
   "outputs": [
    {
     "name": "stdout",
     "output_type": "stream",
     "text": [
      "========\n",
      "Makori\n",
      "========\n"
     ]
    }
   ],
   "source": [
    "# Creating and applying our own decorator using the @ symbol\n",
    "def decorator(func):\n",
    "    def wrap():\n",
    "        print(\"========\")\n",
    "        func()\n",
    "        print(\"========\")\n",
    "    return wrap\n",
    "@decorator\n",
    "def printName():\n",
    "    print(\"Makori\")\n",
    "printName()"
   ]
  },
  {
   "cell_type": "code",
   "execution_count": 1,
   "id": "5df32646",
   "metadata": {},
   "outputs": [
    {
     "name": "stdout",
     "output_type": "stream",
     "text": [
      "Hello\n",
      "Hello\n",
      "Hello\n",
      "Hello\n"
     ]
    }
   ],
   "source": [
    "# Creting a decorator that takes in parameters\n",
    "def run_times(num):\n",
    "    def wrap(func):\n",
    "        for i in range(num):\n",
    "            func()\n",
    "    return wrap\n",
    "@run_times(4)\n",
    "def sayHello():\n",
    "    print(\"Hello\")\n",
    "    \n",
    "# Note When passing an argument into a decorator, the function is automatically\n",
    "# run, so we do not need to call sayHello in this instance."
   ]
  },
  {
   "cell_type": "code",
   "execution_count": 11,
   "id": "f363a3b5",
   "metadata": {},
   "outputs": [
    {
     "name": "stdout",
     "output_type": "stream",
     "text": [
      "Happy birthday Makori, you are now 21.\n"
     ]
    }
   ],
   "source": [
    "# Functions with decorators and parameters\n",
    "# When you need a functionto accept arguments, while also having a decoarator attached to it,\n",
    "#the wrap function must take in the same arguments as the original function\n",
    "\n",
    "# Creating a decorator for a function that accepts parameters\n",
    "def birthday(func):\n",
    "    def wrap(name, age):\n",
    "        func(name, age+1)\n",
    "    return wrap\n",
    "@birthday\n",
    "def celebrate(name, age):\n",
    "    print(\"Happy birthday {}, you are now {}.\".format(name, age))\n",
    "celebrate(\"Makori\", 20)"
   ]
  },
  {
   "cell_type": "code",
   "execution_count": 16,
   "id": "78b185df",
   "metadata": {},
   "outputs": [
    {
     "name": "stdout",
     "output_type": "stream",
     "text": [
      "What is the password?fdsjk\n",
      "Access Denied!\n"
     ]
    }
   ],
   "source": [
    "#### Restricting Function Access ####\n",
    "# Real world sim restricting function access\n",
    "def login_required(func):\n",
    "    def wrap(user):\n",
    "        password = input(\"What is the password?\")\n",
    "        if password == user[\"password\"]:\n",
    "            func(user)\n",
    "        else:\n",
    "            print(\"Access Denied!\")\n",
    "    return wrap\n",
    "@login_required\n",
    "def restrictedFunc(user):\n",
    "    print(\"Access granted, welcome {}\".format(user[\"name\"]))\n",
    "user = {\"name\": \"Makori\", \"password\": \"qwerty\"}\n",
    "restrictedFunc(user)"
   ]
  },
  {
   "cell_type": "markdown",
   "id": "a2b7c82b",
   "metadata": {},
   "source": [
    "###### Tuesday Exercises\n",
    "\n",
    "1. User Input: Create a decorator that will ask the user for a number, and run the function it is attached to only if the number is less than 100. The function should simply output “Less than 100”. Use the function declaration in the following:\n",
    "\n",
    "    @decorator\n",
    "    \n",
    "    def numbers( ):\n",
    "    \n",
    "        print(\"Less than 100\")\n",
    "        \n",
    "2. Creating a Route: Create a decorator that takes in a string as an argument with a wrap function that takes in func. Have the wrap function print out the string, and run the function passed in. The function passed in doesn’t need to do anything. In Flask, you can create a page by using decorators that accept a URL string. Use the function declaration in the following to start:\n",
    "\n",
    "    @route(\"/index\")\n",
    "    \n",
    "    def index( ):\n",
    "    \n",
    "        print(\"This is how web pages are made in Flask\")"
   ]
  },
  {
   "cell_type": "code",
   "execution_count": 6,
   "id": "33246616",
   "metadata": {},
   "outputs": [
    {
     "name": "stdout",
     "output_type": "stream",
     "text": [
      "Enter a number: 23\n",
      "Less than 100\n"
     ]
    }
   ],
   "source": [
    "#User Input\n",
    "\n",
    "def lessHund(func):\n",
    "    def wrap():\n",
    "        num = int(input(\"Enter a number: \"))\n",
    "        if num < 100:\n",
    "            func()\n",
    "    return wrap\n",
    "@lessHund\n",
    "def numbers():\n",
    "    print(\"Less than 100\")\n",
    "    \n",
    "numbers()"
   ]
  },
  {
   "cell_type": "code",
   "execution_count": 11,
   "id": "a1aa596d",
   "metadata": {},
   "outputs": [
    {
     "name": "stdout",
     "output_type": "stream",
     "text": [
      "<function route at 0x000002AB43244820>\n",
      "This is how a web page is made in Flask\n"
     ]
    }
   ],
   "source": [
    "## Creating a route\n",
    "def route(func):\n",
    "    def wrap(f):\n",
    "        print(route)\n",
    "        f()\n",
    "    return wrap\n",
    "@route(\"/index\")\n",
    "def index():\n",
    "    print(\"This is how a web page is made in Flask\")"
   ]
  },
  {
   "cell_type": "markdown",
   "id": "c9706c69",
   "metadata": {},
   "source": [
    "### Wednesday: Modules\n",
    "\n",
    "Most programs tend to include so many lines of code that you wouldn’t store it all within a single file. Instead you separate the code into several files, which helps to keep the project organized. Each one of these files is known as modules. Within these modules are variables, functions, classes, etc., that you can import into a project."
   ]
  },
  {
   "cell_type": "code",
   "execution_count": 14,
   "id": "4d112f68",
   "metadata": {},
   "outputs": [
    {
     "name": "stdout",
     "output_type": "stream",
     "text": [
      "2\n",
      "3\n",
      "3.141592653589793\n"
     ]
    }
   ],
   "source": [
    "# Import the entire math module\n",
    "import math\n",
    "print(math.floor(2.5)) # rounds down\n",
    "print(math.ceil(2.5)) # rounds up\n",
    "print(math.pi)"
   ]
  },
  {
   "cell_type": "code",
   "execution_count": 17,
   "id": "d41373b7",
   "metadata": {},
   "outputs": [
    {
     "name": "stdout",
     "output_type": "stream",
     "text": [
      "2\n",
      "3.141592653589793\n"
     ]
    }
   ],
   "source": [
    "# Importing only functions and variables rather than an entire module\n",
    "from math import floor, pi\n",
    "print(floor(2.5))\n",
    "print(pi)\n",
    "#print(ceil(2.5)) # Will cause an error because we only imported floor and pi, not ceil and not all of math\n",
    "# Note Y ou can import classes from modules the same way as earlier; simply use\n",
    "# the name of the class."
   ]
  },
  {
   "cell_type": "code",
   "execution_count": 18,
   "id": "6fe3057e",
   "metadata": {},
   "outputs": [
    {
     "name": "stdout",
     "output_type": "stream",
     "text": [
      "9\n"
     ]
    }
   ],
   "source": [
    "# Using the 'as' keyword to create an alias for imports\n",
    "from math import floor as f\n",
    "print(f(9.7))"
   ]
  },
  {
   "cell_type": "code",
   "execution_count": 27,
   "id": "c59850b0",
   "metadata": {},
   "outputs": [
    {
     "name": "stdout",
     "output_type": "stream",
     "text": [
      "5 10\n",
      "Black Smith is 32 years old.\n"
     ]
    }
   ],
   "source": [
    "# using the run command with jupyter Notebook to access our own modules\n",
    "%run test.py\n",
    "\n",
    "print(length, width)\n",
    "printInfo(\"Black Smith\", 32)\n",
    "# Able to call from the module because we ran the file in jupyter above"
   ]
  },
  {
   "cell_type": "code",
   "execution_count": 32,
   "id": "35f4a776",
   "metadata": {},
   "outputs": [
    {
     "name": "stdout",
     "output_type": "stream",
     "text": [
      "5\n"
     ]
    }
   ],
   "source": [
    "# To import from our module test\n",
    "\n",
    "from test import length, width, printInfo\n",
    "print(length)\n",
    "\n",
    "# Note You can place any modules you create within the Python folder on your\n",
    "# hard drive. Once the files are there, they can be accessed normally rather than\n",
    "# using the run command."
   ]
  },
  {
   "cell_type": "markdown",
   "id": "a59bea15",
   "metadata": {},
   "source": [
    "##### Wednesday Exercise\n",
    "\n",
    "1. Time Module: Import the time module and call the sleep function. Make the cell sleep for 5 seconds, and then print “Time module imported”. Although we haven’t covered this module, this exercise will provide good practice for you to try and work with a module on your own. Feel free to use Google, Quora, etc.\n",
    "\n",
    "2. Calculating Area: Create a module named “calculation.py” that has a single function within it. That function should take in two parameters and return the product of them. We can imagine that we’re trying to calculate the area of a rectangle and it needs to take in the length and width properties. Run the module within Jupyter Notebook, and use the following function call within the cell:\n",
    "    \n",
    "        calcArea(15, 30)"
   ]
  },
  {
   "cell_type": "code",
   "execution_count": 1,
   "id": "24451438",
   "metadata": {},
   "outputs": [
    {
     "name": "stdout",
     "output_type": "stream",
     "text": [
      "Sleep module imported\n"
     ]
    }
   ],
   "source": [
    "# Time module\n",
    "import time\n",
    "\n",
    "time.sleep(5)\n",
    "print(\"Sleep module imported\")    "
   ]
  },
  {
   "cell_type": "code",
   "execution_count": 2,
   "id": "d9f6c18b",
   "metadata": {},
   "outputs": [
    {
     "name": "stdout",
     "output_type": "stream",
     "text": [
      "Sleep module imported\n"
     ]
    }
   ],
   "source": [
    "from time import sleep\n",
    "sleep(5)\n",
    "print(\"Sleep module imported\")"
   ]
  },
  {
   "cell_type": "code",
   "execution_count": 2,
   "id": "3f85d534",
   "metadata": {},
   "outputs": [
    {
     "name": "stdout",
     "output_type": "stream",
     "text": [
      "Enter the length of the cube: 5\n",
      "The Volume of the cube with side 5.0 is 125.0 cubic units \n"
     ]
    }
   ],
   "source": [
    "from calculation import areaRect, areaCi, volCube\n",
    "volCube()"
   ]
  },
  {
   "cell_type": "markdown",
   "id": "aea45888",
   "metadata": {},
   "source": [
    "### Thursday : Understanding Algorithmic Complexity\n",
    "\n",
    "##### Big O Notation\n",
    "\n",
    "It is the concept to describe how long an algorithm or program takes to execute. Take a list, for example. As the number of items within the list grows, so does the amount of time it takes to iterate over the list. This is known as O(n), where n represents the number of operations. It’s called Big O Notation because you put a “Big O” in front of\n",
    "the number of operations.\n",
    "\n",
    "Big O establishes a worst-case scenario runtime.\n",
    "\n",
    "The most efficient Big O Notation is O(1), also known as constant time. It means that no matter how many items or steps are required, it will always take the same amount of\n",
    "time and generally occurs instantly. If we took the same list of 100 items and accessed an index directly, this would be known as O(1). We would retrieve the value in that index\n",
    "immediately without needing to iterate over the list.\n",
    "\n",
    "One of the least efficient time complexities is O(n∗∗2). This is a representation of a double loop. Our Bubble Sort algorithm that we wrote uses a double for loop and is known as one of the less efficient sorting algorithms in programming; however, it is simple to understand, so it makes for a good introduction into algorithms\n",
    "\n",
    "##### Hash Tables\n",
    "\n",
    "When we originally covered dictionaries, we went over hashing very briefly. Dictionaries can be accessed in O(1) complexity because of how they are stored in memory. They use hash tables to store the key-value pairs. Before we cover hash tables though, let’s have a quick refresher on the hash function and how to use it:\n",
    "    a, c = 'bo', \"bob\"\n",
    "    b = a\n",
    "    print(hash(a), hash(b), hash(c))\n",
    "    \n",
    "From the preceding code, we would get the same values for a and b and a separate value for the hash of c. Hash functions are used to create an integer representation of a given value.\n",
    "\n",
    "When dictionaries store key-value pairs into memory, they use this concept. A hash table is used to store a hash, a key, and a value. The hash stored is used for when you need to retrieve a given value by the key.\n",
    "\n",
    "Dictionaries are helpful data collections for not only keeping information connected but also improving efficiency. Keep this in mind when you’re trying to answer programming questions or making a program faster. Like the information on Big O Notation, this is simply an introduction into hash tables.\n",
    "\n",
    "##### Dictionaries vs Lists\n",
    "\n",
    "To understand the true power of a hash table and Python dictionaries, let’s compare it against a list. We’ll write a conditional statement to have Python check for a given item\n",
    "within a dictionary and list, and we’ll time how long each one takes. We’re going to separate the code into two cells. The first cell will generate the dictionary and list with 10\n",
    "million items:"
   ]
  },
  {
   "cell_type": "code",
   "execution_count": 4,
   "id": "cf430764",
   "metadata": {},
   "outputs": [],
   "source": [
    "# Creating data collections to test for time complexity\n",
    "import time\n",
    "d={} # generate a fake dictionary\n",
    "for i in range(10000000):\n",
    "    d[i] = \"value\"\n",
    "big_list = [x for x in range(10000000)] #generate fake list\n",
    "\n",
    "# Go ahead and run the cell. Nothing will happen yet. We’ve simply made the variables\n",
    "# within this cell so that we don’t have to re-create them, as it takes a couple seconds\n",
    "# depending on your computer. In the following cell, we’re going to keep a timer on how\n",
    "# long each data collection takes to find the last element. We’ll use the time module in\n",
    "# order to track the start and end time:"
   ]
  },
  {
   "cell_type": "code",
   "execution_count": 7,
   "id": "77bef6a3",
   "metadata": {},
   "outputs": [
    {
     "name": "stdout",
     "output_type": "stream",
     "text": [
      "Found in dictionary\n",
      "Elapsed time for dictionary: 0.0\n",
      "Found in list\n",
      "Elapsed time for list: 0.2445058822631836\n"
     ]
    }
   ],
   "source": [
    "# retrieving information and tracking time to see which is faster\n",
    "start_time = time.time() # tracking time for the dictionary\n",
    "if 9999999 in d:\n",
    "    print(\"Found in dictionary\")\n",
    "end_time = time.time() - start_time\n",
    "print(\"Elapsed time for dictionary: {}\".format(end_time))\n",
    "start_time = time.time() # tracking time for list\n",
    "if 9999999 in big_list:\n",
    "    print(\"Found in list\")\n",
    "end_time = time.time()-start_time\n",
    "print(\"Elapsed time for list: {}\".format(end_time))\n",
    "\n",
    "# You’ll notice there’s a large difference between the two times. The list\n",
    "# will usually take between 1 and 1.5 seconds, whereas the dictionary is almost instant\n",
    "# every time. Now this doesn’t seem like that big of a difference, but what if you needed\n",
    "# to search for 1000 items. Using a list now becomes a problem, as a dictionary would\n",
    "# continue to do it instantly, but the list would take much longer.\n",
    "\n",
    "# Note T he time module gets time in UTC (universal time) unless otherwise stated.\n",
    "# UTC began on January 1, 1970. The number you see when you output time.time()\n",
    "# is the number of seconds since that day at 12:00 AM."
   ]
  },
  {
   "cell_type": "code",
   "execution_count": 13,
   "id": "816e8782",
   "metadata": {},
   "outputs": [],
   "source": [
    "##### Battle for Algorithms #####\n",
    "# We’re going to test Bubble Sort against another sorting algorithm called Insertion Sort.\n",
    "# testing bubble sort vs. insertion sort\n",
    "\n",
    "def bubbleSort(aList):\n",
    "    for i in range(len(aList)-1):\n",
    "        switched = False\n",
    "        for j in range(len(aList)-1):\n",
    "            if aList[j] > aList[j+1]:\n",
    "                aList[j], aList[j+1] = aList[j+1], aList[j]\n",
    "                switched = True\n",
    "        if switched == False:\n",
    "            break\n",
    "    return aList\n",
    "def insertionSort(aList):\n",
    "    for i in range(1, len(aList)):\n",
    "        if aList[i] < aList [i -1]:\n",
    "            for j in range(i, 0, -1):\n",
    "                if aList[j] < aList[j-1]:\n",
    "                    alist[j], aList[j+1] = aList\n",
    "                    [j + 1], aList[j]\n",
    "        else:\n",
    "            break\n",
    "    return aList\n",
    "# Go ahead and run the cell. Now that we’ve defined the two functions we need to call, let’s\n",
    "# set up some random data to be sorted and set up a timer like we did in the previous section:"
   ]
  },
  {
   "cell_type": "code",
   "execution_count": 15,
   "id": "ba5c1abf",
   "metadata": {},
   "outputs": [
    {
     "name": "stdout",
     "output_type": "stream",
     "text": [
      "Elapsed time for bubble sort: 10.820465087890625\n",
      "Elapsed time for insertion sort: 0.0\n"
     ]
    }
   ],
   "source": [
    "# Calling bubble sort and insertion sort to test time complexity\n",
    "from random import randint\n",
    "nums = [randint(0, 100) for x in range(5000)]\n",
    "start_time = time.time() # tracking time bubble sort\n",
    "bubbleSort(nums)\n",
    "end_time = time.time()-start_time\n",
    "print(\"Elapsed time for bubble sort: {}\".format(end_time))\n",
    "start_time = time.time() # tracking time for insertion sort\n",
    "insertionSort(nums)\n",
    "end_time = time.time()-start_time\n",
    "print(\"Elapsed time for insertion sort: {}\".format(end_time))\n",
    "\n",
    "# Although both use the concept of a double for loop,\n",
    "# Bubble Sort’s steps are much more inefficient because it starts at the front of the list each\n",
    "# time. It’s always important to keep time complexity in mind when designing your program\n",
    "# and algorithms. If you’re ever unsure what’s best to use, try testing it like we have here."
   ]
  },
  {
   "cell_type": "markdown",
   "id": "ac6d730c",
   "metadata": {},
   "source": [
    "##### Thursday Exercises\n",
    "1. Merge Sort: Do some research, and try to find out the “Big O” representation for a Merge Sort algorithm.\n",
    "\n",
    "2. Binary Search: What is the max number of guesses it would take for a Binary Search to find a number within a list of 10 million numbers?\n"
   ]
  },
  {
   "cell_type": "code",
   "execution_count": 16,
   "id": "14c02ac4",
   "metadata": {},
   "outputs": [],
   "source": [
    "nums = [x for x in range(10000000)]"
   ]
  },
  {
   "cell_type": "code",
   "execution_count": 19,
   "id": "b81a44da",
   "metadata": {},
   "outputs": [
    {
     "name": "stdout",
     "output_type": "stream",
     "text": [
      "# of items in list: 10000000 \t\t # of guesses: 0\n",
      "# of items in list: 5000000 \t\t # of guesses: 1\n",
      "# of items in list: 2500000 \t\t # of guesses: 2\n",
      "# of items in list: 1250000 \t\t # of guesses: 3\n",
      "# of items in list: 625000 \t\t # of guesses: 4\n",
      "# of items in list: 312500 \t\t # of guesses: 5\n",
      "# of items in list: 156250 \t\t # of guesses: 6\n",
      "# of items in list: 78125 \t\t # of guesses: 7\n",
      "# of items in list: 39062 \t\t # of guesses: 8\n",
      "# of items in list: 19531 \t\t # of guesses: 9\n",
      "# of items in list: 9765 \t\t # of guesses: 10\n",
      "# of items in list: 4882 \t\t # of guesses: 11\n",
      "# of items in list: 2441 \t\t # of guesses: 12\n",
      "# of items in list: 1220 \t\t # of guesses: 13\n",
      "# of items in list: 610 \t\t # of guesses: 14\n",
      "# of items in list: 305 \t\t # of guesses: 15\n",
      "# of items in list: 152 \t\t # of guesses: 16\n",
      "# of items in list: 76 \t\t # of guesses: 17\n",
      "# of items in list: 38 \t\t # of guesses: 18\n",
      "# of items in list: 19 \t\t # of guesses: 19\n",
      "# of items in list: 9 \t\t # of guesses: 20\n",
      "# of items in list: 4 \t\t # of guesses: 21\n",
      "# of items in list: 2 \t\t # of guesses: 22\n",
      "# of items in list: 1 \t\t # of guesses: 23\n"
     ]
    },
    {
     "data": {
      "text/plain": [
       "True"
      ]
     },
     "execution_count": 19,
     "metadata": {},
     "output_type": "execute_result"
    }
   ],
   "source": [
    "# binary search\n",
    "def binarySearch(aList, num):\n",
    "    guesses = 0\n",
    "    \n",
    "    while aList:\n",
    "        print(\"# of items in list: {} \\t\\t # of guesses: {}\".format(len(aList), guesses))\n",
    "        guesses += 1\n",
    "        \n",
    "        mid = len(aList)//2\n",
    "        if aList[mid] == num:\n",
    "            return True\n",
    "        elif aList[mid] > num:\n",
    "            aList = aList[:mid]\n",
    "        elif aList[mid] < num:\n",
    "            aList = aList[mid+1]\n",
    "    return False\n",
    "binarySearch(nums, 0) # The answer is 23"
   ]
  },
  {
   "cell_type": "markdown",
   "id": "4c507533",
   "metadata": {},
   "source": [
    "### Friday: Interview Prep"
   ]
  },
  {
   "cell_type": "code",
   "execution_count": null,
   "id": "2cc30a64",
   "metadata": {},
   "outputs": [],
   "source": []
  }
 ],
 "metadata": {
  "kernelspec": {
   "display_name": "Python 3",
   "language": "python",
   "name": "python3"
  },
  "language_info": {
   "codemirror_mode": {
    "name": "ipython",
    "version": 3
   },
   "file_extension": ".py",
   "mimetype": "text/x-python",
   "name": "python",
   "nbconvert_exporter": "python",
   "pygments_lexer": "ipython3",
   "version": "3.8.8"
  }
 },
 "nbformat": 4,
 "nbformat_minor": 5
}
