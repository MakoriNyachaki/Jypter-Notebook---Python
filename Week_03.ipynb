{
 "cells": [
  {
   "cell_type": "markdown",
   "id": "0136ebcc",
   "metadata": {},
   "source": [
    "### CHAPTER THREE\n",
    "### User Input and Conditionals"
   ]
  },
  {
   "cell_type": "markdown",
   "id": "38337d6c",
   "metadata": {},
   "source": [
    "### Introduction and Weekly hallenge\n",
    "\n",
    "\n",
    "This week’s challenge is to test your ability to read code. I want you to read the code block\n",
    "and think about whether it will work or not. If you believe it will not work, I want you to make a\n",
    "note of why it won’t. It’s important to be able to both read and write:\n",
    "\n",
    "            print('{} is my favorite sport'.format(element))\n",
    "            element = 'Football'\n",
    "\n",
    "My Answer: The code does not work simply because the variable element has been called before it is being declared therefore not defined."
   ]
  },
  {
   "cell_type": "code",
   "execution_count": 1,
   "id": "86b6d1fd",
   "metadata": {},
   "outputs": [
    {
     "ename": "NameError",
     "evalue": "name 'element' is not defined",
     "output_type": "error",
     "traceback": [
      "\u001b[1;31m---------------------------------------------------------------------------\u001b[0m",
      "\u001b[1;31mNameError\u001b[0m                                 Traceback (most recent call last)",
      "\u001b[1;32m<ipython-input-1-a3711a71f1e0>\u001b[0m in \u001b[0;36m<module>\u001b[1;34m\u001b[0m\n\u001b[1;32m----> 1\u001b[1;33m \u001b[0mprint\u001b[0m\u001b[1;33m(\u001b[0m\u001b[1;34m\"{} is my favorite sport.\"\u001b[0m\u001b[1;33m.\u001b[0m\u001b[0mformat\u001b[0m\u001b[1;33m(\u001b[0m\u001b[0melement\u001b[0m\u001b[1;33m)\u001b[0m\u001b[1;33m)\u001b[0m\u001b[1;33m\u001b[0m\u001b[1;33m\u001b[0m\u001b[0m\n\u001b[0m\u001b[0;32m      2\u001b[0m \u001b[0melement\u001b[0m \u001b[1;33m=\u001b[0m \u001b[1;34m\"Football\"\u001b[0m\u001b[1;33m\u001b[0m\u001b[1;33m\u001b[0m\u001b[0m\n",
      "\u001b[1;31mNameError\u001b[0m: name 'element' is not defined"
     ]
    }
   ],
   "source": [
    "print(\"{} is my favorite sport.\".format(element))\n",
    "element = \"Football\""
   ]
  },
  {
   "cell_type": "markdown",
   "id": "5fa37cfb",
   "metadata": {},
   "source": [
    "#### Monday: User Input and Type Converting"
   ]
  },
  {
   "cell_type": "code",
   "execution_count": null,
   "id": "fefc491e",
   "metadata": {},
   "outputs": [],
   "source": [
    "###Accepting user input\n",
    "#we use the input() function which works like the print\n",
    "#function it outputs text in parenthesis and besides it provides a box for mor user input\n",
    "\n",
    "#Accepting and returning user input\n",
    "\n",
    "print(input(\"What is your name? \"))\n",
    "\n",
    "#Information entered is taken into the program as a string."
   ]
  },
  {
   "cell_type": "code",
   "execution_count": 5,
   "id": "6559d821",
   "metadata": {},
   "outputs": [
    {
     "name": "stdout",
     "output_type": "stream",
     "text": [
      "What is your name? Makori\n",
      "Hello Makori\n",
      "<class 'int'>\n",
      "Type a number to add: 6782\n",
      "<class 'str'>\n",
      "100 + 6782 = 6882\n"
     ]
    }
   ],
   "source": [
    "## Storing user input\n",
    "#We need to store the input in a variable\n",
    "\n",
    "ans = input(\"What is your name? \")\n",
    "print(\"Hello {}\".format(ans))\n",
    "\n",
    "###Type Conversion\n",
    "#Python defines type conversion functions to directly convert one data type to another\n",
    "#which is useful in day-to-day and competitive programming\n",
    "#Any input is taken in as a string and therefore you need to specify any input and its type.\n",
    "#first check the type of the input\n",
    "\n",
    "num =  7\n",
    "\n",
    "# Python gives us the ability to type convert easily from one type to another simply by\n",
    "# wrapping the type around the variable. Let’s check out an example of converting a string\n",
    "# to an int:\n",
    "\n",
    "#Converting one data type to another\n",
    "\n",
    "num=int(num) #re-declaring num variable\n",
    "print(type(num))  #checking type to make sure conversion worked\n",
    "\n",
    "#Let’s try working with a user’s input in order to add 100 to whatever they type:\n",
    "ans = input(\"Type a number to add: \")\n",
    "print(type(ans))#Default type is string, must convert\n",
    "result = 100 + int(ans)\n",
    "print(\"100 + {} = {}\".format(ans, result))\n"
   ]
  },
  {
   "cell_type": "code",
   "execution_count": 13,
   "id": "04a4358a",
   "metadata": {},
   "outputs": [
    {
     "name": "stdout",
     "output_type": "stream",
     "text": [
      "Type a number to add: \n",
      "This program did not break!\n"
     ]
    }
   ],
   "source": [
    "###Handling errors\n",
    "# try and catch is a generic function used to handle errors in python\n",
    "#we can also use other methods such as isalpha() and isalmum() to handle errors\n",
    "#Example: using the try and except blocks, use tab to indent where necessary try:\n",
    "\n",
    "try:\n",
    "    ans = float(input(\"Type a number to add: \"))\n",
    "    print(\"100 + {} = {}\".format(ans, 100+ans))\n",
    "    print(\"You did not put in a valid number!\")\n",
    "\n",
    "except:\n",
    "\n",
    "## without try/except print statement would not get hit if error occurs\n",
    "    print(\"This program did not break!\")\n",
    "\n",
    "#Note The indents must be consistent. It does not always need to be four spaces;\n",
    "#however, a tab is four spaces, so it's usually easier to indent with tabs."
   ]
  },
  {
   "cell_type": "code",
   "execution_count": 18,
   "id": "c6c50799",
   "metadata": {},
   "outputs": [
    {
     "name": "stdout",
     "output_type": "stream",
     "text": [
      "<class 'bool'>\n",
      "Enter the first number: 5563\n",
      "Enter the second number: 3\n",
      "val1 + val2 = 5566\n",
      "Enter the car's year: \n",
      "You did not enter any input.\n"
     ]
    }
   ],
   "source": [
    "#### Monday exercises\n",
    "# Converting: Try converting a string of “True” to a boolean, and then output its\n",
    "# type to make sure it converted properly.\n",
    "\n",
    "stru = \"True\"\n",
    "stru = bool(stru)\n",
    "print(type(stru))\n",
    "\n",
    "# Sum of Inputs: Create two input statements, and ask the user to enter two\n",
    "# numbers. Print the sum of these numbers out.\n",
    "\n",
    "val1 = int(input(\"Enter the first number: \"))\n",
    "val2 = int(input(\"Enter the second number: \"))\n",
    "result = val1 + val2\n",
    "print(\"val1 + val2 = {}\".format(result))\n",
    "\n",
    "# Car Information: Ask the user to input the year, make, model, and color of\n",
    "# their car, and print a nicely formatted statement like “2018 Blue Chevrolet Silverado.”\n",
    "\n",
    "try:\n",
    "    yr = int(input(\"Enter the car's year: \"))\n",
    "    make = str(input(\"Enter the car's make: \"))\n",
    "    model = str(input(\"Enter the car's model: \"))\n",
    "    color = str(input(\"Enter the car's color: \"))\n",
    "    print(\"This is a {} {} {} {} car\".format(yr, color, make, model))\n",
    "    \n",
    "except:\n",
    "    print(\"You did not enter any input.\")"
   ]
  },
  {
   "cell_type": "markdown",
   "id": "b64fdc90",
   "metadata": {},
   "source": [
    "### Tuesday: If Statements"
   ]
  },
  {
   "cell_type": "code",
   "execution_count": 16,
   "id": "f4500f24",
   "metadata": {},
   "outputs": [
    {
     "name": "stdout",
     "output_type": "stream",
     "text": [
      "X is less than Y\n",
      "What is 5 + 5?: 243\n",
      "you got it wrong!\n",
      "Both statements were true\n",
      "One or both statements were true\n",
      "Flag is false\n",
      "Baseball has the word 'Base'\n",
      "Baseball does not have 'base'\n",
      "includes has an 'es'\n",
      "What is your string?: nf\n",
      "n\n",
      "What is your first string?: c23\n",
      "What is your secong string?: dsc\n",
      "Both strings are not similar\n",
      "Enter the number you want to square: 56\n",
      "Invalid number\n"
     ]
    }
   ],
   "source": [
    "#if or branching statements helps the computer to execute a program depending on the kind of user input.\n",
    "#using the if condition if the requirement is met\n",
    "\n",
    "x, y = 73, 80\n",
    "if x<y: #if  condition\n",
    "    print(\"X is less than Y\")  #output if the if condition is true\n",
    "else:\n",
    "    print(\"X is greater than Y\") #output if the if condition is false\n",
    "    \n",
    "\n",
    "#Comparison operators\n",
    "#w3 Schools1 has great reference material for additional information on the many different types of operators.\n",
    "#>>>>>>>>>>>   www.w3schools.com/python/python_operators.asp   >>>>>>>>>>>>>\n",
    "\n",
    "#checkin user input\n",
    "ans = int(input(\"What is 5 + 5?: \"))\n",
    "if ans == 10:\n",
    "    print(\"You got it right!\")\n",
    "else:\n",
    "    print(\"you got it wrong!\")\n",
    "    \n",
    "    \n",
    "##Logical Operators are used to combine many conditional operators\n",
    "#The “and” logical operator is to ensure that, when you check multiple conditions, both\n",
    "# sides of the condition are \"True\"\n",
    "# uses  the keyword \"and\"\n",
    "#using the keyword \"and\" in an \"if statement\"\n",
    "\n",
    "x, y, z = 5, 10, 5\n",
    "if x<y and x==z:\n",
    "    print(\"Both statements were true\")\n",
    "else:\n",
    "    print(\"Both statements were not true\")\n",
    "    \n",
    "    \n",
    "#Logical operator \"or\" \n",
    "#The “or” logical operator is used to check for one or both conditions to be true\n",
    "#using the keyword \"or\" in an \"if statement\"\n",
    "\n",
    "if x<y or x!=z:\n",
    "    print(\"One or both statements were true\")\n",
    "else:\n",
    "    print(\"Both statements were false\")\n",
    "\n",
    "#Logical operator not returns the opposite of whatever the current value is\n",
    "#it uses the \"not\" keyword\n",
    "#The \"not\" keyword on an \"if statement\"\n",
    "\n",
    "flag = False;\n",
    "if not flag:\n",
    "    print(\"Flag is false\")\n",
    "else:\n",
    "    print(\"Flag is true\")\n",
    "##Membership operators are used to test if a sequence appears in an object.\n",
    "#there are two keywords used to check if a value exists in an object or not\n",
    "# The two keywords are: \"in\" and \"not in\"\n",
    "#using the keyword \"in\" in an if \"statement\"\n",
    "\n",
    "sport = \"Baseball\"\n",
    "if \"Base\" in sport:\n",
    "    print(\"{} has the word 'Base'\".format(sport))\n",
    "    \n",
    "    \n",
    "#using the keyword \"not in\" within an \"if statement\"\n",
    "if \"base\" not in sport:\n",
    "    print(\"{} does not have 'base'\".format(sport))\n",
    "    \n",
    "    \n",
    "### Tuesday Exercises\n",
    "    \n",
    "# Checking Inclusion – Part 1: Ask the user for input, and check to see if what\n",
    "# they wrote includes an “es”.\n",
    "\n",
    "word = \"includes\"\n",
    "if \"es\" in word:\n",
    "    print(\"{} has an 'es'\".format(word))\n",
    "    \n",
    "# Checking Inclusion – Part 2: Ask the user for input, and check to see if what\n",
    "# they wrote has an “ing” at the end. Hint: Use slicing.\n",
    "\n",
    "keep = str(input(\"What is your string?: \"))\n",
    "print(keep[-3:-1])#slicing\n",
    "if \"ing\" in keep:\n",
    "        print(\"{} has an 'ing'\".format(keep))\n",
    "            \n",
    "    \n",
    "# Checking Equality: Ask the user to input two words, and write a conditional\n",
    "# statement to check if both words are the same. Make it case insensitive so that\n",
    "# capitals do not matter.\n",
    "str1, str2 = input(\"What is your first string?: \"), input(\"What is your secong string?: \")\n",
    "str1, str2 = str(str1.lower()), str(str2.lower())\n",
    "\n",
    "if str1 == str2:\n",
    "    print(\"Both strings are similar\")\n",
    "else:\n",
    "    print(\"Both strings are not similar\")\n",
    "    \n",
    "    \n",
    "# Returning Exponents: Ask for the user to input a number, and return that\n",
    "# number squared if it is lower than 10. Hint: Investigate arithmetic expressions\n",
    "# for exponents.\n",
    "try:    \n",
    "    num = int(input(\"Enter the number you want to square: \"))\n",
    "    if num<10:\n",
    "        result = num * num\n",
    "        print(\"{} squared is: {}\".format(num, result))\n",
    "    else:\n",
    "        print(\"Invalid number\")\n",
    "except:\n",
    "    print(\"Enter a valid number\")"
   ]
  },
  {
   "cell_type": "markdown",
   "id": "8a308179",
   "metadata": {},
   "source": [
    "### Wednesday: Elif Statements"
   ]
  },
  {
   "cell_type": "code",
   "execution_count": 27,
   "id": "4f681a0c",
   "metadata": {},
   "outputs": [
    {
     "name": "stdout",
     "output_type": "stream",
     "text": [
      "X is less than Y\n",
      "X is equal to Y\n",
      "X is not equal to Z\n"
     ]
    }
   ],
   "source": [
    "# They give us the ability to run separate blocks of code\n",
    "# depending on the condition. They are also known as “else if statements.”\n",
    "\n",
    "#works like the \"else if\" statement in Java\n",
    "#works together with an \"if statement\" and can't work without the \"if statement\"\n",
    "#Example: Using the \"elif conditional\" statement\n",
    "\n",
    "x, y = 15, 20\n",
    "if x<y:\n",
    "    print(\"X is less than Y\")\n",
    "elif x>y:\n",
    "    print(\"X is greater than X\")\n",
    "\n",
    "    \n",
    "#checking more than one elif statement\n",
    "x,y = 5, 10\n",
    "if x>y:\n",
    "    print(\"X is greater than Y\")\n",
    "elif (x+5)<y:\n",
    "    print(\"x+5 is less \")\n",
    "elif  (x+5)==y:\n",
    "    print(\"X is equal to Y\")\n",
    "    \n",
    "##Conditionals within conditionals\n",
    "#writing multiple conditionals within each other\n",
    "\n",
    "x,y,z = 5,10,9\n",
    "\n",
    "if x>y:\n",
    "    print(\"X is greater than Y\")\n",
    "elif x<=y:\n",
    "    if x==z:\n",
    "        print(\"X is equal to Z\")\n",
    "    elif x!=z:\n",
    "        print(\"X is not equal to Z\")"
   ]
  },
  {
   "cell_type": "code",
   "execution_count": 31,
   "id": "13d8b851",
   "metadata": {},
   "outputs": [
    {
     "name": "stdout",
     "output_type": "stream",
     "text": [
      "Enter a number: 23\n",
      "23 is lower than 100\n",
      "Lower\n"
     ]
    }
   ],
   "source": [
    "##Wednesday Exercises##\n",
    "# Higher/Lower: Ask the user to input a number. Type convert that number, and\n",
    "# use an if/elif statement to print whether it’s higher or lower than 100.\n",
    "\n",
    "num = int(input(\"Enter a number: \"))\n",
    "if num<100:\n",
    "    print(\"{} is lower than 100\".format(num))\n",
    "elif num>100:\n",
    "    print(\"{} is higher than 100\".format(num))\n",
    "\n",
    "# Find the Solution: Given the following code, fix any/all errors in order to make\n",
    "# it output “lower”:\n",
    "#     x, y = 5, 10\n",
    "#     if x>y:\n",
    "#         print(\"Greater\")\n",
    "#     try x < y:\n",
    "#         print(\"Lower\")\n",
    "#Solution:\n",
    "    #try is used to catch error or handle errors not in an if condition\n",
    "    #we need to correct and use the elif conditional\n",
    "    #the answer is \"lower\"\n",
    "    #therefore the correct code is:\n",
    "    \n",
    "x, y = 5, 10\n",
    "if x>y:\n",
    "    print(\"Greater\")\n",
    "elif x < y:\n",
    "    print(\"Lower\")"
   ]
  },
  {
   "cell_type": "markdown",
   "id": "d617a126",
   "metadata": {},
   "source": [
    "### Thursday: Else Statements"
   ]
  },
  {
   "cell_type": "code",
   "execution_count": 34,
   "id": "c4ff681f",
   "metadata": {},
   "outputs": [
    {
     "name": "stdout",
     "output_type": "stream",
     "text": [
      "Hello, Jacob!\n",
      "Hello, James!\n"
     ]
    }
   ],
   "source": [
    "#Else conditional statements are the end all be all of the if statement\n",
    "#It covers all the possibilities that you are unable to make a decision for\n",
    "\n",
    "#Example:\n",
    "name = \"Jacob\"\n",
    "if name == \"John\":\n",
    "    print(\"Hello, John!\")\n",
    "else:\n",
    "    print(\"Hello, {}!\".format(name))\n",
    "\n",
    "    \n",
    "#Complete if... elif...else statment\n",
    "name = \"James\"\n",
    "if name == \"Jude\":\n",
    "    print(\"Hello, Jude!\")\n",
    "elif name == \"Jane\":\n",
    "    print(\"Hello, Jane!\")\n",
    "elif name == \"Jack\":\n",
    "    print(\"Hello, Jack!\")\n",
    "else:\n",
    "    print(\"Hello, {}!\".format(name))\n",
    "\n",
    "\n"
   ]
  },
  {
   "cell_type": "code",
   "execution_count": 37,
   "id": "dd2c0ff2",
   "metadata": {},
   "outputs": [
    {
     "name": "stdout",
     "output_type": "stream",
     "text": [
      "Hello John\n",
      "Enter military time: 1500\n",
      "Good Afternoon\n"
     ]
    }
   ],
   "source": [
    "##Thursday Exercises##\n",
    "\n",
    "# Fix the Errors: Given the following code, fix any/all errors so that it outputs\n",
    "# “Hello John” correctly:\n",
    "        # name = \"John\"\n",
    "        #     if name == \"Jack\":\n",
    "        #         print(\"Hello Jack\")\n",
    "        #     elif:\n",
    "        #         print(\"Hello John\")\n",
    "#Solution:\n",
    "    #The \"elif statemet\" is not complete instead we use \"else\" to capture all the other possibilities\n",
    "    #The correct code should be:\n",
    "    \n",
    "name = \"John\"\n",
    "if name == \"Jack\":\n",
    "    print(\"Hello Jack\")\n",
    "else:#elif replaced by else\n",
    "    print(\"Hello John\")\n",
    "\n",
    "\n",
    "#User Input: Ask the user to input the time of day in military time without a\n",
    "# colon (1100 = 11:00 AM). Write a conditional statement so that it outputs the\n",
    "# following:\n",
    "# a. “Good Morning” if less than 1200\n",
    "# b. “Good Afternoon” if between 1200 and 1700\n",
    "# c. “Good Evening” if equal or above 1700\n",
    "\n",
    "time = int(input(\"Enter military time: \"))\n",
    "if time <1200:\n",
    "    print(\"Good Morning\")\n",
    "elif time>=1200 and time <1700:\n",
    "    print(\"Good Afternoon\")\n",
    "elif time >= 1700 and time <=2359:\n",
    "    print(\"Good Evening\")\n",
    "else:\n",
    "    print(\"{} is an invalid military time\".format(time))\n",
    "#Note military time is from 0000-2359hrs"
   ]
  },
  {
   "cell_type": "markdown",
   "id": "d7d8679c",
   "metadata": {},
   "source": [
    "### Friday: Creating a calculator."
   ]
  },
  {
   "cell_type": "markdown",
   "id": "2d69161f",
   "metadata": {},
   "source": [
    "this week is based\n",
    "around the logic rather than how it looks, we’ll lay out the steps necessary to build our\n",
    "calculator:\n",
    "\n",
    "1. Ask the user for the calculation they would like to perform.\n",
    "\n",
    "2. Ask the user for the numbers they would like to run the operation on.\n",
    "\n",
    "3. Set up try/except clause for mathematical operation.\n",
    "\n",
    "a. Convert numbers input to floats.\n",
    "\n",
    "b. Perform operation and print result.\n",
    "\n",
    "c. If an exception is hit, print error."
   ]
  },
  {
   "cell_type": "code",
   "execution_count": 3,
   "id": "8f176c46",
   "metadata": {},
   "outputs": [
    {
     "name": "stdout",
     "output_type": "stream",
     "text": [
      "Would you like to add/subtract/multiply/divide? : add\n",
      "You chose add.\n",
      "54.0 + 8.0 = 62.0\n"
     ]
    }
   ],
   "source": [
    "#Ask the user for the calculation to be performed\n",
    "operation = input(\"Would you like to add/subtract/multiply/divide? : \").lower()\n",
    "print(\"You chose {}.\".format(operation))#for testing purposes\n",
    "\n",
    "#Ask for the numbers, alert order matters for subtracting and dividing\n",
    "\n",
    "if operation == \"subtract\" or operation == \"divide\":\n",
    "    print(\"You chose {}\".format(operation))\n",
    "    print(\"Please keep in mind that the order of your numbers matter.\")\n",
    "    \n",
    "    num1 = input(\"What is the first number? :\")\n",
    "    num2 = input(\"What is the second number? :\")\n",
    "    \n",
    "    print(\"The first number is {}\".format(num1))#For testing purposes\n",
    "    print(\"The second number is {}\".format(num2))#For testing purposes\n",
    "    \n",
    "#setup try/except for mathematical operation\n",
    "try:\n",
    "    #step 3a: immediately try to convert numbers input to floats\n",
    "    num1, num2 = float(num1), float(num2)\n",
    "    \n",
    "    #Step 3b: perform operation and printresult\n",
    "    if operation == \"add\":\n",
    "        result = num1 + num2\n",
    "        print(\"{} + {} = {}\".format(num1, num2, result))\n",
    "    elif operation == \"subtract\":\n",
    "        result = num1 - num2\n",
    "        print(\"{} + {} = {}\".format(num1, num2, result))\n",
    "    elif operation == \"multiply\":\n",
    "        result = num1 * num2\n",
    "        print(\"{} + {} = {}\".format(num1, num2, result))\n",
    "    elif operation == \"divide\":\n",
    "        result = num1/num2\n",
    "        print(\"{} + {} = {}\".format(num1, num2, result))\n",
    "    else:\n",
    "        #else will be hit if they didn't choose an option correctly\n",
    "        print(\"Sorry, but '{}' is not an option.\".format(operation))\n",
    "\n",
    "except:\n",
    "    #Step 3c: print error\n",
    "    print(\"Error: Improper numbers used. Please try again.\")\n",
    "    \n",
    "\n",
    "    \n",
    "    \n"
   ]
  },
  {
   "cell_type": "code",
   "execution_count": null,
   "id": "6cb62343",
   "metadata": {},
   "outputs": [],
   "source": []
  }
 ],
 "metadata": {
  "kernelspec": {
   "display_name": "Python 3",
   "language": "python",
   "name": "python3"
  },
  "language_info": {
   "codemirror_mode": {
    "name": "ipython",
    "version": 3
   },
   "file_extension": ".py",
   "mimetype": "text/x-python",
   "name": "python",
   "nbconvert_exporter": "python",
   "pygments_lexer": "ipython3",
   "version": "3.8.8"
  }
 },
 "nbformat": 4,
 "nbformat_minor": 5
}
