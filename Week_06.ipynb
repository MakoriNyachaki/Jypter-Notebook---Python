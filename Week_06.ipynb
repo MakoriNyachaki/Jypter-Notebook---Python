{
 "cells": [
  {
   "cell_type": "markdown",
   "id": "598189ee",
   "metadata": {},
   "source": [
    "# CHAPTER SIX\n",
    "## Data Collections and Files\n",
    "\n",
    "We’ll cover dictionaries, sets, tuples, and frozensets this week to add to our knowledge of collections. Each one has a specific purpose as we’ll see the differences between each.\n",
    "Knowing how to work with files in any language is important. In order to work with data, we’ll need to know how to read and write from several types of files. We’ll cover how to work with text files and CSV files.\n",
    "Overview\n",
    "\n",
    "• Understanding dictionaries\n",
    "\n",
    "• Working with dictionaries\n",
    "\n",
    "• Learning other important data collections\n",
    "\n",
    "• Working with files\n",
    "\n",
    "• Creating a sample database with files"
   ]
  },
  {
   "cell_type": "code",
   "execution_count": 2,
   "id": "55de4047",
   "metadata": {},
   "outputs": [
    {
     "name": "stdout",
     "output_type": "stream",
     "text": [
      "Enter a word: mama\n",
      "False\n"
     ]
    }
   ],
   "source": [
    "################### Challenge Question #################\n",
    "# This week’s challenge is to write a function that checks if a word is a palindrome. The function\n",
    "# should take in a single parameter and return True or False. Try writing the function on paper\n",
    "# first, then try programming it!\n",
    "\n",
    "def wordPalindrome(pal = input(\"Enter a word: \")):\n",
    "    if pal == ''.join(reversed(pal)) :\n",
    "        return True\n",
    "    else:\n",
    "        return False\n",
    "safe = wordPalindrome()\n",
    "print(safe)"
   ]
  },
  {
   "cell_type": "markdown",
   "id": "752d10c6",
   "metadata": {},
   "source": [
    "### Monday: Dictionaries\n",
    "\n",
    "They store information using keys and are much more efficient than Python lists. A dictionary is a collection of unordered data, which is stored in key-value pairs. What is meant by “unordered” is the way it is stored in memory. It is not accessible through an index, rather it is accessed through a key. Lists are known as ordered data collections because each item is assigned a specific location. Dictionaries work like a real-life dictionary, where the key is the word and the values are the definition. Dictionaries are useful for working with large data, mapped data, CSV files, APIs, sending or receiving\n",
    "data, and much more."
   ]
  },
  {
   "cell_type": "code",
   "execution_count": 6,
   "id": "68b81681",
   "metadata": {},
   "outputs": [
    {
     "name": "stdout",
     "output_type": "stream",
     "text": [
      "{'name ': 'Morty', 'age': 26}\n"
     ]
    }
   ],
   "source": [
    "# All dictionaries are created by using open and closed curly brackets. In \n",
    "#between the curly brackets, we define our key-value pairs.\n",
    "\n",
    "# Declaring a dictionary variable\n",
    "empty = {} # Empty dictionary\n",
    "person = {\"name: \"\"Makori Nyachaki\"}\n",
    "\n",
    "# Dictionary with one key value pair\n",
    "customer = {\n",
    "    \"name \": \"Morty\",\n",
    "    \"age\": 26\n",
    "} # dictionary with two key values\n",
    "print(customer)\n",
    "\n",
    "# All key-value pairs must be separated by a comma.\n",
    "# Note You could also use dict( ) to declare an empty dictionary."
   ]
  },
  {
   "cell_type": "code",
   "execution_count": 7,
   "id": "25cb5d76",
   "metadata": {},
   "outputs": [
    {
     "name": "stdout",
     "output_type": "stream",
     "text": [
      "Makori\n"
     ]
    }
   ],
   "source": [
    "# Accessing dictionary information through keys\n",
    "# We simply write the name of the dictionary followed by square brackets\n",
    "# Inside of the suare brackets is the key. This will retrieve the value stored at that key\n",
    "\n",
    "person = {\"Name\": \"Makori\"}\n",
    "print(person[\"Name\"]) # Access information through the key"
   ]
  },
  {
   "cell_type": "code",
   "execution_count": 8,
   "id": "9f157d75",
   "metadata": {},
   "outputs": [
    {
     "name": "stdout",
     "output_type": "stream",
     "text": [
      "John\n",
      "Age is not available\n"
     ]
    }
   ],
   "source": [
    "# Another way of retrieving information is to use the get() method. The major difference\n",
    "# between using this method and the previous way of accessing a value is that the get\n",
    "# method won’t throw a key error. If the key doesn’t exist, it will simply return “None”\n",
    "\n",
    "# Using the get method to access dictionary information\n",
    "person = {\"Name\": \"John\"}\n",
    "print(person.get(\"Name\")) # retrieves value of name key as before\n",
    "print(person.get(\"Age\", \"Age is not available\")) #get is a secure way to retrieve information\n"
   ]
  },
  {
   "cell_type": "code",
   "execution_count": 9,
   "id": "4ca97ae5",
   "metadata": {},
   "outputs": [
    {
     "name": "stdout",
     "output_type": "stream",
     "text": [
      "Baseball\n"
     ]
    }
   ],
   "source": [
    "# Dictionaries with list\n",
    "# Dictionaries become powerful when you start with data collections as values\n",
    "\n",
    "#Storing a list within a dictionary andd accessing it\n",
    "data = {\"sports\": [\"Baseball\", \"Volleyball\", \"Football\"]}\n",
    "print(data[\"sports\"][0]) #first access the key, then the index\n",
    "# Keep in mind that we cannot create a dictionary that stores a list without first\n",
    "# attaching a key:"
   ]
  },
  {
   "cell_type": "code",
   "execution_count": 10,
   "id": "8a864609",
   "metadata": {},
   "outputs": [
    {
     "ename": "ValueError",
     "evalue": "dictionary update sequence element #0 has length 8; 2 is required",
     "output_type": "error",
     "traceback": [
      "\u001b[1;31m---------------------------------------------------------------------------\u001b[0m",
      "\u001b[1;31mValueError\u001b[0m                                Traceback (most recent call last)",
      "\u001b[1;32m<ipython-input-10-452b97137998>\u001b[0m in \u001b[0;36m<module>\u001b[1;34m\u001b[0m\n\u001b[0;32m      1\u001b[0m \u001b[1;31m# Improperly storing a list within a dictionary\u001b[0m\u001b[1;33m\u001b[0m\u001b[1;33m\u001b[0m\u001b[1;33m\u001b[0m\u001b[0m\n\u001b[0;32m      2\u001b[0m \u001b[0msports\u001b[0m \u001b[1;33m=\u001b[0m \u001b[1;33m[\u001b[0m\u001b[1;34m\"Baseball\"\u001b[0m\u001b[1;33m,\u001b[0m \u001b[1;34m\"Hockey\"\u001b[0m\u001b[1;33m,\u001b[0m \u001b[1;34m\"Soccer\"\u001b[0m\u001b[1;33m,\u001b[0m \u001b[1;34m\"Volleyball\"\u001b[0m\u001b[1;33m]\u001b[0m\u001b[1;33m\u001b[0m\u001b[1;33m\u001b[0m\u001b[0m\n\u001b[1;32m----> 3\u001b[1;33m \u001b[0msports_dict\u001b[0m \u001b[1;33m=\u001b[0m \u001b[0mdict\u001b[0m\u001b[1;33m(\u001b[0m\u001b[0msports\u001b[0m\u001b[1;33m)\u001b[0m \u001b[1;31m#will produce error, no key\u001b[0m\u001b[1;33m\u001b[0m\u001b[1;33m\u001b[0m\u001b[0m\n\u001b[0m",
      "\u001b[1;31mValueError\u001b[0m: dictionary update sequence element #0 has length 8; 2 is required"
     ]
    }
   ],
   "source": [
    "# Improperly storing a list within a dictionary\n",
    "sports = [\"Baseball\", \"Hockey\", \"Soccer\", \"Volleyball\"]\n",
    "sports_dict = dict(sports) #will produce error, no key"
   ]
  },
  {
   "cell_type": "code",
   "execution_count": 11,
   "id": "b8b61288",
   "metadata": {},
   "outputs": [
    {
     "name": "stdout",
     "output_type": "stream",
     "text": [
      "Kirsten\n"
     ]
    }
   ],
   "source": [
    "# Lists with dictionaries\n",
    "# Storing a dictionary within a list accessing it\n",
    "\n",
    "data = [\"John\", \"Dennis\", {\"name\": \"Kirsten\"}]\n",
    "print(data[2][\"name\"]) # first access the index, then access the key"
   ]
  },
  {
   "cell_type": "code",
   "execution_count": 12,
   "id": "a30d109d",
   "metadata": {},
   "outputs": [
    {
     "name": "stdout",
     "output_type": "stream",
     "text": [
      "{'2018': 108, '2017': 93}\n",
      "108\n"
     ]
    }
   ],
   "source": [
    "# Dictionaries with dictionaries\n",
    "# Storing a dictionary within a dictionary and accessing it\n",
    "data ={\n",
    "    \"team\":\"Boston Red Sox\",\n",
    "    \"wins\": {\"2018\": 108, \"2017\": 93}\n",
    "}\n",
    "print(data[\"wins\"]) #will output the dictionary within the wins key\n",
    "print(data[\"wins\"][\"2018\"])# first access the wins key, then the next key"
   ]
  },
  {
   "cell_type": "markdown",
   "id": "c5326cd1",
   "metadata": {},
   "source": [
    "##### Monday Exercises\n",
    "\n",
    "1. User Input: Ask the user for their name and age, and then create a dictionary\n",
    "with those key-value pairs. Output the dictionary once created.\n",
    "\n",
    "2. Accessing Ingredients: Output all the ingredients from the following list within the “ingredients” key using a for loop:\n",
    ">>> pizza = {\n",
    ">>> 'ingredients': ['cheese', 'sausage', 'peppers']\n",
    ">>> }"
   ]
  },
  {
   "cell_type": "code",
   "execution_count": 23,
   "id": "1fb83ad4",
   "metadata": {},
   "outputs": [
    {
     "name": "stdout",
     "output_type": "stream",
     "text": [
      "Enter your name: Makori\n",
      "Enter your age: 56\n",
      "Makori 56\n"
     ]
    }
   ],
   "source": [
    "# User Input\n",
    "userInput ={\n",
    "    \"name\": str(input(\"Enter your name: \")),\n",
    "    \"age\": str(input(\"Enter your age: \"))\n",
    "}\n",
    "\n",
    "print(userInput[\"name\"], userInput[\"age\"])"
   ]
  },
  {
   "cell_type": "code",
   "execution_count": 22,
   "id": "a2f0aea3",
   "metadata": {},
   "outputs": [
    {
     "name": "stdout",
     "output_type": "stream",
     "text": [
      "['cheese', 'Sausage', 'Peppers']\n"
     ]
    }
   ],
   "source": [
    "# Accessing Ingredients\n",
    "pizza = {\n",
    "    'Ingredients':[\"cheese\", \"Sausage\", \"Peppers\"]\n",
    "}\n",
    "for ingredients in pizza:\n",
    "    print(pizza['Ingredients'])"
   ]
  },
  {
   "cell_type": "markdown",
   "id": "7ad58d40",
   "metadata": {},
   "source": [
    "### Tuesday: Working with Dictionaries"
   ]
  },
  {
   "cell_type": "code",
   "execution_count": 24,
   "id": "edc7a130",
   "metadata": {},
   "outputs": [
    {
     "name": "stdout",
     "output_type": "stream",
     "text": [
      "Year : 2018 \t Color: Blue\n"
     ]
    }
   ],
   "source": [
    "# adding new key/value pairs to a dictionary\n",
    "car = {\"year\": 2018}\n",
    "car[\"color\"] = \"Blue\"\n",
    "print(\"Year : {} \\t Color: {}\".format(car[\"year\"], car[\"color\"]))"
   ]
  },
  {
   "cell_type": "code",
   "execution_count": 25,
   "id": "395fb983",
   "metadata": {},
   "outputs": [
    {
     "name": "stdout",
     "output_type": "stream",
     "text": [
      "Year: 2018 \t Color: Red\n"
     ]
    }
   ],
   "source": [
    "# Changing Information\n",
    "# Updating a value for a key/value pair that exists\n",
    "car = {\"year\": 2018, \"color\":\"Blue\"}\n",
    "car[\"color\"] = \"Red\"\n",
    "print(\"Year: {} \\t Color: {}\".format(car[\"year\"], car[\"color\"]))"
   ]
  },
  {
   "cell_type": "code",
   "execution_count": 28,
   "id": "49b41657",
   "metadata": {},
   "outputs": [
    {
     "name": "stdout",
     "output_type": "stream",
     "text": [
      "{}\n"
     ]
    }
   ],
   "source": [
    "# Deleting Information\n",
    "# Deleting a key/value pair from a dictionary\n",
    "car = {\"year\": 2018}\n",
    "try:\n",
    "    del car[\"year\"]\n",
    "    print(car)\n",
    "except:\n",
    "    print(\"That key does not exist\")"
   ]
  },
  {
   "cell_type": "code",
   "execution_count": 30,
   "id": "146ce69a",
   "metadata": {},
   "outputs": [
    {
     "name": "stdout",
     "output_type": "stream",
     "text": [
      "name\n",
      "John\n",
      "age\n",
      "26\n"
     ]
    }
   ],
   "source": [
    "# Looping a Dictionary\n",
    "# To iterate through a dictionary while only accessing the keys, you'll use the .keys() method\n",
    "# Looping over a dictionary via the keys\n",
    "\n",
    "person = {\"name\": \"John\", \"age\":26}\n",
    "for key in person.keys():\n",
    "    print(key)\n",
    "    print(person[key]) # will output the value at the current key\n",
    "\n",
    "# As we iterate over person, our temporary variable of key\n",
    "# will be equal to each key name. This still gives us the ability to access each value by using\n",
    "# our key variable."
   ]
  },
  {
   "cell_type": "code",
   "execution_count": 33,
   "id": "bdc6f40b",
   "metadata": {},
   "outputs": [
    {
     "name": "stdout",
     "output_type": "stream",
     "text": [
      "name: John\n",
      "age: 26\n"
     ]
    }
   ],
   "source": [
    "# Looping Key-Value Pairs\n",
    "# If you need the ability to access both the key and value, then you’ll want to use the\n",
    "# .items() method.\n",
    "# This approach will assign two temporary variables instead of one:\n",
    "\n",
    "# looping over a dictionary  via the key/value pair\n",
    "\n",
    "person = {\"name\": \"John\", \"age\":26}\n",
    "for key, value in person.items():\n",
    "    print(\"{}: {}\".format(key, value))\n",
    "\n",
    "#     Note The temporary variable names are usually called “k” and “v.”"
   ]
  },
  {
   "cell_type": "markdown",
   "id": "2462b3ee",
   "metadata": {},
   "source": [
    "##### Tusday Exercise\n",
    "1. User Input: Declare an empty dictionary. Ask the user for their name, address,\n",
    "and number. Add that information to the dictionary and iterate over it to show\n",
    "the user.\n",
    "\n",
    "2. Problem-Solving: What is wrong with the following code:\n",
    ">>> person = { 'name', 'John Smith' }\n",
    ">>> print(person['name'])"
   ]
  },
  {
   "cell_type": "code",
   "execution_count": 36,
   "id": "08a25e82",
   "metadata": {},
   "outputs": [
    {
     "name": "stdout",
     "output_type": "stream",
     "text": [
      "Enter your name: Makori\n",
      "Enter your address: 34\n",
      "Enter your number: 456789\n",
      "Name: Makori\t Address: 34 \t Number: 456789\n"
     ]
    }
   ],
   "source": [
    "userInput = {}\n",
    "\n",
    "userInput[\"name\"] = input(\"Enter your name: \")\n",
    "userInput[\"address\"] = input(\"Enter your address: \")\n",
    "userInput[\"number\"] = input(\"Enter your number: \")\n",
    "\n",
    "print(\"Name: {}\\t Address: {} \\t Number: {}\".format(userInput[\"name\"], userInput[\"address\"], userInput[\"number\"]))"
   ]
  },
  {
   "cell_type": "code",
   "execution_count": 37,
   "id": "13941833",
   "metadata": {},
   "outputs": [
    {
     "name": "stdout",
     "output_type": "stream",
     "text": [
      "John Smith\n"
     ]
    }
   ],
   "source": [
    "# Problem solving\n",
    "\n",
    "#---->missing a semi-colon when declaring and in defining the dictionary\n",
    "\n",
    "#correct code should be \n",
    "person ={\n",
    "    \"name\": \"John Smith\"\n",
    "}\n",
    "print(person[\"name\"])"
   ]
  },
  {
   "cell_type": "markdown",
   "id": "40b0b7bf",
   "metadata": {},
   "source": [
    "### Wednesday: Tuples, Sets, Frozensets\n",
    "#### Tuples\n",
    "A tuple is identical to a list, except it is immutable. When something is immutable, it means that it cannot be altered once declared. Tuples are useful for storing information that you don’t want to change. They’re ordered like lists, so you can iterate through them using an index.\n"
   ]
  },
  {
   "cell_type": "code",
   "execution_count": 38,
   "id": "0a00b7af",
   "metadata": {},
   "outputs": [
    {
     "name": "stdout",
     "output_type": "stream",
     "text": [
      "<class 'tuple'> <class 'tuple'>\n"
     ]
    },
    {
     "ename": "TypeError",
     "evalue": "'tuple' object does not support item assignment",
     "output_type": "error",
     "traceback": [
      "\u001b[1;31m---------------------------------------------------------------------------\u001b[0m",
      "\u001b[1;31mTypeError\u001b[0m                                 Traceback (most recent call last)",
      "\u001b[1;32m<ipython-input-38-c1baf0338db1>\u001b[0m in \u001b[0;36m<module>\u001b[1;34m\u001b[0m\n\u001b[0;32m      9\u001b[0m \u001b[0mt2\u001b[0m \u001b[1;33m=\u001b[0m \u001b[1;32mTrue\u001b[0m\u001b[1;33m,\u001b[0m \u001b[1;36m1\u001b[0m  \u001b[1;31m# Without parens\u001b[0m\u001b[1;33m\u001b[0m\u001b[1;33m\u001b[0m\u001b[0m\n\u001b[0;32m     10\u001b[0m \u001b[0mprint\u001b[0m\u001b[1;33m(\u001b[0m\u001b[0mtype\u001b[0m\u001b[1;33m(\u001b[0m\u001b[0mt1\u001b[0m\u001b[1;33m)\u001b[0m\u001b[1;33m,\u001b[0m \u001b[0mtype\u001b[0m\u001b[1;33m(\u001b[0m\u001b[0mt2\u001b[0m\u001b[1;33m)\u001b[0m\u001b[1;33m)\u001b[0m \u001b[1;31m#both are tuples\u001b[0m\u001b[1;33m\u001b[0m\u001b[1;33m\u001b[0m\u001b[0m\n\u001b[1;32m---> 11\u001b[1;33m \u001b[0mt1\u001b[0m\u001b[1;33m[\u001b[0m\u001b[1;36m0\u001b[0m\u001b[1;33m]\u001b[0m \u001b[1;33m=\u001b[0m \u001b[1;36m1\u001b[0m \u001b[1;31m# Will crash as tuples are immutable\u001b[0m\u001b[1;33m\u001b[0m\u001b[1;33m\u001b[0m\u001b[0m\n\u001b[0m",
      "\u001b[1;31mTypeError\u001b[0m: 'tuple' object does not support item assignment"
     ]
    }
   ],
   "source": [
    "# Declaring a tuple\n",
    "# To declare a tuple, you use a comma to separate two or more items. Lists are denoted\n",
    "# by their square brackets on the outside, whereas tuples can be declared with optional\n",
    "# parenthesis. It’s more likely they’re declared with parenthesis as it’s easier to read. Let’s\n",
    "# see an example\n",
    "\n",
    "# Declaring a tuple\n",
    "t1 = (\"hello\", 2, \"hello\") #with parens\n",
    "t2 = True, 1  # Without parens\n",
    "print(type(t1), type(t2)) #both are tuples\n",
    "t1[0] = 1 # Will crash as tuples are immutable"
   ]
  },
  {
   "cell_type": "markdown",
   "id": "3ad1bf87",
   "metadata": {},
   "source": [
    "#### Sets\n",
    "Sets share the same characteristics of lists and ictionaries. A set is a collection of information like a list; however, like a key in a dictionary, sets can only contain unique values. They are also an unordered collection"
   ]
  },
  {
   "cell_type": "code",
   "execution_count": 39,
   "id": "e387166a",
   "metadata": {},
   "outputs": [
    {
     "name": "stdout",
     "output_type": "stream",
     "text": [
      "<class 'set'> <class 'set'>\n",
      "{2, 3, 5}\n"
     ]
    }
   ],
   "source": [
    "# Declaring a Set\n",
    "s1 = set([1, 2, 3, 1]) #Uses the set keyword and square brackets\n",
    "s2 = {4, 4, 5} # Uses curly brackets, like a dictionary\n",
    "print(type(s1), type(s2))\n",
    "s1.add(5) # Using the add method to add new items to a set\n",
    "s1.remove(1) # using the remove method to get rid pof the value 1\n",
    "print(s1) # notice when printed it removed '1' at the end\n",
    "\n",
    "# There are two ways to declare a set. The first way is by using the keyword “set” followed\n",
    "# by parenthesis and enclosing square brackets. The second way, which is more practical,\n",
    "# looks like a dictionary being declared by using a set of curly brackets. Let’s check it out:"
   ]
  },
  {
   "cell_type": "markdown",
   "id": "e61e6b26",
   "metadata": {},
   "source": [
    "#### Frozensets\n",
    "Frozensets are essentially the combination of a set and a tuple. They are immutable, unordered, and unique. These are perfect for sensitive information like bank account numbers, as you wouldn’t want to alter those. They can be iterated over, but not indexed.\n",
    "To declare a frozenset, you use the keyword “frozenset” followed by parenthesis and enclosing square brackets. This is the only way you can declare a frozenset."
   ]
  },
  {
   "cell_type": "code",
   "execution_count": 40,
   "id": "1c000a8c",
   "metadata": {},
   "outputs": [
    {
     "name": "stdout",
     "output_type": "stream",
     "text": [
      "<class 'frozenset'>\n"
     ]
    }
   ],
   "source": [
    "# Declaring a frozenset\n",
    "fset = frozenset([1, 2, 3, 4])\n",
    "print(type(fset))"
   ]
  },
  {
   "cell_type": "markdown",
   "id": "9f2f55e5",
   "metadata": {},
   "source": [
    "##### Wednesday: Exercises\n",
    "\n",
    "1. User Input: Ask the user to input as many bank account numbers as they’d like, and store them within a list initially. Once the user is done entering information, convert the list to a frozenset and print it out.\n",
    "\n",
    "2. Conversion: Convert the following list into a set of unique values. Print it out after to check there are no duplicates:\n",
    "\n",
    ">>> nums = [3, 4, 3, 7, 10]"
   ]
  },
  {
   "cell_type": "code",
   "execution_count": 42,
   "id": "42aa05c8",
   "metadata": {},
   "outputs": [
    {
     "name": "stdout",
     "output_type": "stream",
     "text": [
      "frozenset({89233344, 5687329, 345326, 6578920243, 678329})\n"
     ]
    }
   ],
   "source": [
    "# UserInput\n",
    "bankAccounts = [345326, 678329, 89233344, 6578920243, 5687329]\n",
    "pri = frozenset(bankAccounts)\n",
    "print(pri)"
   ]
  },
  {
   "cell_type": "code",
   "execution_count": 43,
   "id": "610ed5eb",
   "metadata": {},
   "outputs": [
    {
     "name": "stdout",
     "output_type": "stream",
     "text": [
      "{10, 3, 4, 7}\n"
     ]
    }
   ],
   "source": [
    "# Conversion\n",
    "nums = [3, 4, 3, 7, 10]\n",
    "sets = set(nums)\n",
    "print(sets)"
   ]
  },
  {
   "cell_type": "markdown",
   "id": "1b0c0267",
   "metadata": {},
   "source": [
    "### Thursday: Reading and Writing Files\n",
    "##### Working with text files\n",
    "###### Open()\n",
    "A default python function that allows us to create or modify files.\n",
    "This function accepts two parameters, 'the file name' and 'mode'\n",
    "If the file name exists it will simply open the file for modification, otherwise it will create the file."
   ]
  },
  {
   "cell_type": "code",
   "execution_count": 45,
   "id": "30a1a7fc",
   "metadata": {},
   "outputs": [
    {
     "name": "stdout",
     "output_type": "stream",
     "text": [
      "I love you, this is a test\n"
     ]
    }
   ],
   "source": [
    "# Opening/creating and writing to a text file\n",
    "f = open(\"Test.txt\", \"w+\") # open file in write and reading mode\n",
    "f.write(\"I love you, this is a test\")\n",
    "f.close()\n",
    "\n",
    "# Reading from a text file\n",
    "f = open(\"test.txt\", \"r\")\n",
    "data = f.read()\n",
    "f.close()\n",
    "print (data)\n",
    "\n",
    "# Note Mode “w” will overwrite the entire file. Use “a” for appending."
   ]
  },
  {
   "cell_type": "code",
   "execution_count": 3,
   "id": "48def106",
   "metadata": {},
   "outputs": [
    {
     "name": "stdout",
     "output_type": "stream",
     "text": [
      "['Name', 'City']\n",
      "['Craig Lou', 'Taiwan']\n"
     ]
    }
   ],
   "source": [
    "# Writing to a CSV file\n",
    "# CSV files work with data by separating a comma between each cell, tabular data structure\n",
    "# To get started python has a default library called \"csv\" which needs to be imported before working with it\n",
    "# We open file by the use of the \"with\" keyword. The concept works like a while loop\n",
    "# so that while the file is open we can work with it, and once block of code is done running,\n",
    "# it closes the file automatically\n",
    "# Example:\n",
    "\n",
    "import csv\n",
    "with open(\"test.csv\", mode =\"w\", newline = \"\") as f:\n",
    "    writer = csv.writer(f, delimiter = ',')\n",
    "    writer.writerow([\"Name\", \"City\"])\n",
    "    writer.writerow([\"Craig Lou\", \"Taiwan\"])\n",
    "    \n",
    "# Reading from csv files\n",
    "with open(\"test.csv\", mode=\"r\") as f:\n",
    "    reader = csv.reader(f, delimiter=\",\")\n",
    "    for row in reader:\n",
    "        print(row)"
   ]
  },
  {
   "cell_type": "markdown",
   "id": "fefba15c",
   "metadata": {},
   "source": [
    "###### Thursday Exercises\n",
    "1. User Input: Ask a user for their favorite number, and save it to a text file.\n",
    "\n",
    "2. Data Dumping: Using the dictionary of following data, save the information to a csv file with the keys as the headers and the values as the rows of data:\n",
    ">>> data = {\n",
    "'name' : ['Dave', 'Dennis', 'Peter', 'Jess'],\n",
    "'language': ['Python', 'C', 'Java', 'Python']\n",
    "}"
   ]
  },
  {
   "cell_type": "code",
   "execution_count": 7,
   "id": "009e5f59",
   "metadata": {},
   "outputs": [
    {
     "name": "stdout",
     "output_type": "stream",
     "text": [
      "Enter your favorite number: 678\n",
      "678\n"
     ]
    }
   ],
   "source": [
    "# Favorite number\n",
    "f = open(\"favorite.txt\", \"w+\")\n",
    "f.write(input(\"Enter your favorite number: \"))\n",
    "f.close()\n",
    "\n",
    "#Read your file\n",
    "f = open(\"favorite.txt\", \"r\")\n",
    "data = f.read()\n",
    "f.close()\n",
    "print(data)"
   ]
  },
  {
   "cell_type": "code",
   "execution_count": 1,
   "id": "2bcbf8dd",
   "metadata": {},
   "outputs": [],
   "source": [
    "# Data Dumping\n",
    "\n",
    "import csv\n",
    "data = {\n",
    "'name' : ['Dave', 'Dennis', 'Peter', 'Jess'],\n",
    "'language': ['Python', 'C', 'Java', 'Python']\n",
    "}\n",
    "    \n",
    "with open(\"dump.csv\", mode=\"w\", newline=\"\" ) as f:\n",
    "    writer = csv.writer(f, delimiter =',')\n",
    "    writer.writerow(data.keys())\n",
    "    \n",
    "    for i in range(len(data[\"name\"])):\n",
    "         writer.writerow([data['name'][i], data['language'][i]])"
   ]
  },
  {
   "cell_type": "markdown",
   "id": "925fe30c",
   "metadata": {},
   "source": [
    "### Friday: Creating a User Database with CSV Files\n",
    "\n",
    "This week’s project is all about logic. We need to nderstand how to set up a step-by-step process for logging users in and out. There are three main parts to this program, registering a user, logging a user in, and the main loop that will run the program. Knowing that the first two are tasks, we can make functions out of them and call them when necessary in the main loop. Let’s go ahead and lay out the logical process for this program:\n",
    "\n",
    "1. Check to see if user is logged in.\n",
    "\n",
    "a. If logged in, ask if they would like to log out/quit.\n",
    "\n",
    "i. Either quit or log out user and restart.\n",
    "\n",
    "b. Else, ask if they would like to log in/register/quit.\n",
    "\n",
    "i. If log in, ask user for e-mail/password.\n",
    "\n",
    "1. If correct, log user in and restart.\n",
    "\n",
    "2. Else, display error and restart.\n",
    "\n",
    "ii. If register, ask for e-mail/password/password2.\n",
    "\n",
    "1. If passwords match, save user and restart.\n",
    "\n",
    "2. Else, display error and restart.\n",
    "\n",
    "iii. If quit, say thank you and exit program.\n"
   ]
  },
  {
   "cell_type": "code",
   "execution_count": 6,
   "id": "b34983df",
   "metadata": {},
   "outputs": [
    {
     "name": "stdout",
     "output_type": "stream",
     "text": [
      "Thanks for using our software!\n"
     ]
    }
   ],
   "source": [
    "# import all necessary packages to be used \n",
    "import csv\n",
    "from IPython.display import clear_output\n",
    "\n",
    "# Handle user registration and writing to csv\n",
    "def registerUser():\n",
    "    with open(\"users.csv\", mode =\"a\", newline =\"\")as f:\n",
    "        writer = csv.writer(f, delimiter=\",\")\n",
    "        \n",
    "        print(\"To register, please enter your info:\")\n",
    "        email = input(\"E-mail: \")\n",
    "        password = input(\"Password: \")\n",
    "        password2 = input(\"Re-type password: \")\n",
    "        \n",
    "        clear_output()\n",
    "        \n",
    "        if password == password2:\n",
    "            writer.writerow([email, password])\n",
    "            print(\"You are now registered!\")\n",
    "        else:\n",
    "            print(\"Something went wrong. Try again!\")\n",
    "            \n",
    "# Ask for user info and return true to login or false if incorrect info\n",
    "def loginUser():\n",
    "    print(\"To login, please enter your info: \")\n",
    "    email = input(\"E-mail: \")\n",
    "    password = input(\"Password: \")\n",
    "    \n",
    "    clear_output()\n",
    "    \n",
    "    with open(\"users.csv\", mode=\"r\") as f:\n",
    "        reader = csv.reader(f, delimiter=\",\")\n",
    "        \n",
    "        for row in reader:\n",
    "            if row == [email, password]:\n",
    "                print(\"You are now logged in!\")\n",
    "                return True\n",
    "            \n",
    "    print(\"Something went wrong, try again.\")\n",
    "    return False #Note The file is stored in the same directory as the notebook file.\n",
    "\n",
    "# Variables for main loop\n",
    "active = True\n",
    "logged_in = False\n",
    "\n",
    "# Main loop\n",
    "while active:\n",
    "    if logged_in:\n",
    "        print(\"1. Logout\\n2. Quit\")\n",
    "    else:\n",
    "        print(\"1. Login\\n2. Register\\n3. Quit\")\n",
    "        \n",
    "    choice = input(\"What would you like to do? \").lower()\n",
    "    \n",
    "    clear_output()\n",
    "    \n",
    "    if choice == \"register\" and logged_in == False:\n",
    "        registerUser()\n",
    "    elif choice == \"login\" and logged_in == False:\n",
    "        logged_in = loginUser()\n",
    "    elif choice == \"quit\":\n",
    "        active = False\n",
    "        print(\"Thanks for using our software!\")\n",
    "    elif choice == \"logout\" and logged_in == True:\n",
    "        logged_in = False\n",
    "        print(\"You are now logged out.\")\n",
    "    else:\n",
    "        print(\"Sorry, please try again!\")"
   ]
  },
  {
   "cell_type": "code",
   "execution_count": null,
   "id": "e6861e7c",
   "metadata": {},
   "outputs": [],
   "source": []
  }
 ],
 "metadata": {
  "kernelspec": {
   "display_name": "Python 3 (ipykernel)",
   "language": "python",
   "name": "python3"
  },
  "language_info": {
   "codemirror_mode": {
    "name": "ipython",
    "version": 3
   },
   "file_extension": ".py",
   "mimetype": "text/x-python",
   "name": "python",
   "nbconvert_exporter": "python",
   "pygments_lexer": "ipython3",
   "version": "3.9.7"
  }
 },
 "nbformat": 4,
 "nbformat_minor": 5
}
