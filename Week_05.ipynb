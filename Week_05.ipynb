{
 "cells": [
  {
   "cell_type": "markdown",
   "id": "c8a640f8",
   "metadata": {},
   "source": [
    "# CHAPTER FIVE\n",
    "## FUNCTIONS"
   ]
  },
  {
   "cell_type": "markdown",
   "id": "6546f017",
   "metadata": {},
   "source": [
    "Functions give us the ability to make our programs much more powerful and clean while also saving us time. We’ll go over how they work on the first day, but the reason we use functions is because of the ability to write once and call repeatedly.\n",
    "\n",
    "#### Overview\n",
    "• How to use functions and what they are\n",
    "\n",
    "• Passing data around using parameters\n",
    "\n",
    "• Returning data from functions\n",
    "\n",
    "• Understanding scope and its importance\n",
    "\n",
    "• Creating a shopping cart program"
   ]
  },
  {
   "cell_type": "markdown",
   "id": "1469ba44",
   "metadata": {},
   "source": [
    "### Monday: Creating and Calling Functions\n",
    "\n",
    "A function is a block of code which only runs when it is called. You can pass data, known as parameters, into a function. A function can return data as a result\n",
    "\n",
    "###### References\n",
    "1 www.w3schools.com/python/\n",
    "\n",
    "2 www.w3schools.com/python/python_functions.asp\n",
    "\n",
    "All functions are generally associated with a single task or procedure. This makes it easier for us to break down our program into functions."
   ]
  },
  {
   "cell_type": "code",
   "execution_count": 4,
   "id": "14e40c93",
   "metadata": {},
   "outputs": [
    {
     "name": "stdout",
     "output_type": "stream",
     "text": [
      "Name: John Smith\n",
      "Age: 45\n",
      "Name: John Smith\n",
      "Age: 45\n",
      "3120\n"
     ]
    }
   ],
   "source": [
    "#### Function Syntax ####\n",
    "# They all begin with the keyword “def”, followed by the name of the function, thereafter, they are followed by the parenthesis\n",
    "# and within the parenthesis are the parameters and lastly an ending colon:\n",
    "\n",
    "# Writing your first function\n",
    "def printInfo():  # defines what the function does when called\n",
    "    print(\"Name: John Smith\")\n",
    "    print (\"Age: 45\")\n",
    "printInfo()  # calls the function to run\n",
    "printInfo()  # calls the function to run again\n",
    "\n",
    "# In python there are two function stages: function definition and function call\n",
    "\n",
    "# Performing a calculation\n",
    "def calc():\n",
    "    x, y = 78, 40\n",
    "    print(x * y)\n",
    "calc()"
   ]
  },
  {
   "cell_type": "markdown",
   "id": "56a9d3cf",
   "metadata": {},
   "source": [
    "###### Monday Exercises\n",
    "\n",
    "1. Print Name: Define a function called myName, and have it print out your name when called.\n",
    "\n",
    "2. Pizza Toppings: Define a function that prints out all your favorite pizza toppings called pizzaToppings. Call the function three times."
   ]
  },
  {
   "cell_type": "code",
   "execution_count": 5,
   "id": "4c17874a",
   "metadata": {},
   "outputs": [
    {
     "name": "stdout",
     "output_type": "stream",
     "text": [
      "My name is Hacker\n"
     ]
    }
   ],
   "source": [
    "# myName\n",
    "def myName():\n",
    "    name = \"Hacker\"\n",
    "    print(\"My name is {}\".format(name))\n",
    "myName()"
   ]
  },
  {
   "cell_type": "code",
   "execution_count": 7,
   "id": "430754b2",
   "metadata": {},
   "outputs": [
    {
     "name": "stdout",
     "output_type": "stream",
     "text": [
      "['Tea', 'Cake', 'Egg']\n",
      "['Tea', 'Cake', 'Egg']\n",
      "['Tea', 'Cake', 'Egg']\n"
     ]
    }
   ],
   "source": [
    "# pizzaToppings\n",
    "def pizzaToppings():\n",
    "    pizza = [\"Tea\", \"Cake\", \"Egg\"]\n",
    "    print(pizza)\n",
    "pizzaToppings()\n",
    "pizzaToppings()\n",
    "pizzaToppings()"
   ]
  },
  {
   "cell_type": "markdown",
   "id": "e37a55aa",
   "metadata": {},
   "source": [
    "### Tuesday: Parameters\n",
    "Parameters are temporary variables declared on the function definition. While the functions we’ve written so far perform a specific task, they aren’t modular because they will always print out the same response for every call.\n",
    "\n",
    "Note A rguments are the values passed into the function call. In the preceding figure, line 3 is passing the argument “John” into the printName function, where it will the value will be passed into the parameter name"
   ]
  },
  {
   "cell_type": "code",
   "execution_count": 9,
   "id": "67318227",
   "metadata": {},
   "outputs": [
    {
     "name": "stdout",
     "output_type": "stream",
     "text": [
      "My name is Hacker\n",
      "My name is Programmer\n"
     ]
    }
   ],
   "source": [
    "# passing a single parameter into a function\n",
    "\n",
    "def printName(full_name):\n",
    "    print(\"My name is {}\".format(full_name))\n",
    "printName(\"Hacker\")\n",
    "printName(\"Programmer\")"
   ]
  },
  {
   "cell_type": "code",
   "execution_count": 15,
   "id": "fb4e17b8",
   "metadata": {},
   "outputs": [
    {
     "name": "stdout",
     "output_type": "stream",
     "text": [
      "7 + 10 = 17\n",
      "3.8 + 7.2 = 11.0\n"
     ]
    }
   ],
   "source": [
    "# passing multiple parameters into a function\n",
    "\n",
    "def printSum(num1, num2):\n",
    "    result = num1 + num2\n",
    "    print(\"{} + {} = {}\".format(num1, num2, result))\n",
    "printSum(7, 10)  #will output 17.0\n",
    "printSum(3.8, 7.2) #will output 11.0"
   ]
  },
  {
   "cell_type": "code",
   "execution_count": 17,
   "id": "ad86967a",
   "metadata": {},
   "outputs": [
    {
     "name": "stdout",
     "output_type": "stream",
     "text": [
      "[2, 5, 6, 7]\n",
      "[3, 4, 9]\n"
     ]
    }
   ],
   "source": [
    "# using a function to square all information\n",
    "\n",
    "nums1 = [2, 5, 6, 7]\n",
    "nums2 = [3, 4, 9]\n",
    "\n",
    "def squares(nums):\n",
    "    for num in nums:\n",
    "        print(num**2)\n",
    "print(nums1)\n",
    "print(nums2)"
   ]
  },
  {
   "cell_type": "code",
   "execution_count": null,
   "id": "69adbc1d",
   "metadata": {},
   "outputs": [],
   "source": [
    "# setting default parameter values\n",
    "def calcArea(r, pi = 3.14):\n",
    "    area = (r**2) *pi\n",
    "    print(\" The area of circle with radius {} units is {} square units\".format(r, area))\n",
    "\n",
    "\n",
    "calcArea(7)  #assuming radius is the value of 7\n",
    "    "
   ]
  },
  {
   "cell_type": "code",
   "execution_count": 24,
   "id": "9466479e",
   "metadata": {},
   "outputs": [
    {
     "name": "stdout",
     "output_type": "stream",
     "text": [
      "John Smith\n",
      "John Rock Smith\n"
     ]
    }
   ],
   "source": [
    "# setting optional default parameter values\n",
    "\n",
    "def myName(first, last, middle = \"\"): # Middle name is optional\n",
    "    if middle:\n",
    "        print(\"{} {} {}\".format(first, middle, last))\n",
    "    else:\n",
    "        print(\"{} {}\".format(first, last))\n",
    "myName(\"John\", \"Smith\")\n",
    "myName(\"John\", \"Smith\", \"Rock\")"
   ]
  },
  {
   "cell_type": "code",
   "execution_count": 25,
   "id": "26574e59",
   "metadata": {},
   "outputs": [
    {
     "name": "stdout",
     "output_type": "stream",
     "text": [
      "5\n",
      "2.5\n"
     ]
    }
   ],
   "source": [
    "# explicity assigning values to parameters by referencing the name\n",
    "\n",
    "def addNums(num1, num2):\n",
    "    print(num1)\n",
    "    print(num2)\n",
    "addNums(5, num2 = 2.5)"
   ]
  },
  {
   "cell_type": "markdown",
   "id": "eab2e559",
   "metadata": {},
   "source": [
    "#### *args\n",
    "The use of *args allows you to pass a variable number of arguments into a function. This allows you to make functions more modular. The magic isn’t the “args” keyword here though; it’s really the unary operator (*) that allows us to perform this feature"
   ]
  },
  {
   "cell_type": "code",
   "execution_count": 31,
   "id": "bb1f074c",
   "metadata": {},
   "outputs": [
    {
     "name": "stdout",
     "output_type": "stream",
     "text": [
      "<class 'tuple'>\n",
      "5\n",
      "True\n",
      "Jess\n"
     ]
    }
   ],
   "source": [
    "# using args parameter to take in a tuple of arbitrary values\n",
    "\n",
    "# def outputData(name, *args):\n",
    "#     print(type(*args))\n",
    "    \n",
    "#     for arg in args:\n",
    "#         print(arg)\n",
    "        \n",
    "# outputData(\"John Smith\", 5, True, \"Jess\")\n",
    "\n",
    "\n",
    "def outputData(name, *args):\n",
    "    print(type(args))\n",
    "    \n",
    "    for arg in args:\n",
    "        print(arg)\n",
    "        \n",
    "outputData(\"John Smith\", 5, True, \"Jess\")"
   ]
  },
  {
   "cell_type": "markdown",
   "id": "bd3f5db4",
   "metadata": {},
   "source": [
    "### **kwargs\n",
    "\n",
    "Like args, kwargs allows us to take in an arbitrary number of values in a function; however, it works as a dictionary with keyword arguments instead. Keyword arguments are values passed in with keys, which allow us to access them easily within the function block."
   ]
  },
  {
   "cell_type": "code",
   "execution_count": 33,
   "id": "6b6c7bd9",
   "metadata": {
    "scrolled": true
   },
   "outputs": [
    {
     "name": "stdout",
     "output_type": "stream",
     "text": [
      "<class 'dict'>\n",
      "John Smith\n",
      "6\n"
     ]
    }
   ],
   "source": [
    "# using kwargs parameter to take in a dictionary of arbitrary values\n",
    "def outputData(**kwargs):\n",
    "    print(type(kwargs))\n",
    "    print(kwargs[\"name\"])\n",
    "    print(kwargs[\"num\"])\n",
    "outputData(name = \"John Smith\", num =6, b=True)"
   ]
  },
  {
   "cell_type": "markdown",
   "id": "8ecd2a66",
   "metadata": {},
   "source": [
    "###### Tuesday Exercises\n",
    "1. User Input: Ask the user to input a word, and pass that word into a function that checks if the word starts with an uppercase. If it does output “True”, otherwise “False”.\n",
    "\n",
    "2. No Name: Define a function that takes in two arguments, first_name and last_name, and makes both optional. If no values are passed into the parameters, it should output “No name passed in”; otherwise, it should print out the name."
   ]
  },
  {
   "cell_type": "code",
   "execution_count": 54,
   "id": "6c891f97",
   "metadata": {},
   "outputs": [
    {
     "name": "stdout",
     "output_type": "stream",
     "text": [
      "Enter a word: Mak\n",
      "Mak\n"
     ]
    }
   ],
   "source": [
    "#User input\n",
    "\n",
    "\n",
    "def isUpper(word = input(\"Enter a word: \")):\n",
    "    if word[0] == word[0].upper():\n",
    "        print(word)\n",
    "    else:\n",
    "        print(\"The word does not start with a capital letter\")\n",
    "isUpper()"
   ]
  },
  {
   "cell_type": "code",
   "execution_count": 50,
   "id": "6ebad40d",
   "metadata": {},
   "outputs": [
    {
     "name": "stdout",
     "output_type": "stream",
     "text": [
      "No name passed in\n",
      "My name is Makori \n"
     ]
    }
   ],
   "source": [
    "# printName()\n",
    "def printName(first_name=\"\", last_name =\"\"):\n",
    "    if first_name or last_name:\n",
    "        print(\"My name is {} {}\".format(first_name, last_name))\n",
    "    else:\n",
    "        print(\"No name passed in\")\n",
    "printName()\n",
    "printName(\"Makori\")"
   ]
  },
  {
   "cell_type": "markdown",
   "id": "523f4f5b",
   "metadata": {},
   "source": [
    "### Wednesday: Return Statement\n",
    "Functions can manipulate data and then send it back to where the function call occurred to save the information to be used for later"
   ]
  },
  {
   "cell_type": "code",
   "execution_count": 58,
   "id": "f64bf760",
   "metadata": {},
   "outputs": [
    {
     "name": "stdout",
     "output_type": "stream",
     "text": [
      "12\n",
      "11.0\n",
      "True\n"
     ]
    }
   ],
   "source": [
    "# using return keyword to return the sum of two numbers\n",
    "\n",
    "def addNum(num1, num2):\n",
    "    return num1 + num2\n",
    "num = addNum(5,7) # saves returned value into num\n",
    "print(num)\n",
    "print(addNum(5.5, 5.5)) # doesn't save returned value\n",
    "\n",
    "# Ternary Operator\n",
    "# A ternary operator is a shorthand Python branching statement. These operators can\n",
    "# be used to assign values into a variable, or in this case, deciding what the return from a\n",
    "# function:\n",
    "\n",
    "# shorthand syntax using a ternary operator\n",
    "def  searchList(aList, el):\n",
    "    \n",
    "    return True if el in aList else False\n",
    "result = searchList([\"One\", 2, \"Three\"], 2)  #result = True\n",
    "\n",
    "print(result)\n",
    "\n",
    "# The same code written out normally would look like the following:\n",
    "# >>> if el in aList:\n",
    "# >>> return True\n",
    "# >>> else:\n",
    "# >>> return False"
   ]
  },
  {
   "cell_type": "markdown",
   "id": "07767c3e",
   "metadata": {},
   "source": [
    "##### Wednesday Exercises \n",
    "1. Full Name: Create a function that takes in a first and last name and returns the two names joined together.\n",
    "2. User Input: Within a function, ask for user input. Have this function return that input to be stored in a variable outside of the function. Then print out the input"
   ]
  },
  {
   "cell_type": "code",
   "execution_count": 67,
   "id": "4167d926",
   "metadata": {},
   "outputs": [
    {
     "name": "stdout",
     "output_type": "stream",
     "text": [
      "MakoriNyachaki\n"
     ]
    }
   ],
   "source": [
    "# Full Name\n",
    "def myName(first_name, last_name):\n",
    "    \n",
    "    return first_name + last_name # join the two names together\n",
    "\n",
    "name = myName(\"Makori\", \"Nyachaki\") # Store the name in the variable\n",
    "print(name)"
   ]
  },
  {
   "cell_type": "code",
   "execution_count": 68,
   "id": "ebde81d2",
   "metadata": {},
   "outputs": [
    {
     "name": "stdout",
     "output_type": "stream",
     "text": [
      "Enter your text: hj\n",
      "hj\n"
     ]
    }
   ],
   "source": [
    "# User Input\n",
    "def myInput(userInput = input(\"Enter your text: \")):\n",
    "    \n",
    "    return userInput\n",
    "\n",
    "save = myInput() # Save the user input in a variable\n",
    "print(save) # Output the user input"
   ]
  },
  {
   "cell_type": "markdown",
   "id": "046ba7a5",
   "metadata": {},
   "source": [
    "### Thursday: Scope\n",
    "\n",
    "##### Types of Scope\n",
    "\n",
    "1. Global scope is when you declare a variable to be accessible to an entire file or application\n",
    "2. Function scope is in reference to variables being declared and accessible only within functions"
   ]
  },
  {
   "cell_type": "code",
   "execution_count": 70,
   "id": "36ba9c75",
   "metadata": {
    "scrolled": true
   },
   "outputs": [
    {
     "ename": "UnboundLocalError",
     "evalue": "local variable 'number' referenced before assignment",
     "output_type": "error",
     "traceback": [
      "\u001b[1;31m---------------------------------------------------------------------------\u001b[0m",
      "\u001b[1;31mUnboundLocalError\u001b[0m                         Traceback (most recent call last)",
      "\u001b[1;32m<ipython-input-70-0cd63843400c>\u001b[0m in \u001b[0;36m<module>\u001b[1;34m\u001b[0m\n\u001b[0;32m      5\u001b[0m \u001b[1;32mdef\u001b[0m \u001b[0mscopeTest\u001b[0m\u001b[1;33m(\u001b[0m\u001b[1;33m)\u001b[0m\u001b[1;33m:\u001b[0m\u001b[1;33m\u001b[0m\u001b[1;33m\u001b[0m\u001b[0m\n\u001b[0;32m      6\u001b[0m     \u001b[0mnumber\u001b[0m \u001b[1;33m+=\u001b[0m\u001b[1;36m1\u001b[0m  \u001b[1;31m# not accessible due to function level scope\u001b[0m\u001b[1;33m\u001b[0m\u001b[1;33m\u001b[0m\u001b[0m\n\u001b[1;32m----> 7\u001b[1;33m \u001b[0mscopeTest\u001b[0m\u001b[1;33m(\u001b[0m\u001b[1;33m)\u001b[0m\u001b[1;33m\u001b[0m\u001b[1;33m\u001b[0m\u001b[0m\n\u001b[0m\u001b[0;32m      8\u001b[0m \u001b[1;33m\u001b[0m\u001b[0m\n\u001b[0;32m      9\u001b[0m \u001b[1;31m#Note When passed in, it only passes the value, not the variable.\u001b[0m\u001b[1;33m\u001b[0m\u001b[1;33m\u001b[0m\u001b[1;33m\u001b[0m\u001b[0m\n",
      "\u001b[1;32m<ipython-input-70-0cd63843400c>\u001b[0m in \u001b[0;36mscopeTest\u001b[1;34m()\u001b[0m\n\u001b[0;32m      4\u001b[0m \u001b[0mnumber\u001b[0m \u001b[1;33m=\u001b[0m \u001b[1;36m5\u001b[0m\u001b[1;33m\u001b[0m\u001b[1;33m\u001b[0m\u001b[0m\n\u001b[0;32m      5\u001b[0m \u001b[1;32mdef\u001b[0m \u001b[0mscopeTest\u001b[0m\u001b[1;33m(\u001b[0m\u001b[1;33m)\u001b[0m\u001b[1;33m:\u001b[0m\u001b[1;33m\u001b[0m\u001b[1;33m\u001b[0m\u001b[0m\n\u001b[1;32m----> 6\u001b[1;33m     \u001b[0mnumber\u001b[0m \u001b[1;33m+=\u001b[0m\u001b[1;36m1\u001b[0m  \u001b[1;31m# not accessible due to function level scope\u001b[0m\u001b[1;33m\u001b[0m\u001b[1;33m\u001b[0m\u001b[0m\n\u001b[0m\u001b[0;32m      7\u001b[0m \u001b[0mscopeTest\u001b[0m\u001b[1;33m(\u001b[0m\u001b[1;33m)\u001b[0m\u001b[1;33m\u001b[0m\u001b[1;33m\u001b[0m\u001b[0m\n\u001b[0;32m      8\u001b[0m \u001b[1;33m\u001b[0m\u001b[0m\n",
      "\u001b[1;31mUnboundLocalError\u001b[0m: local variable 'number' referenced before assignment"
     ]
    }
   ],
   "source": [
    "# When global attributes are defined, they’re accessible to the rest of the file\n",
    "# where global variables can be accessed\n",
    "\n",
    "number = 5\n",
    "def scopeTest():\n",
    "    number +=1  # not accessible due to function level scope\n",
    "scopeTest()\n",
    "\n",
    "#Note When passed in, it only passes the value, not the variable."
   ]
  },
  {
   "cell_type": "code",
   "execution_count": 72,
   "id": "acc4a39e",
   "metadata": {},
   "outputs": [
    {
     "name": "stdout",
     "output_type": "stream",
     "text": [
      "Function\n"
     ]
    }
   ],
   "source": [
    "# When dealing with variables declared in a function, you generally won’t need to access\n",
    "# it outside of the function. However, in order to access that value, best practice is to\n",
    "# return it:\n",
    "\n",
    "# accessing variables defined in a function\n",
    "def scopeTest():\n",
    "    word = \"Function\"\n",
    "    return word\n",
    "value = scopeTest()\n",
    "print(value)"
   ]
  },
  {
   "cell_type": "code",
   "execution_count": 74,
   "id": "c98b683e",
   "metadata": {},
   "outputs": [
    {
     "name": "stdout",
     "output_type": "stream",
     "text": [
      "Before altering : ['Baseball', 'Football', 'Volleyball', 'Handball', 'Hockey']\n",
      "After altering : ['Baseball', 'Soccer', 'Volleyball', 'Handball', 'Hockey']\n"
     ]
    }
   ],
   "source": [
    "########### In Place of an Algorithm ############\n",
    "# When passing variables into a function, you’re simply passing the value of that variable\n",
    "# and not the variable itself. Such that the following will not alter the variable num:\n",
    "# >>> num = 5\n",
    "# >>> def changeNum(n):\n",
    "# >>> n += 5\n",
    "# >>> print(num)\n",
    "\n",
    "# changing list item values by index\n",
    "sports = [\"Baseball\", \"Football\", \"Volleyball\", \"Handball\", \"Hockey\"]\n",
    "\n",
    "def change(aList):\n",
    "    aList[1] = \"Soccer\"\n",
    "print(\"Before altering : {}\".format(sports))\n",
    "\n",
    "change(sports)\n",
    "print(\"After altering : {}\".format(sports))\n",
    "\n",
    "# Notice how the first item in the sports list changes when\n",
    "# the function is called. This is due a change in value by the index itself when the list is\n",
    "# passed in. These are known as in-place algorithms because no matter where you alter\n",
    "# the information, it will change the values in the memory location directly."
   ]
  },
  {
   "cell_type": "markdown",
   "id": "3b3a6a6b",
   "metadata": {},
   "source": [
    "##### Thursday Exercises \n",
    "\n",
    "1. Names: Create a function that will change the list passed in with a parameter of name at a given index. Such that if I were to pass in “Bill” and index 1, it would change “Rich” to “Bill.” Use the list and function definition in the following:\n",
    ">>> names = ['Bob', 'Rich', 'Amanda']\n",
    "\n",
    ">>> def changeValue(aList, name, index):"
   ]
  },
  {
   "cell_type": "code",
   "execution_count": 76,
   "id": "484a2d6f",
   "metadata": {},
   "outputs": [
    {
     "name": "stdout",
     "output_type": "stream",
     "text": [
      "['Bob', 'Bill', 'Amanda']\n"
     ]
    }
   ],
   "source": [
    "names = ['Bob', 'Rich', 'Amanda']\n",
    "def changeValue(aList, name, index):\n",
    "    aList[index] = name\n",
    "changeValue(names, \"Bill\", 1)\n",
    "print(names)"
   ]
  },
  {
   "cell_type": "markdown",
   "id": "190c5862",
   "metadata": {},
   "source": [
    "### Friday: Cart Project"
   ]
  },
  {
   "cell_type": "code",
   "execution_count": null,
   "id": "80cab9bd",
   "metadata": {},
   "outputs": [
    {
     "name": "stdout",
     "output_type": "stream",
     "text": [
      "quit/add/remove/show/clear: add\n",
      "quit/add/remove/show/clear: quit\n",
      "quit/add/remove/show/clear: quit\n",
      "quit/add/remove/show/clear: clear\n",
      "quit/add/remove/show/clear: remove\n",
      "quit/add/remove/show/clear: show\n"
     ]
    }
   ],
   "source": [
    "# Import the necessary functions\n",
    "from IPython.display import clear_output\n",
    "\n",
    "# global list variable\n",
    "cart = [ ]\n",
    "\n",
    "#create functionto add items\n",
    "def addItem(item):\n",
    "    clear_output()\n",
    "    cart.append(item)\n",
    "    print(\"{ } has been added.\".format(item))\n",
    "    \n",
    "# Create function to remove items from cart\n",
    "def removeItem(item):\n",
    "    clear_output()\n",
    "    try:\n",
    "        cart.remove(item)\n",
    "        print(\"{} has been removed.\".format(item))\n",
    "    except:\n",
    "        print(\"Sorry we could not remove that item.\")\n",
    "        \n",
    "# Create a function to show items on the cart\n",
    "def showCart():\n",
    "    clear_output()\n",
    "    if cart:\n",
    "        print(\"Here is your cart:\")\n",
    "        for item in cart:\n",
    "            print(\"-{}\".format(item))\n",
    "    else:\n",
    "        print(\"Your cart is empty.\")\n",
    "        \n",
    "# Create a fucttion to clear items from the cart\n",
    "def clearCart():\n",
    "    clear_output()\n",
    "    cart.clear()\n",
    "    print(\"Your cart is empty.\")\n",
    "    \n",
    "# Create the main function that loops until the user quits\n",
    "def main():\n",
    "    done = False\n",
    "    \n",
    "    while not done:\n",
    "        ans = input(\"quit/add/remove/show/clear: \").lower()\n",
    "       \n",
    "    #base case\n",
    "    if ans == 'quit':\n",
    "        print(\"Thanks for using our program.\")\n",
    "        showCart()\n",
    "        done = True\n",
    "    elif ans == 'add':\n",
    "        item = input(\"What would you like to add? \").title()\n",
    "        addItem(item)\n",
    "    elif ans == 'remove':\n",
    "        showCart()\n",
    "        item = input(\"What would you like to remove? \").title()\n",
    "        removeItem(item)\n",
    "    elif ans == 'show':\n",
    "        showCart()\n",
    "    elif ans == 'clear':\n",
    "        clearCart()\n",
    "    else:\n",
    "        print(\"Sorry that was not an option\")\n",
    "\n",
    "main() #run the program"
   ]
  },
  {
   "cell_type": "code",
   "execution_count": null,
   "id": "d3b92545",
   "metadata": {},
   "outputs": [],
   "source": []
  }
 ],
 "metadata": {
  "kernelspec": {
   "display_name": "Python 3 (ipykernel)",
   "language": "python",
   "name": "python3"
  },
  "language_info": {
   "codemirror_mode": {
    "name": "ipython",
    "version": 3
   },
   "file_extension": ".py",
   "mimetype": "text/x-python",
   "name": "python",
   "nbconvert_exporter": "python",
   "pygments_lexer": "ipython3",
   "version": "3.9.7"
  }
 },
 "nbformat": 4,
 "nbformat_minor": 5
}
