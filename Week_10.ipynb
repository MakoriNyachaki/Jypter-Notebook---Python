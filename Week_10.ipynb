{
 "cells": [
  {
   "cell_type": "markdown",
   "id": "23693295",
   "metadata": {},
   "source": [
    "# CHAPTER TEN\n",
    "\n",
    "## Introduction to Data Analysis\n",
    "\n",
    "We’ll learn about the Pandas library and how to work with tabular data structures, web scraping with BeautifulSoup and understanding how to parse data, as well as data visualization libraries like matplotlib. At the end of the week, we’ll use all these libraries together to create a small project that scrapes and analyzes web sites.\n",
    "\n",
    "###### Overview\n",
    "\n",
    "• Working with Anaconda environments and sending requests\n",
    "\n",
    "• Learning how to analyze tabular data structures with Pandas\n",
    "\n",
    "• Understanding how to present data using matplotlib\n",
    "\n",
    "• Using the BeautifulSoup library to scrape the Web for data\n",
    "\n",
    "• Creating a web site analysis tool\n",
    "\n",
    "###### Challenge Question\n",
    "\n",
    "Imagine you’re a data analyst and you’ve just been handed a set of data that shows the number of accidents for all drivers, their ages, and the size of their engines. You need to figure out a way to display this information so that it tells a story. Normally you would create a graph with x, y, z coordinates; however, that can become complicated, and you don’t have time for\n",
    "that. How would you render the information so that it’s still considered 3-dimensional, but you can only use the x and y axis?\n",
    "\n",
    "### Monday: Virtual Environments and Requests Module\n",
    "\n",
    "###### Virtual Enviroments\n",
    "\n",
    "Python virtual environments are essentially a tool that allows you to keep project dependencies in a separate space from other projects. Most projects in Python need to use modules that are not included by default with Python. Now, you could simply\n",
    "download the modules (or libraries) into your Python folder to use; however, that could cause some issues down the road. Let’s say you’re working on two separate projects, where the first one uses Python version 2.7 and the second project uses Python version 3.5. If you try and use the same syntax for both, you’ll run into several issues. Instead, you would create two separate virtual environments, one for each project.\n",
    "\n",
    "Note When creating a virtual environment, a folder called “venv ” will appear. This is where all the libraries that you download are saved. Simply put, a virtual environment is not much more than a folder that stores other files.\n",
    "\n",
    "Note R emember from the first chapter, when working in terminal, you’ll see the $ next to the commands that we enter. For the next few sections, we’ll be working inside of terminal."
   ]
  },
  {
   "cell_type": "markdown",
   "id": "0703c47a",
   "metadata": {},
   "source": [
    "##### Pip\n",
    "Pip is a standard package manager in Python. It is used in downloading, installing, unstalling or managing many Python modules and libraries that are not inbuilt.It has been included in all installations of Python since v3.4. To check your version of pip, write the following in terminal:\n",
    "    $ pip --version\n",
    "    \n",
    "Feel free to visit the Python Package Index (PyPI) to view all the possible libraries that you’re able to download.\n"
   ]
  },
  {
   "cell_type": "markdown",
   "id": "8e16dba0",
   "metadata": {},
   "source": [
    "###### Creating a Virtual Environment\n",
    "Use the following command\n",
    "\n",
    "\n",
    "    $ conda create --name data_analysis python=3.7"
   ]
  },
  {
   "cell_type": "code",
   "execution_count": 1,
   "id": "eb043865",
   "metadata": {},
   "outputs": [],
   "source": [
    "a =0\n",
    "b =0\n",
    "def multiply(a, b):\n",
    "    a * b\n",
    "    \n",
    "multiply(4,6)"
   ]
  },
  {
   "cell_type": "markdown",
   "id": "1cefa3c2",
   "metadata": {},
   "source": [
    "###### APIs and the Requests Module\n",
    "\n",
    "The requests module allows us to make HTTP requests using Python. It is the standard library for making API calls and requesting information from outside resources.\n",
    "\n",
    "###### Note\n",
    "\n",
    "If you’re unfamiliar with HTTP requests, I suggest checking out the w3schools1 resource for more information, as this book is not designed to cover networking.\n",
    "An application programming interface (API) is a set of functions and procedures that allow applications to access the features or data of an operating system, application, or other service. In a simpler description, APIs allow us to interact with web pages and software designed by other developers."
   ]
  },
  {
   "cell_type": "markdown",
   "id": "e7347c7f",
   "metadata": {},
   "source": [
    "#### Virtual Environments and Requests Module.\n",
    "\n",
    "###### Sending a request\n",
    "\n",
    "For this lesson, we’ll be requesting information from an API created by Github. Generally, APIs require a key in order to use their service; however, we’ll be using one that doesn’t require an API key. To begin, we must send a request to a specific URL,\n",
    "which will send a response back to us. That response will include data that we’ll be able to parse through. Write the following:"
   ]
  },
  {
   "cell_type": "code",
   "execution_count": 1,
   "id": "b290f302",
   "metadata": {},
   "outputs": [
    {
     "name": "stdout",
     "output_type": "stream",
     "text": [
      "<Response [200]>\n",
      "<class 'requests.models.Response'>\n"
     ]
    }
   ],
   "source": [
    "#  Sending a request and logging the response\n",
    "import requests\n",
    "r = requests.get(\"https://api.github.com/users/connor-SM\")\n",
    "print(r)\n",
    "print(type(r))"
   ]
  },
  {
   "cell_type": "markdown",
   "id": "5842b124",
   "metadata": {},
   "source": [
    "###### Accessing the Response Content \n",
    "In order to access the data that we get back in the response, we need to access the\n",
    "content attribute within our requests object:"
   ]
  },
  {
   "cell_type": "code",
   "execution_count": 2,
   "id": "8df1b502",
   "metadata": {},
   "outputs": [
    {
     "name": "stdout",
     "output_type": "stream",
     "text": [
      "b'{\"login\":\"Connor-SM\",\"id\":20958711,\"node_id\":\"MDQ6VXNlcjIwOTU4NzEx\",\"avatar_url\":\"https://avatars.githubusercontent.com/u/20958711?v=4\",\"gravatar_id\":\"\",\"url\":\"https://api.github.com/users/Connor-SM\",\"html_url\":\"https://github.com/Connor-SM\",\"followers_url\":\"https://api.github.com/users/Connor-SM/followers\",\"following_url\":\"https://api.github.com/users/Connor-SM/following{/other_user}\",\"gists_url\":\"https://api.github.com/users/Connor-SM/gists{/gist_id}\",\"starred_url\":\"https://api.github.com/users/Connor-SM/starred{/owner}{/repo}\",\"subscriptions_url\":\"https://api.github.com/users/Connor-SM/subscriptions\",\"organizations_url\":\"https://api.github.com/users/Connor-SM/orgs\",\"repos_url\":\"https://api.github.com/users/Connor-SM/repos\",\"events_url\":\"https://api.github.com/users/Connor-SM/events{/privacy}\",\"received_events_url\":\"https://api.github.com/users/Connor-SM/received_events\",\"type\":\"User\",\"site_admin\":false,\"name\":\"Connor Milliken\",\"company\":\"HubSpot, Inc.\",\"blog\":\"www.connormilliken.com\",\"location\":\"Boston, MA\",\"email\":null,\"hireable\":null,\"bio\":\"- Author of Python Projects for Beginners\\\\r\\\\n\\\\r\\\\n- Python Instructor\\\\r\\\\n\\\\r\\\\n- Adventurer/Traveler\",\"twitter_username\":null,\"public_repos\":51,\"public_gists\":0,\"followers\":101,\"following\":36,\"created_at\":\"2016-08-10T22:39:46Z\",\"updated_at\":\"2022-02-03T01:35:00Z\"}'\n"
     ]
    }
   ],
   "source": [
    "## Accessing the content that we requested from the URL\n",
    "data = r.content\n",
    "print(data)"
   ]
  },
  {
   "cell_type": "markdown",
   "id": "013997a7",
   "metadata": {},
   "source": [
    "##### Converting the Response\n",
    "Luckily for us, the requests object comes with a built-in JSON conversion method calledjson(). After we convert the response to a dictionary, let’s output all the key-value pairs:"
   ]
  },
  {
   "cell_type": "code",
   "execution_count": 3,
   "id": "82ceac62",
   "metadata": {},
   "outputs": [
    {
     "name": "stdout",
     "output_type": "stream",
     "text": [
      "Key: login \t Value: Connor-SM\n",
      "Connor Milliken\n",
      "Key: id \t Value: 20958711\n",
      "Connor Milliken\n",
      "Key: node_id \t Value: MDQ6VXNlcjIwOTU4NzEx\n",
      "Connor Milliken\n",
      "Key: avatar_url \t Value: https://avatars.githubusercontent.com/u/20958711?v=4\n",
      "Connor Milliken\n",
      "Key: gravatar_id \t Value: \n",
      "Connor Milliken\n",
      "Key: url \t Value: https://api.github.com/users/Connor-SM\n",
      "Connor Milliken\n",
      "Key: html_url \t Value: https://github.com/Connor-SM\n",
      "Connor Milliken\n",
      "Key: followers_url \t Value: https://api.github.com/users/Connor-SM/followers\n",
      "Connor Milliken\n",
      "Key: following_url \t Value: https://api.github.com/users/Connor-SM/following{/other_user}\n",
      "Connor Milliken\n",
      "Key: gists_url \t Value: https://api.github.com/users/Connor-SM/gists{/gist_id}\n",
      "Connor Milliken\n",
      "Key: starred_url \t Value: https://api.github.com/users/Connor-SM/starred{/owner}{/repo}\n",
      "Connor Milliken\n",
      "Key: subscriptions_url \t Value: https://api.github.com/users/Connor-SM/subscriptions\n",
      "Connor Milliken\n",
      "Key: organizations_url \t Value: https://api.github.com/users/Connor-SM/orgs\n",
      "Connor Milliken\n",
      "Key: repos_url \t Value: https://api.github.com/users/Connor-SM/repos\n",
      "Connor Milliken\n",
      "Key: events_url \t Value: https://api.github.com/users/Connor-SM/events{/privacy}\n",
      "Connor Milliken\n",
      "Key: received_events_url \t Value: https://api.github.com/users/Connor-SM/received_events\n",
      "Connor Milliken\n",
      "Key: type \t Value: User\n",
      "Connor Milliken\n",
      "Key: site_admin \t Value: False\n",
      "Connor Milliken\n",
      "Key: name \t Value: Connor Milliken\n",
      "Connor Milliken\n",
      "Key: company \t Value: HubSpot, Inc.\n",
      "Connor Milliken\n",
      "Key: blog \t Value: www.connormilliken.com\n",
      "Connor Milliken\n",
      "Key: location \t Value: Boston, MA\n",
      "Connor Milliken\n",
      "Key: email \t Value: None\n",
      "Connor Milliken\n",
      "Key: hireable \t Value: None\n",
      "Connor Milliken\n",
      "Key: bio \t Value: - Author of Python Projects for Beginners\r\n",
      "\r\n",
      "- Python Instructor\r\n",
      "\r\n",
      "- Adventurer/Traveler\n",
      "Connor Milliken\n",
      "Key: twitter_username \t Value: None\n",
      "Connor Milliken\n",
      "Key: public_repos \t Value: 51\n",
      "Connor Milliken\n",
      "Key: public_gists \t Value: 0\n",
      "Connor Milliken\n",
      "Key: followers \t Value: 101\n",
      "Connor Milliken\n",
      "Key: following \t Value: 36\n",
      "Connor Milliken\n",
      "Key: created_at \t Value: 2016-08-10T22:39:46Z\n",
      "Connor Milliken\n",
      "Key: updated_at \t Value: 2022-02-03T01:35:00Z\n",
      "Connor Milliken\n"
     ]
    }
   ],
   "source": [
    "# Converting data from JSON into a python dictionary and outputting all key-value pairs\n",
    "data = r.json() # Converting the data from a string to a dictionary\n",
    "for k, v in data.items():\n",
    "    print(\"Key: {} \\t Value: {}\".format(k,v))\n",
    "    print(data[\"name\"]) # Accessing data directly"
   ]
  },
  {
   "cell_type": "markdown",
   "id": "b49b7e8e",
   "metadata": {},
   "source": [
    "###### Passing Parameters\n",
    "Most API calls that you perform will require extra information like parameters or headers. This information is taken in by the API and used to perform a specific task. Let’s perform a call this time while passing parameters in the URL to search for Python-specific repositories on Github:"
   ]
  },
  {
   "cell_type": "code",
   "execution_count": 4,
   "id": "c822025f",
   "metadata": {},
   "outputs": [
    {
     "name": "stdout",
     "output_type": "stream",
     "text": [
      "8414792\n"
     ]
    }
   ],
   "source": [
    "# outputting specific key-value pairs from data\n",
    "r = requests.get(\"https://api.github.com/search/repositories?q=language:python\")\n",
    "data = r.json()\n",
    "print(data[\"total_count\"]) # output the total number of repositories that use python"
   ]
  },
  {
   "cell_type": "markdown",
   "id": "5f7f409b",
   "metadata": {},
   "source": [
    "###### Monday Exercises\n",
    "\n",
    "1. Test Environment: Create a new virtual environment called “test.” When creating it, install Python version 2.7 instead of the current version. After it’s completed, make sure it installed the proper version of Python by checking the list.\n",
    "\n",
    "2. JavaScript Repositories: Using the requests module and the Github API link in our last lesson, figure out how many repositories on Github use JavaScript."
   ]
  },
  {
   "cell_type": "markdown",
   "id": "05400b49",
   "metadata": {},
   "source": [
    "##### Solutions\n",
    "###### QN 1.\n",
    "(base) C:\\Users\\Lenovo\\Desktop\\python_bootcamp>conda create --name test python=2.7\n",
    "Collecting package metadata (current_repodata.json): done\n",
    "Solving environment: failed with repodata from current_repodata.json, will retry with next repodata source.\n",
    "Collecting package metadata (repodata.json): done\n",
    "Solving environment: done\n",
    "\n",
    "\n",
    "==> WARNING: A newer version of conda exists. <==\n",
    "  current version: 4.11.0\n",
    "  latest version: 4.12.0\n",
    "\n",
    "Please update conda by running\n",
    "\n",
    "    $ conda update -n base -c defaults conda\n",
    "\n",
    "\n",
    "\n",
    "## Package Plan ##\n",
    "\n",
    "  environment location: C:\\Users\\Lenovo\\miniconda3\\envs\\test\n",
    "\n",
    "  added / updated specs:\n",
    "    - python=2.7\n",
    "\n",
    "\n",
    "The following packages will be downloaded:\n",
    "\n",
    "    package                    |            build\n",
    "    ---------------------------|-----------------\n",
    "    certifi-2020.6.20          |     pyhd3eb1b0_3         155 KB\n",
    "    pip-19.3.1                 |           py27_0         1.7 MB\n",
    "    python-2.7.18              |       hfb89ab9_0        15.5 MB\n",
    "    setuptools-44.0.0          |           py27_0         528 KB\n",
    "    sqlite-3.30.1              |       h0c8e037_0         588 KB\n",
    "    vc-9                       |       h2eaa2aa_6           5 KB\n",
    "    vs2008_runtime-9.00.30729.1|       haa95532_6         501 KB\n",
    "    wincertstore-0.2           |   py27hf04cefb_0          14 KB\n",
    "    ------------------------------------------------------------\n",
    "                                           Total:        18.9 MB\n",
    "\n",
    "The following NEW packages will be INSTALLED:\n",
    "\n",
    "  ca-certificates    pkgs/main/win-64::ca-certificates-2022.4.26-haa95532_0\n",
    "  certifi            pkgs/main/noarch::certifi-2020.6.20-pyhd3eb1b0_3\n",
    "  pip                pkgs/main/win-64::pip-19.3.1-py27_0\n",
    "  python             pkgs/main/win-64::python-2.7.18-hfb89ab9_0\n",
    "  setuptools         pkgs/main/win-64::setuptools-44.0.0-py27_0\n",
    "  sqlite             pkgs/main/win-64::sqlite-3.30.1-h0c8e037_0\n",
    "  vc                 pkgs/main/win-64::vc-9-h2eaa2aa_6\n",
    "  vs2008_runtime     pkgs/main/win-64::vs2008_runtime-9.00.30729.1-haa95532_6\n",
    "  wheel              pkgs/main/noarch::wheel-0.37.1-pyhd3eb1b0_0\n",
    "  wincertstore       pkgs/main/win-64::wincertstore-0.2-py27hf04cefb_0\n",
    "\n",
    "\n",
    "Proceed ([y]/n)? y\n",
    "\n",
    "\n",
    "Downloading and Extracting Packages\n",
    "wincertstore-0.2     | 14 KB     | ############################################################################ | 100%\n",
    "certifi-2020.6.20    | 155 KB    | ############################################################################ | 100%\n",
    "sqlite-3.30.1        | 588 KB    | ############################################################################ | 100%\n",
    "vs2008_runtime-9.00. | 501 KB    | ############################################################################ | 100%\n",
    "pip-19.3.1           | 1.7 MB    | ############################################################################ | 100%\n",
    "vc-9                 | 5 KB      | ############################################################################ | 100%\n",
    "setuptools-44.0.0    | 528 KB    | ############################################################################ | 100%\n",
    "python-2.7.18        | 15.5 MB   | ############################################################################ | 100%\n",
    "Preparing transaction: done\n",
    "Verifying transaction: done\n",
    "Executing transaction: done\n",
    "#\n",
    "# To activate this environment, use\n",
    "#\n",
    "#     $ conda activate test\n",
    "#\n",
    "# To deactivate an active environment, use\n",
    "#\n",
    "#     $ conda deactivate\n",
    "\n",
    "\n",
    "(base) C:\\Users\\Lenovo\\Desktop\\python_bootcamp>conda activate test\n",
    "\n",
    "(test) C:\\Users\\Lenovo\\Desktop\\python_bootcamp>python\n",
    "Python 2.7.18 |Anaconda, Inc.| (default, Apr 23 2020, 17:26:54) [MSC v.1500 64 bit (AMD64)] on win32\n",
    "Type \"help\", \"copyright\", \"credits\" or \"license\" for more information.\n",
    ">>> import os\n",
    ">>> import sys\n",
    ">>> os.path.dirname(sys.executable)\n",
    "'C:\\\\Users\\\\Lenovo\\\\miniconda3\\\\envs\\\\test'\n",
    ">>> quit()\n",
    "\n",
    "(test) C:\\Users\\Lenovo\\Desktop\\python_bootcamp>\n",
    "\n",
    "."
   ]
  },
  {
   "cell_type": "code",
   "execution_count": 7,
   "id": "7b57b884",
   "metadata": {},
   "outputs": [
    {
     "name": "stdout",
     "output_type": "stream",
     "text": [
      "16513796\n"
     ]
    }
   ],
   "source": [
    "##### QN 2.\n",
    "\n",
    "# outputting specific key-value pairs from data\n",
    "p = requests.get(\"https://api.github.com/search/repositories?q=language:javascript\")\n",
    "data = p.json()\n",
    "print(data[\"total_count\"]) # output the total number of repositories that use JavaScript"
   ]
  },
  {
   "cell_type": "markdown",
   "id": "ffc9dce4",
   "metadata": {},
   "source": [
    "### Tuesday: Pandas\n",
    "\n",
    "Like how yesterday’s lesson began, we need to install the Pandas library into our virtual environment. To follow along with today’s lesson, cd into the “python_bootcamp” folder, and activate the environment. We’ll begin today within the terminal.\n",
    "\n",
    "##### What is Pandas?\n",
    "\n",
    "Pandas is a flexible data analysis library built within the C language, which is excellent for working with tabular data. It is currently the de facto standard for Python-based data analysis, and fluency in Pandas will do wonders for your productivity and frankly your resume. It is one of the fastest ways of getting from zero to answer. Having been written in C, it has increased speed when performing calculations. The Pandas module is a high performance, highly efficient, and high-level data analysis library. It allows us to work with large sets of data called DataFrames.\n",
    "\n",
    "###### Note\n",
    "NumPy is a fundamental package for scientific computing in Python. Built from the C language, it uses multidimensional arrays and can perform calculations at high-rate speeds.\n",
    "\n",
    "##### Pandas is useful in the folloeing ways:\n",
    "\n",
    "• Calculate statistics and answer questions about the data like average, median, max, and min of each column\n",
    "\n",
    "• Finding correlations between columns\n",
    "\n",
    "• Tracking the distribution of one or more columns\n",
    "\n",
    "• Visualizing the data with the help of matplotlib, using plot bars, histograms, etc.\n",
    "\n",
    "• Cleaning and filtering data, whether it’s missing or incomplete, just by applying a user-defined function (UDF) or built-in function\n",
    "\n",
    "• Transforming tabular data into Python to work with\n",
    "\n",
    "• Exporting the data into a CSV, other file, or database\n",
    "\n",
    "• Feature engineer new columns that can be applied to your analysis"
   ]
  },
  {
   "cell_type": "markdown",
   "id": "a7c52ede",
   "metadata": {},
   "source": [
    "###### Key Terms\n",
    "\n",
    "• Series ➤ One-dimensional labeled array capable of holding data of any type\n",
    "\n",
    "• DataFrame ➤ Spreadsheet\n",
    "\n",
    "• Axis ➤ Column or row, axis = 0 by row; axis = 1 by column\n",
    "\n",
    "• Record ➤ A single row\n",
    "\n",
    "• dtype ➤ Data type for DataFrame or series object\n",
    "\n",
    "• Time Series ➤ Series object that uses time intervals, like tracking weather by the hour\n",
    "\n",
    "###### Installing Pandas\n",
    "$ pip install pandas"
   ]
  },
  {
   "cell_type": "markdown",
   "id": "10edfb7a",
   "metadata": {},
   "source": [
    "#### Pandas\n",
    "\n",
    "##### Importing Pandas\n",
    "To follow along with the rest of this lesson, let’s open and continue from our previous notebook file “Week_10” and simply add a markdown cell at the bottom that says, “Pandas.” Importing Pandas is simple; however, there is an industry standard when you import the library:\n",
    "\n"
   ]
  },
  {
   "cell_type": "code",
   "execution_count": 9,
   "id": "ceedb11a",
   "metadata": {},
   "outputs": [],
   "source": [
    "# Importing the pandas Librayry\n",
    "import pandas as pd #industry standard name of pd when iporting"
   ]
  },
  {
   "cell_type": "code",
   "execution_count": 11,
   "id": "e466b876",
   "metadata": {},
   "outputs": [
    {
     "name": "stdout",
     "output_type": "stream",
     "text": [
      "<module 'pandas' from 'C:\\\\Users\\\\Lenovo\\\\anaconda3\\\\lib\\\\site-packages\\\\pandas\\\\__init__.py'>\n"
     ]
    }
   ],
   "source": [
    "## Creating a DataFrame\n",
    "# using the from_dict method to convert a dictionary into Pandas DataFrame\n",
    "import random\n",
    "\n",
    "random.seed(3) #generate same random numbers every time number is used doesn't matter\n",
    "names = [\"Jess\", \"Tim\", \"Terry\", \"Mark\", \"Tyler\", \"Rebecca\"]\n",
    "ages = [random.randint(18, 35) for x in range (len(names))]\n",
    "\n",
    "people = {\"names\": names, \"ages\": ages}\n",
    "\n",
    "df = pd.DataFrame.from_dict(people)\n",
    "print(pd)"
   ]
  },
  {
   "cell_type": "markdown",
   "id": "b191ad39",
   "metadata": {},
   "source": [
    "Go ahead and run the cell. We import the random module so that we may create random ages for our people on line 7. Using the seed method on line 4 will give us both the same random numbers to work with. You could pass any number as the argument into seed; however, if you use a number other than 3, you’ll get a different output than this book.\n",
    "Note R andom numbers aren’t truly random; they follow a specific algorithm to return a number. After we generate a list of names and random ages for each person, we create a\n",
    "dictionary called “people.” The magic truly happens on line 11, where we use Pandas to create the DataFrame that we’ll be working with. When it’s created, it uses the keys as\n",
    "the column names, and the values match up with the corresponding index, such that names[0] and ages[0] will be a single record."
   ]
  },
  {
   "cell_type": "markdown",
   "id": "e2d96662",
   "metadata": {},
   "source": [
    "##### Accessing Data\n",
    "There are a few different ways that we can access the data within a DataFrame. You havethe option to choose by the column or by the record. Let’s look at how to do both.\n",
    "\n",
    "\n",
    "###### Indexing by a column\n",
    "Accessing data by a column is the same as accessing data from a dictionary with the key. Within the first set of brackets, you put the column name that you would like to access."
   ]
  },
  {
   "cell_type": "code",
   "execution_count": 12,
   "id": "74ae630a",
   "metadata": {},
   "outputs": [
    {
     "name": "stdout",
     "output_type": "stream",
     "text": [
      "0    25\n",
      "1    35\n",
      "2    22\n",
      "3    29\n",
      "4    33\n",
      "5    20\n",
      "Name: ages, dtype: int64\n"
     ]
    },
    {
     "ename": "KeyError",
     "evalue": "'s'",
     "output_type": "error",
     "traceback": [
      "\u001b[1;31m---------------------------------------------------------------------------\u001b[0m",
      "\u001b[1;31mKeyError\u001b[0m                                  Traceback (most recent call last)",
      "\u001b[1;32m~\\anaconda3\\lib\\site-packages\\pandas\\core\\indexes\\base.py\u001b[0m in \u001b[0;36mget_loc\u001b[1;34m(self, key, method, tolerance)\u001b[0m\n\u001b[0;32m   3079\u001b[0m             \u001b[1;32mtry\u001b[0m\u001b[1;33m:\u001b[0m\u001b[1;33m\u001b[0m\u001b[1;33m\u001b[0m\u001b[0m\n\u001b[1;32m-> 3080\u001b[1;33m                 \u001b[1;32mreturn\u001b[0m \u001b[0mself\u001b[0m\u001b[1;33m.\u001b[0m\u001b[0m_engine\u001b[0m\u001b[1;33m.\u001b[0m\u001b[0mget_loc\u001b[0m\u001b[1;33m(\u001b[0m\u001b[0mcasted_key\u001b[0m\u001b[1;33m)\u001b[0m\u001b[1;33m\u001b[0m\u001b[1;33m\u001b[0m\u001b[0m\n\u001b[0m\u001b[0;32m   3081\u001b[0m             \u001b[1;32mexcept\u001b[0m \u001b[0mKeyError\u001b[0m \u001b[1;32mas\u001b[0m \u001b[0merr\u001b[0m\u001b[1;33m:\u001b[0m\u001b[1;33m\u001b[0m\u001b[1;33m\u001b[0m\u001b[0m\n",
      "\u001b[1;32mpandas\\_libs\\index.pyx\u001b[0m in \u001b[0;36mpandas._libs.index.IndexEngine.get_loc\u001b[1;34m()\u001b[0m\n",
      "\u001b[1;32mpandas\\_libs\\index.pyx\u001b[0m in \u001b[0;36mpandas._libs.index.IndexEngine.get_loc\u001b[1;34m()\u001b[0m\n",
      "\u001b[1;32mpandas\\_libs\\hashtable_class_helper.pxi\u001b[0m in \u001b[0;36mpandas._libs.hashtable.PyObjectHashTable.get_item\u001b[1;34m()\u001b[0m\n",
      "\u001b[1;32mpandas\\_libs\\hashtable_class_helper.pxi\u001b[0m in \u001b[0;36mpandas._libs.hashtable.PyObjectHashTable.get_item\u001b[1;34m()\u001b[0m\n",
      "\u001b[1;31mKeyError\u001b[0m: 's'",
      "\nThe above exception was the direct cause of the following exception:\n",
      "\u001b[1;31mKeyError\u001b[0m                                  Traceback (most recent call last)",
      "\u001b[1;32m<ipython-input-12-decf4fb4cf32>\u001b[0m in \u001b[0;36m<module>\u001b[1;34m\u001b[0m\n\u001b[0;32m      1\u001b[0m \u001b[1;31m# directly selecting a column in Pandas\u001b[0m\u001b[1;33m\u001b[0m\u001b[1;33m\u001b[0m\u001b[1;33m\u001b[0m\u001b[0m\n\u001b[0;32m      2\u001b[0m \u001b[0mprint\u001b[0m\u001b[1;33m(\u001b[0m\u001b[0mdf\u001b[0m\u001b[1;33m[\u001b[0m\u001b[1;34m\"ages\"\u001b[0m\u001b[1;33m]\u001b[0m\u001b[1;33m)\u001b[0m\u001b[1;33m\u001b[0m\u001b[1;33m\u001b[0m\u001b[0m\n\u001b[1;32m----> 3\u001b[1;33m \u001b[0mprint\u001b[0m\u001b[1;33m(\u001b[0m\u001b[0mdf\u001b[0m\u001b[1;33m[\u001b[0m\u001b[1;34m\"ages\"\u001b[0m\u001b[1;33m[\u001b[0m\u001b[1;36m3\u001b[0m\u001b[1;33m]\u001b[0m\u001b[1;33m]\u001b[0m\u001b[1;33m)\u001b[0m \u001b[1;31m# Selct the value of \"ages\" in the fourth row(0- index based)\u001b[0m\u001b[1;33m\u001b[0m\u001b[1;33m\u001b[0m\u001b[0m\n\u001b[0m\u001b[0;32m      4\u001b[0m \u001b[1;33m\u001b[0m\u001b[0m\n\u001b[0;32m      5\u001b[0m \u001b[1;31m# print(df[4]) doesn't work, 4 is not a column name\u001b[0m\u001b[1;33m\u001b[0m\u001b[1;33m\u001b[0m\u001b[1;33m\u001b[0m\u001b[0m\n",
      "\u001b[1;32m~\\anaconda3\\lib\\site-packages\\pandas\\core\\frame.py\u001b[0m in \u001b[0;36m__getitem__\u001b[1;34m(self, key)\u001b[0m\n\u001b[0;32m   3022\u001b[0m             \u001b[1;32mif\u001b[0m \u001b[0mself\u001b[0m\u001b[1;33m.\u001b[0m\u001b[0mcolumns\u001b[0m\u001b[1;33m.\u001b[0m\u001b[0mnlevels\u001b[0m \u001b[1;33m>\u001b[0m \u001b[1;36m1\u001b[0m\u001b[1;33m:\u001b[0m\u001b[1;33m\u001b[0m\u001b[1;33m\u001b[0m\u001b[0m\n\u001b[0;32m   3023\u001b[0m                 \u001b[1;32mreturn\u001b[0m \u001b[0mself\u001b[0m\u001b[1;33m.\u001b[0m\u001b[0m_getitem_multilevel\u001b[0m\u001b[1;33m(\u001b[0m\u001b[0mkey\u001b[0m\u001b[1;33m)\u001b[0m\u001b[1;33m\u001b[0m\u001b[1;33m\u001b[0m\u001b[0m\n\u001b[1;32m-> 3024\u001b[1;33m             \u001b[0mindexer\u001b[0m \u001b[1;33m=\u001b[0m \u001b[0mself\u001b[0m\u001b[1;33m.\u001b[0m\u001b[0mcolumns\u001b[0m\u001b[1;33m.\u001b[0m\u001b[0mget_loc\u001b[0m\u001b[1;33m(\u001b[0m\u001b[0mkey\u001b[0m\u001b[1;33m)\u001b[0m\u001b[1;33m\u001b[0m\u001b[1;33m\u001b[0m\u001b[0m\n\u001b[0m\u001b[0;32m   3025\u001b[0m             \u001b[1;32mif\u001b[0m \u001b[0mis_integer\u001b[0m\u001b[1;33m(\u001b[0m\u001b[0mindexer\u001b[0m\u001b[1;33m)\u001b[0m\u001b[1;33m:\u001b[0m\u001b[1;33m\u001b[0m\u001b[1;33m\u001b[0m\u001b[0m\n\u001b[0;32m   3026\u001b[0m                 \u001b[0mindexer\u001b[0m \u001b[1;33m=\u001b[0m \u001b[1;33m[\u001b[0m\u001b[0mindexer\u001b[0m\u001b[1;33m]\u001b[0m\u001b[1;33m\u001b[0m\u001b[1;33m\u001b[0m\u001b[0m\n",
      "\u001b[1;32m~\\anaconda3\\lib\\site-packages\\pandas\\core\\indexes\\base.py\u001b[0m in \u001b[0;36mget_loc\u001b[1;34m(self, key, method, tolerance)\u001b[0m\n\u001b[0;32m   3080\u001b[0m                 \u001b[1;32mreturn\u001b[0m \u001b[0mself\u001b[0m\u001b[1;33m.\u001b[0m\u001b[0m_engine\u001b[0m\u001b[1;33m.\u001b[0m\u001b[0mget_loc\u001b[0m\u001b[1;33m(\u001b[0m\u001b[0mcasted_key\u001b[0m\u001b[1;33m)\u001b[0m\u001b[1;33m\u001b[0m\u001b[1;33m\u001b[0m\u001b[0m\n\u001b[0;32m   3081\u001b[0m             \u001b[1;32mexcept\u001b[0m \u001b[0mKeyError\u001b[0m \u001b[1;32mas\u001b[0m \u001b[0merr\u001b[0m\u001b[1;33m:\u001b[0m\u001b[1;33m\u001b[0m\u001b[1;33m\u001b[0m\u001b[0m\n\u001b[1;32m-> 3082\u001b[1;33m                 \u001b[1;32mraise\u001b[0m \u001b[0mKeyError\u001b[0m\u001b[1;33m(\u001b[0m\u001b[0mkey\u001b[0m\u001b[1;33m)\u001b[0m \u001b[1;32mfrom\u001b[0m \u001b[0merr\u001b[0m\u001b[1;33m\u001b[0m\u001b[1;33m\u001b[0m\u001b[0m\n\u001b[0m\u001b[0;32m   3083\u001b[0m \u001b[1;33m\u001b[0m\u001b[0m\n\u001b[0;32m   3084\u001b[0m         \u001b[1;32mif\u001b[0m \u001b[0mtolerance\u001b[0m \u001b[1;32mis\u001b[0m \u001b[1;32mnot\u001b[0m \u001b[1;32mNone\u001b[0m\u001b[1;33m:\u001b[0m\u001b[1;33m\u001b[0m\u001b[1;33m\u001b[0m\u001b[0m\n",
      "\u001b[1;31mKeyError\u001b[0m: 's'"
     ]
    }
   ],
   "source": [
    "# directly selecting a column in Pandas\n",
    "print(df[\"ages\"])\n",
    "print(df[\"ages\"[3]]) # Selct the value of \"ages\" in the fourth row(0- index based)\n",
    "\n",
    "# print(df[4]) doesn't work, 4 is not a column name"
   ]
  },
  {
   "cell_type": "code",
   "execution_count": 13,
   "id": "789ba61f",
   "metadata": {},
   "outputs": [
    {
     "name": "stdout",
     "output_type": "stream",
     "text": [
      "names    Jess\n",
      "ages       25\n",
      "Name: 0, dtype: object\n",
      "Jess\n"
     ]
    }
   ],
   "source": [
    "### Indexing by Record\n",
    "# directly selecting a record in Pandas using .loc\n",
    "print(df.loc[0])\n",
    "print(df.loc[0][\"names\"]) # selecting the value at record 0 in the \"names\" column"
   ]
  },
  {
   "cell_type": "code",
   "execution_count": 15,
   "id": "43cdc29f",
   "metadata": {},
   "outputs": [
    {
     "name": "stdout",
     "output_type": "stream",
     "text": [
      "   names  ages\n",
      "2  Terry    22\n",
      "3   Mark    29\n",
      "4  Tyler    33\n"
     ]
    }
   ],
   "source": [
    "#### Slicing a DataFrame\n",
    "# slicing a dataframe to grab specific records\n",
    "print(df[2:5]) #This will output the records at index 2, 3, and 4."
   ]
  },
  {
   "cell_type": "markdown",
   "id": "52b49334",
   "metadata": {},
   "source": [
    "##### Built in Methods\n",
    "###### head()\n",
    "To see the top records in the DataFrame, along with the column names, you use the head() method:"
   ]
  },
  {
   "cell_type": "code",
   "execution_count": 16,
   "id": "7e4eedda",
   "metadata": {},
   "outputs": [
    {
     "data": {
      "text/html": [
       "<div>\n",
       "<style scoped>\n",
       "    .dataframe tbody tr th:only-of-type {\n",
       "        vertical-align: middle;\n",
       "    }\n",
       "\n",
       "    .dataframe tbody tr th {\n",
       "        vertical-align: top;\n",
       "    }\n",
       "\n",
       "    .dataframe thead th {\n",
       "        text-align: right;\n",
       "    }\n",
       "</style>\n",
       "<table border=\"1\" class=\"dataframe\">\n",
       "  <thead>\n",
       "    <tr style=\"text-align: right;\">\n",
       "      <th></th>\n",
       "      <th>names</th>\n",
       "      <th>ages</th>\n",
       "    </tr>\n",
       "  </thead>\n",
       "  <tbody>\n",
       "    <tr>\n",
       "      <th>0</th>\n",
       "      <td>Jess</td>\n",
       "      <td>25</td>\n",
       "    </tr>\n",
       "    <tr>\n",
       "      <th>1</th>\n",
       "      <td>Tim</td>\n",
       "      <td>35</td>\n",
       "    </tr>\n",
       "    <tr>\n",
       "      <th>2</th>\n",
       "      <td>Terry</td>\n",
       "      <td>22</td>\n",
       "    </tr>\n",
       "    <tr>\n",
       "      <th>3</th>\n",
       "      <td>Mark</td>\n",
       "      <td>29</td>\n",
       "    </tr>\n",
       "    <tr>\n",
       "      <th>4</th>\n",
       "      <td>Tyler</td>\n",
       "      <td>33</td>\n",
       "    </tr>\n",
       "  </tbody>\n",
       "</table>\n",
       "</div>"
      ],
      "text/plain": [
       "   names  ages\n",
       "0   Jess    25\n",
       "1    Tim    35\n",
       "2  Terry    22\n",
       "3   Mark    29\n",
       "4  Tyler    33"
      ]
     },
     "execution_count": 16,
     "metadata": {},
     "output_type": "execute_result"
    }
   ],
   "source": [
    "## Accessing the top 5 records using .head()\n",
    "df.head(5)"
   ]
  },
  {
   "cell_type": "markdown",
   "id": "da98263b",
   "metadata": {},
   "source": [
    "###### tail()\n",
    "Used to view a given number of records from the bottom"
   ]
  },
  {
   "cell_type": "code",
   "execution_count": 17,
   "id": "3af4234a",
   "metadata": {},
   "outputs": [
    {
     "data": {
      "text/html": [
       "<div>\n",
       "<style scoped>\n",
       "    .dataframe tbody tr th:only-of-type {\n",
       "        vertical-align: middle;\n",
       "    }\n",
       "\n",
       "    .dataframe tbody tr th {\n",
       "        vertical-align: top;\n",
       "    }\n",
       "\n",
       "    .dataframe thead th {\n",
       "        text-align: right;\n",
       "    }\n",
       "</style>\n",
       "<table border=\"1\" class=\"dataframe\">\n",
       "  <thead>\n",
       "    <tr style=\"text-align: right;\">\n",
       "      <th></th>\n",
       "      <th>names</th>\n",
       "      <th>ages</th>\n",
       "    </tr>\n",
       "  </thead>\n",
       "  <tbody>\n",
       "    <tr>\n",
       "      <th>3</th>\n",
       "      <td>Mark</td>\n",
       "      <td>29</td>\n",
       "    </tr>\n",
       "    <tr>\n",
       "      <th>4</th>\n",
       "      <td>Tyler</td>\n",
       "      <td>33</td>\n",
       "    </tr>\n",
       "    <tr>\n",
       "      <th>5</th>\n",
       "      <td>Rebecca</td>\n",
       "      <td>20</td>\n",
       "    </tr>\n",
       "  </tbody>\n",
       "</table>\n",
       "</div>"
      ],
      "text/plain": [
       "     names  ages\n",
       "3     Mark    29\n",
       "4    Tyler    33\n",
       "5  Rebecca    20"
      ]
     },
     "execution_count": 17,
     "metadata": {},
     "output_type": "execute_result"
    }
   ],
   "source": [
    "# accessing the botton 3 records using tail\n",
    "df.tail(3)"
   ]
  },
  {
   "cell_type": "markdown",
   "id": "46eab47d",
   "metadata": {},
   "source": [
    "###### keys()\n",
    "Sometimes you’ll need the column names. Whether you’re making a modular script or analyzing the data you’re working with, using the keys( ) method will help:"
   ]
  },
  {
   "cell_type": "code",
   "execution_count": 19,
   "id": "12b41e47",
   "metadata": {},
   "outputs": [
    {
     "name": "stdout",
     "output_type": "stream",
     "text": [
      "Index(['names', 'ages'], dtype='object')\n"
     ]
    }
   ],
   "source": [
    "# Accessing the column headers (keys) using the .keys() method\n",
    "headers = df.keys()\n",
    "print(headers)"
   ]
  },
  {
   "cell_type": "markdown",
   "id": "8e1119bd",
   "metadata": {},
   "source": [
    "###### .shape\n",
    "\n",
    "The shape of a DataFrame describes the number of records by the number of columns. It’s always important to check the shape to ensure you’re working with the proper amount of data:"
   ]
  },
  {
   "cell_type": "code",
   "execution_count": 20,
   "id": "12edd5c0",
   "metadata": {},
   "outputs": [
    {
     "name": "stdout",
     "output_type": "stream",
     "text": [
      "(6, 2)\n"
     ]
    }
   ],
   "source": [
    "# Checking the shape, which is the number of records\n",
    "print(df.shape)"
   ]
  },
  {
   "cell_type": "markdown",
   "id": "d7739e77",
   "metadata": {},
   "source": [
    "###### describe()\n",
    "The describe method will give you a base analysis for all numerical data. You’ll be able to view min, max, 25%, 50%, mean, etc., on all columns just by calling this method on the DataFrame. This information is helpful to start your analysis but generally won’t answer those questions you’re looking for. Instead, we can use this method as a guideline of where to start:"
   ]
  },
  {
   "cell_type": "code",
   "execution_count": 21,
   "id": "8021df1e",
   "metadata": {},
   "outputs": [
    {
     "data": {
      "text/html": [
       "<div>\n",
       "<style scoped>\n",
       "    .dataframe tbody tr th:only-of-type {\n",
       "        vertical-align: middle;\n",
       "    }\n",
       "\n",
       "    .dataframe tbody tr th {\n",
       "        vertical-align: top;\n",
       "    }\n",
       "\n",
       "    .dataframe thead th {\n",
       "        text-align: right;\n",
       "    }\n",
       "</style>\n",
       "<table border=\"1\" class=\"dataframe\">\n",
       "  <thead>\n",
       "    <tr style=\"text-align: right;\">\n",
       "      <th></th>\n",
       "      <th>ages</th>\n",
       "    </tr>\n",
       "  </thead>\n",
       "  <tbody>\n",
       "    <tr>\n",
       "      <th>count</th>\n",
       "      <td>6.000000</td>\n",
       "    </tr>\n",
       "    <tr>\n",
       "      <th>mean</th>\n",
       "      <td>27.333333</td>\n",
       "    </tr>\n",
       "    <tr>\n",
       "      <th>std</th>\n",
       "      <td>6.022181</td>\n",
       "    </tr>\n",
       "    <tr>\n",
       "      <th>min</th>\n",
       "      <td>20.000000</td>\n",
       "    </tr>\n",
       "    <tr>\n",
       "      <th>25%</th>\n",
       "      <td>22.750000</td>\n",
       "    </tr>\n",
       "    <tr>\n",
       "      <th>50%</th>\n",
       "      <td>27.000000</td>\n",
       "    </tr>\n",
       "    <tr>\n",
       "      <th>75%</th>\n",
       "      <td>32.000000</td>\n",
       "    </tr>\n",
       "    <tr>\n",
       "      <th>max</th>\n",
       "      <td>35.000000</td>\n",
       "    </tr>\n",
       "  </tbody>\n",
       "</table>\n",
       "</div>"
      ],
      "text/plain": [
       "            ages\n",
       "count   6.000000\n",
       "mean   27.333333\n",
       "std     6.022181\n",
       "min    20.000000\n",
       "25%    22.750000\n",
       "50%    27.000000\n",
       "75%    32.000000\n",
       "max    35.000000"
      ]
     },
     "execution_count": 21,
     "metadata": {},
     "output_type": "execute_result"
    }
   ],
   "source": [
    "# checking the general statistics of the DataFrame using .describe(), only works on numerical columns\n",
    "df.describe()"
   ]
  },
  {
   "cell_type": "markdown",
   "id": "c5666f74",
   "metadata": {},
   "source": [
    "###### sort_values()\n",
    "When you need to sort a DataFrame based on column information, you use this method. You can pass in one or multiple columns to be sorted by. When passing multiple, you must pass them in as a list of column names, in which the first name will take precedence:"
   ]
  },
  {
   "cell_type": "code",
   "execution_count": 23,
   "id": "f20f83de",
   "metadata": {},
   "outputs": [
    {
     "data": {
      "text/html": [
       "<div>\n",
       "<style scoped>\n",
       "    .dataframe tbody tr th:only-of-type {\n",
       "        vertical-align: middle;\n",
       "    }\n",
       "\n",
       "    .dataframe tbody tr th {\n",
       "        vertical-align: top;\n",
       "    }\n",
       "\n",
       "    .dataframe thead th {\n",
       "        text-align: right;\n",
       "    }\n",
       "</style>\n",
       "<table border=\"1\" class=\"dataframe\">\n",
       "  <thead>\n",
       "    <tr style=\"text-align: right;\">\n",
       "      <th></th>\n",
       "      <th>names</th>\n",
       "      <th>ages</th>\n",
       "    </tr>\n",
       "  </thead>\n",
       "  <tbody>\n",
       "    <tr>\n",
       "      <th>0</th>\n",
       "      <td>Jess</td>\n",
       "      <td>25</td>\n",
       "    </tr>\n",
       "    <tr>\n",
       "      <th>1</th>\n",
       "      <td>Tim</td>\n",
       "      <td>35</td>\n",
       "    </tr>\n",
       "    <tr>\n",
       "      <th>2</th>\n",
       "      <td>Terry</td>\n",
       "      <td>22</td>\n",
       "    </tr>\n",
       "    <tr>\n",
       "      <th>3</th>\n",
       "      <td>Mark</td>\n",
       "      <td>29</td>\n",
       "    </tr>\n",
       "    <tr>\n",
       "      <th>4</th>\n",
       "      <td>Tyler</td>\n",
       "      <td>33</td>\n",
       "    </tr>\n",
       "  </tbody>\n",
       "</table>\n",
       "</div>"
      ],
      "text/plain": [
       "   names  ages\n",
       "0   Jess    25\n",
       "1    Tim    35\n",
       "2  Terry    22\n",
       "3   Mark    29\n",
       "4  Tyler    33"
      ]
     },
     "execution_count": 23,
     "metadata": {},
     "output_type": "execute_result"
    }
   ],
   "source": [
    "# sort based on a given column, but keep the DataFrame in tact using sort_values()\n",
    "df.sort_values(\"ages\")\n",
    "df.head(5)"
   ]
  },
  {
   "cell_type": "markdown",
   "id": "cab74e01",
   "metadata": {},
   "source": [
    "#### Filtration\n",
    "Filter DataFrames for information that meets a specific condition\n",
    "\n",
    "###### Conditionals\n",
    "Rather than filtering out information, we can create a boolean data type column that represents the condition we’re checking. Let’s take our current DataFrame and write a\n",
    "condition that shows those who are 21 or older and can drink:"
   ]
  },
  {
   "cell_type": "code",
   "execution_count": 24,
   "id": "69fc52d3",
   "metadata": {},
   "outputs": [
    {
     "name": "stdout",
     "output_type": "stream",
     "text": [
      "0     True\n",
      "1     True\n",
      "2     True\n",
      "3     True\n",
      "4     True\n",
      "5    False\n",
      "Name: ages, dtype: bool\n"
     ]
    }
   ],
   "source": [
    "# Using a conditional to create a true/false column to work with \n",
    "can_drink = df[\"ages\"] > 21\n",
    "print(can_drink)"
   ]
  },
  {
   "cell_type": "markdown",
   "id": "b93f9950",
   "metadata": {},
   "source": [
    "#### Subsetting\n",
    "\n",
    "Used in filtering out records but retain the information within the DataFrame.\n",
    "We will use subsetting to filter out records rather than create a true-false representation:\n",
    "    "
   ]
  },
  {
   "cell_type": "code",
   "execution_count": 26,
   "id": "603eceff",
   "metadata": {},
   "outputs": [
    {
     "data": {
      "text/html": [
       "<div>\n",
       "<style scoped>\n",
       "    .dataframe tbody tr th:only-of-type {\n",
       "        vertical-align: middle;\n",
       "    }\n",
       "\n",
       "    .dataframe tbody tr th {\n",
       "        vertical-align: top;\n",
       "    }\n",
       "\n",
       "    .dataframe thead th {\n",
       "        text-align: right;\n",
       "    }\n",
       "</style>\n",
       "<table border=\"1\" class=\"dataframe\">\n",
       "  <thead>\n",
       "    <tr style=\"text-align: right;\">\n",
       "      <th></th>\n",
       "      <th>names</th>\n",
       "      <th>ages</th>\n",
       "    </tr>\n",
       "  </thead>\n",
       "  <tbody>\n",
       "    <tr>\n",
       "      <th>0</th>\n",
       "      <td>Jess</td>\n",
       "      <td>25</td>\n",
       "    </tr>\n",
       "    <tr>\n",
       "      <th>1</th>\n",
       "      <td>Tim</td>\n",
       "      <td>35</td>\n",
       "    </tr>\n",
       "    <tr>\n",
       "      <th>2</th>\n",
       "      <td>Terry</td>\n",
       "      <td>22</td>\n",
       "    </tr>\n",
       "    <tr>\n",
       "      <th>3</th>\n",
       "      <td>Mark</td>\n",
       "      <td>29</td>\n",
       "    </tr>\n",
       "    <tr>\n",
       "      <th>4</th>\n",
       "      <td>Tyler</td>\n",
       "      <td>33</td>\n",
       "    </tr>\n",
       "  </tbody>\n",
       "</table>\n",
       "</div>"
      ],
      "text/plain": [
       "   names  ages\n",
       "0   Jess    25\n",
       "1    Tim    35\n",
       "2  Terry    22\n",
       "3   Mark    29\n",
       "4  Tyler    33"
      ]
     },
     "execution_count": 26,
     "metadata": {},
     "output_type": "execute_result"
    }
   ],
   "source": [
    "# using subsetting to filter out records and keep DataFrame intact\n",
    "\n",
    "df[df[\"ages\"]>21]\n",
    "\n",
    "#The output results in only those records whose agesa are equal to or above the age of 21."
   ]
  },
  {
   "cell_type": "markdown",
   "id": "a5f1e1a6",
   "metadata": {},
   "source": [
    "#### Column Transformations\n",
    "\n",
    "Rarely, if ever, will the columns in the original raw DataFrame imported from CSV or a database be the ones you need for your analysis. You will spend lots of time constantly transforming columns or groups of columns using general computational operations to produce new ones that are functions of the old ones. Pandas has full support for this and does it efficiently.\n",
    "\n",
    "##### Generating a new column with data\n",
    "To create a new column within a DataFrame, you use the same syntax as if you were adding a new key-value pair into a dictionary. Let’s create a column of fake data that\n",
    "represents how long the people within our DataFrame have been customers with our company:"
   ]
  },
  {
   "cell_type": "code",
   "execution_count": 27,
   "id": "2dec73c9",
   "metadata": {},
   "outputs": [
    {
     "data": {
      "text/html": [
       "<div>\n",
       "<style scoped>\n",
       "    .dataframe tbody tr th:only-of-type {\n",
       "        vertical-align: middle;\n",
       "    }\n",
       "\n",
       "    .dataframe tbody tr th {\n",
       "        vertical-align: top;\n",
       "    }\n",
       "\n",
       "    .dataframe thead th {\n",
       "        text-align: right;\n",
       "    }\n",
       "</style>\n",
       "<table border=\"1\" class=\"dataframe\">\n",
       "  <thead>\n",
       "    <tr style=\"text-align: right;\">\n",
       "      <th></th>\n",
       "      <th>names</th>\n",
       "      <th>ages</th>\n",
       "      <th>tenure</th>\n",
       "    </tr>\n",
       "  </thead>\n",
       "  <tbody>\n",
       "    <tr>\n",
       "      <th>0</th>\n",
       "      <td>Jess</td>\n",
       "      <td>25</td>\n",
       "      <td>4</td>\n",
       "    </tr>\n",
       "    <tr>\n",
       "      <th>1</th>\n",
       "      <td>Tim</td>\n",
       "      <td>35</td>\n",
       "      <td>6</td>\n",
       "    </tr>\n",
       "    <tr>\n",
       "      <th>2</th>\n",
       "      <td>Terry</td>\n",
       "      <td>22</td>\n",
       "      <td>2</td>\n",
       "    </tr>\n",
       "    <tr>\n",
       "      <th>3</th>\n",
       "      <td>Mark</td>\n",
       "      <td>29</td>\n",
       "      <td>5</td>\n",
       "    </tr>\n",
       "    <tr>\n",
       "      <th>4</th>\n",
       "      <td>Tyler</td>\n",
       "      <td>33</td>\n",
       "      <td>8</td>\n",
       "    </tr>\n",
       "  </tbody>\n",
       "</table>\n",
       "</div>"
      ],
      "text/plain": [
       "   names  ages  tenure\n",
       "0   Jess    25       4\n",
       "1    Tim    35       6\n",
       "2  Terry    22       2\n",
       "3   Mark    29       5\n",
       "4  Tyler    33       8"
      ]
     },
     "execution_count": 27,
     "metadata": {},
     "output_type": "execute_result"
    }
   ],
   "source": [
    "# Generating a new column of fake data for each record in the DataFrame to represent customer tenure\n",
    "random.seed(321)\n",
    "tenure = [random.randint(0, 10) for x in range(len(df))]\n",
    "df[\"tenure\"] = tenure # same as adding a new key-value pair in dictionary\n",
    "df.head()"
   ]
  },
  {
   "cell_type": "markdown",
   "id": "e807bfb3",
   "metadata": {},
   "source": [
    "#### apply()\n",
    "Adding new columns based on current data is known as “feature engineering.” It makes up a good portion of a data analysts’ job. Often, you won’t be able to answer the\n",
    "questions you have from the data you collect. Instead, you need to create your own data that is useful to answering questions. For this example, let’s try to answer the following question: “What age group does each customer belong to?”. You could look at the persons’ age and assume their age group; however, we want to make it easier than that. In order to answer this question easily, we’ll need to feature engineer a new column that represents each customer’s age group. We can do this by using the apply method on the DataFrame. The apply method takes in each record, applies the function passed, and sets the value\n",
    "returned as the new column data. Let’s check it out:"
   ]
  },
  {
   "cell_type": "code",
   "execution_count": 28,
   "id": "27c26b4a",
   "metadata": {},
   "outputs": [
    {
     "data": {
      "text/html": [
       "<div>\n",
       "<style scoped>\n",
       "    .dataframe tbody tr th:only-of-type {\n",
       "        vertical-align: middle;\n",
       "    }\n",
       "\n",
       "    .dataframe tbody tr th {\n",
       "        vertical-align: top;\n",
       "    }\n",
       "\n",
       "    .dataframe thead th {\n",
       "        text-align: right;\n",
       "    }\n",
       "</style>\n",
       "<table border=\"1\" class=\"dataframe\">\n",
       "  <thead>\n",
       "    <tr style=\"text-align: right;\">\n",
       "      <th></th>\n",
       "      <th>names</th>\n",
       "      <th>ages</th>\n",
       "      <th>tenure</th>\n",
       "      <th>age_group</th>\n",
       "    </tr>\n",
       "  </thead>\n",
       "  <tbody>\n",
       "    <tr>\n",
       "      <th>0</th>\n",
       "      <td>Jess</td>\n",
       "      <td>25</td>\n",
       "      <td>4</td>\n",
       "      <td>Adult</td>\n",
       "    </tr>\n",
       "    <tr>\n",
       "      <th>1</th>\n",
       "      <td>Tim</td>\n",
       "      <td>35</td>\n",
       "      <td>6</td>\n",
       "      <td>Adult</td>\n",
       "    </tr>\n",
       "    <tr>\n",
       "      <th>2</th>\n",
       "      <td>Terry</td>\n",
       "      <td>22</td>\n",
       "      <td>2</td>\n",
       "      <td>Adult</td>\n",
       "    </tr>\n",
       "    <tr>\n",
       "      <th>3</th>\n",
       "      <td>Mark</td>\n",
       "      <td>29</td>\n",
       "      <td>5</td>\n",
       "      <td>Adult</td>\n",
       "    </tr>\n",
       "    <tr>\n",
       "      <th>4</th>\n",
       "      <td>Tyler</td>\n",
       "      <td>33</td>\n",
       "      <td>8</td>\n",
       "      <td>Adult</td>\n",
       "    </tr>\n",
       "    <tr>\n",
       "      <th>5</th>\n",
       "      <td>Rebecca</td>\n",
       "      <td>20</td>\n",
       "      <td>7</td>\n",
       "      <td>Teenager</td>\n",
       "    </tr>\n",
       "  </tbody>\n",
       "</table>\n",
       "</div>"
      ],
      "text/plain": [
       "     names  ages  tenure age_group\n",
       "0     Jess    25       4     Adult\n",
       "1      Tim    35       6     Adult\n",
       "2    Terry    22       2     Adult\n",
       "3     Mark    29       5     Adult\n",
       "4    Tyler    33       8     Adult\n",
       "5  Rebecca    20       7  Teenager"
      ]
     },
     "execution_count": 28,
     "metadata": {},
     "output_type": "execute_result"
    }
   ],
   "source": [
    "# Feature engineering a new column from known data using a UDF\n",
    "def ageGroup(age):\n",
    "    return \"Teenager\" if age<21 else \"Adult\"\n",
    "df[\"age_group\"] = df[\"ages\"].apply(ageGroup)\n",
    "df.head(10)"
   ]
  },
  {
   "cell_type": "markdown",
   "id": "b1591ff6",
   "metadata": {},
   "source": [
    "#### Aggregations \n",
    "The raw data plus transformations is generally only half the story. Your objective is to extract actual insights and actionable conclusions from the data, and that means\n",
    "reducing it from potentially billions of rows to a summary of statistics via aggregation functions. This section assumes some knowledge of SQL and the groupby function.\n",
    "If you’re not familiar with how groupby works in SQL, visit w3schools3 for reference material.\n",
    "\n",
    "www.w3schools.com/sql/sql_groupby.asp\n",
    "\n",
    "###### groupby()\n",
    "In order to condense the information down to a summary of statistics, we’ll need to use the groupby method that Pandas has. Whenever you group information together, you need to use an aggregate function to let the program know how to group the information together. For now, let’s count how many records of each age group there are within our DataFrame:"
   ]
  },
  {
   "cell_type": "code",
   "execution_count": 29,
   "id": "a8c01261",
   "metadata": {},
   "outputs": [
    {
     "data": {
      "text/html": [
       "<div>\n",
       "<style scoped>\n",
       "    .dataframe tbody tr th:only-of-type {\n",
       "        vertical-align: middle;\n",
       "    }\n",
       "\n",
       "    .dataframe tbody tr th {\n",
       "        vertical-align: top;\n",
       "    }\n",
       "\n",
       "    .dataframe thead th {\n",
       "        text-align: right;\n",
       "    }\n",
       "</style>\n",
       "<table border=\"1\" class=\"dataframe\">\n",
       "  <thead>\n",
       "    <tr style=\"text-align: right;\">\n",
       "      <th></th>\n",
       "      <th>age_group</th>\n",
       "      <th>names</th>\n",
       "      <th>ages</th>\n",
       "      <th>tenure</th>\n",
       "    </tr>\n",
       "  </thead>\n",
       "  <tbody>\n",
       "    <tr>\n",
       "      <th>0</th>\n",
       "      <td>Adult</td>\n",
       "      <td>5</td>\n",
       "      <td>5</td>\n",
       "      <td>5</td>\n",
       "    </tr>\n",
       "    <tr>\n",
       "      <th>1</th>\n",
       "      <td>Teenager</td>\n",
       "      <td>1</td>\n",
       "      <td>1</td>\n",
       "      <td>1</td>\n",
       "    </tr>\n",
       "  </tbody>\n",
       "</table>\n",
       "</div>"
      ],
      "text/plain": [
       "  age_group  names  ages  tenure\n",
       "0     Adult      5     5       5\n",
       "1  Teenager      1     1       1"
      ]
     },
     "execution_count": 29,
     "metadata": {},
     "output_type": "execute_result"
    }
   ],
   "source": [
    "# grouping the records together to count how many records in each group\n",
    "df.groupby(\"age_group\", as_index=False).count().head()"
   ]
  },
  {
   "cell_type": "markdown",
   "id": "b1d23f5f",
   "metadata": {},
   "source": [
    "##### mean()\n",
    "Instead of counting how many records there are in each category, let’s go ahead and find the averages of each column by using the mean method. We’ll group based on the same column:"
   ]
  },
  {
   "cell_type": "code",
   "execution_count": 31,
   "id": "14c3c8dd",
   "metadata": {},
   "outputs": [
    {
     "data": {
      "text/html": [
       "<div>\n",
       "<style scoped>\n",
       "    .dataframe tbody tr th:only-of-type {\n",
       "        vertical-align: middle;\n",
       "    }\n",
       "\n",
       "    .dataframe tbody tr th {\n",
       "        vertical-align: top;\n",
       "    }\n",
       "\n",
       "    .dataframe thead th {\n",
       "        text-align: right;\n",
       "    }\n",
       "</style>\n",
       "<table border=\"1\" class=\"dataframe\">\n",
       "  <thead>\n",
       "    <tr style=\"text-align: right;\">\n",
       "      <th></th>\n",
       "      <th>age_group</th>\n",
       "      <th>ages</th>\n",
       "      <th>tenure</th>\n",
       "    </tr>\n",
       "  </thead>\n",
       "  <tbody>\n",
       "    <tr>\n",
       "      <th>0</th>\n",
       "      <td>Adult</td>\n",
       "      <td>28.8</td>\n",
       "      <td>5.0</td>\n",
       "    </tr>\n",
       "    <tr>\n",
       "      <th>1</th>\n",
       "      <td>Teenager</td>\n",
       "      <td>20.0</td>\n",
       "      <td>7.0</td>\n",
       "    </tr>\n",
       "  </tbody>\n",
       "</table>\n",
       "</div>"
      ],
      "text/plain": [
       "  age_group  ages  tenure\n",
       "0     Adult  28.8     5.0\n",
       "1  Teenager  20.0     7.0"
      ]
     },
     "execution_count": 31,
     "metadata": {},
     "output_type": "execute_result"
    }
   ],
   "source": [
    "# grouping the data to see all averages  of all columns\n",
    "df.groupby(\"age_group\", as_index = False).mean().head()"
   ]
  },
  {
   "cell_type": "markdown",
   "id": "036cfe72",
   "metadata": {},
   "source": [
    "##### groupby() with multiple columns\n",
    "When you need to group by multiple columns, the arguments must be passed in as a list. The first item in the list will be the main column that the DataFrame is grouped by. In our case, let’s check how many adults have a tenure of five years:"
   ]
  },
  {
   "cell_type": "code",
   "execution_count": 33,
   "id": "9419d371",
   "metadata": {},
   "outputs": [
    {
     "data": {
      "text/html": [
       "<div>\n",
       "<style scoped>\n",
       "    .dataframe tbody tr th:only-of-type {\n",
       "        vertical-align: middle;\n",
       "    }\n",
       "\n",
       "    .dataframe tbody tr th {\n",
       "        vertical-align: top;\n",
       "    }\n",
       "\n",
       "    .dataframe thead th {\n",
       "        text-align: right;\n",
       "    }\n",
       "</style>\n",
       "<table border=\"1\" class=\"dataframe\">\n",
       "  <thead>\n",
       "    <tr style=\"text-align: right;\">\n",
       "      <th></th>\n",
       "      <th>age_group</th>\n",
       "      <th>tenure</th>\n",
       "      <th>names</th>\n",
       "      <th>ages</th>\n",
       "    </tr>\n",
       "  </thead>\n",
       "  <tbody>\n",
       "    <tr>\n",
       "      <th>0</th>\n",
       "      <td>Adult</td>\n",
       "      <td>2</td>\n",
       "      <td>1</td>\n",
       "      <td>1</td>\n",
       "    </tr>\n",
       "    <tr>\n",
       "      <th>1</th>\n",
       "      <td>Adult</td>\n",
       "      <td>4</td>\n",
       "      <td>1</td>\n",
       "      <td>1</td>\n",
       "    </tr>\n",
       "    <tr>\n",
       "      <th>2</th>\n",
       "      <td>Adult</td>\n",
       "      <td>5</td>\n",
       "      <td>1</td>\n",
       "      <td>1</td>\n",
       "    </tr>\n",
       "    <tr>\n",
       "      <th>3</th>\n",
       "      <td>Adult</td>\n",
       "      <td>6</td>\n",
       "      <td>1</td>\n",
       "      <td>1</td>\n",
       "    </tr>\n",
       "    <tr>\n",
       "      <th>4</th>\n",
       "      <td>Adult</td>\n",
       "      <td>8</td>\n",
       "      <td>1</td>\n",
       "      <td>1</td>\n",
       "    </tr>\n",
       "    <tr>\n",
       "      <th>5</th>\n",
       "      <td>Teenager</td>\n",
       "      <td>7</td>\n",
       "      <td>1</td>\n",
       "      <td>1</td>\n",
       "    </tr>\n",
       "  </tbody>\n",
       "</table>\n",
       "</div>"
      ],
      "text/plain": [
       "  age_group  tenure  names  ages\n",
       "0     Adult       2      1     1\n",
       "1     Adult       4      1     1\n",
       "2     Adult       5      1     1\n",
       "3     Adult       6      1     1\n",
       "4     Adult       8      1     1\n",
       "5  Teenager       7      1     1"
      ]
     },
     "execution_count": 33,
     "metadata": {},
     "output_type": "execute_result"
    }
   ],
   "source": [
    "# grouping information in their age group, then by their tenure\n",
    "df.groupby([\"age_group\", \"tenure\"], as_index=False).count().head(10)"
   ]
  },
  {
   "cell_type": "markdown",
   "id": "10a7a204",
   "metadata": {},
   "source": [
    "##### Adding a Record\n",
    "To add a record into the DataFrame, you’ll need to access the next index and assign a value asa list structure. In our case, the next index would be 7. Let’s add an identical row that already exists in our DataFrame, so we can see how to remove duplicate information in the next cell:"
   ]
  },
  {
   "cell_type": "code",
   "execution_count": 34,
   "id": "3899f95a",
   "metadata": {},
   "outputs": [
    {
     "data": {
      "text/html": [
       "<div>\n",
       "<style scoped>\n",
       "    .dataframe tbody tr th:only-of-type {\n",
       "        vertical-align: middle;\n",
       "    }\n",
       "\n",
       "    .dataframe tbody tr th {\n",
       "        vertical-align: top;\n",
       "    }\n",
       "\n",
       "    .dataframe thead th {\n",
       "        text-align: right;\n",
       "    }\n",
       "</style>\n",
       "<table border=\"1\" class=\"dataframe\">\n",
       "  <thead>\n",
       "    <tr style=\"text-align: right;\">\n",
       "      <th></th>\n",
       "      <th>names</th>\n",
       "      <th>ages</th>\n",
       "      <th>tenure</th>\n",
       "      <th>age_group</th>\n",
       "    </tr>\n",
       "  </thead>\n",
       "  <tbody>\n",
       "    <tr>\n",
       "      <th>0</th>\n",
       "      <td>Jess</td>\n",
       "      <td>25</td>\n",
       "      <td>4</td>\n",
       "      <td>Adult</td>\n",
       "    </tr>\n",
       "    <tr>\n",
       "      <th>1</th>\n",
       "      <td>Tim</td>\n",
       "      <td>35</td>\n",
       "      <td>6</td>\n",
       "      <td>Adult</td>\n",
       "    </tr>\n",
       "    <tr>\n",
       "      <th>2</th>\n",
       "      <td>Terry</td>\n",
       "      <td>22</td>\n",
       "      <td>2</td>\n",
       "      <td>Adult</td>\n",
       "    </tr>\n",
       "    <tr>\n",
       "      <th>3</th>\n",
       "      <td>Mark</td>\n",
       "      <td>29</td>\n",
       "      <td>5</td>\n",
       "      <td>Adult</td>\n",
       "    </tr>\n",
       "    <tr>\n",
       "      <th>4</th>\n",
       "      <td>Tyler</td>\n",
       "      <td>33</td>\n",
       "      <td>8</td>\n",
       "      <td>Adult</td>\n",
       "    </tr>\n",
       "    <tr>\n",
       "      <th>5</th>\n",
       "      <td>Rebecca</td>\n",
       "      <td>20</td>\n",
       "      <td>7</td>\n",
       "      <td>Teenager</td>\n",
       "    </tr>\n",
       "    <tr>\n",
       "      <th>7</th>\n",
       "      <td>25</td>\n",
       "      <td>Jess</td>\n",
       "      <td>2</td>\n",
       "      <td>Adult</td>\n",
       "    </tr>\n",
       "  </tbody>\n",
       "</table>\n",
       "</div>"
      ],
      "text/plain": [
       "     names  ages  tenure age_group\n",
       "0     Jess    25       4     Adult\n",
       "1      Tim    35       6     Adult\n",
       "2    Terry    22       2     Adult\n",
       "3     Mark    29       5     Adult\n",
       "4    Tyler    33       8     Adult\n",
       "5  Rebecca    20       7  Teenager\n",
       "7       25  Jess       2     Adult"
      ]
     },
     "execution_count": 34,
     "metadata": {},
     "output_type": "execute_result"
    }
   ],
   "source": [
    "# adding a record to the bottom of the DataFrame\n",
    "df.loc[7] = [25, \"Jess\", 2, \"Adult\"] # add a record\n",
    "df.head(10)"
   ]
  },
  {
   "cell_type": "markdown",
   "id": "30c91010",
   "metadata": {},
   "source": [
    "##### drop_duplicates()\n",
    "It’s imperative that you remove all duplicate records as it will skew your data, resulting in incorrect answers. You can remove duplicate records based on a single column or an entire record being identical. In our case, let’s remove duplicates based on similar names, which will remove the record we just added into our DataFrame:"
   ]
  },
  {
   "cell_type": "code",
   "execution_count": 35,
   "id": "67539a26",
   "metadata": {},
   "outputs": [
    {
     "data": {
      "text/html": [
       "<div>\n",
       "<style scoped>\n",
       "    .dataframe tbody tr th:only-of-type {\n",
       "        vertical-align: middle;\n",
       "    }\n",
       "\n",
       "    .dataframe tbody tr th {\n",
       "        vertical-align: top;\n",
       "    }\n",
       "\n",
       "    .dataframe thead th {\n",
       "        text-align: right;\n",
       "    }\n",
       "</style>\n",
       "<table border=\"1\" class=\"dataframe\">\n",
       "  <thead>\n",
       "    <tr style=\"text-align: right;\">\n",
       "      <th></th>\n",
       "      <th>names</th>\n",
       "      <th>ages</th>\n",
       "      <th>tenure</th>\n",
       "      <th>age_group</th>\n",
       "    </tr>\n",
       "  </thead>\n",
       "  <tbody>\n",
       "    <tr>\n",
       "      <th>0</th>\n",
       "      <td>Jess</td>\n",
       "      <td>25</td>\n",
       "      <td>4</td>\n",
       "      <td>Adult</td>\n",
       "    </tr>\n",
       "    <tr>\n",
       "      <th>1</th>\n",
       "      <td>Tim</td>\n",
       "      <td>35</td>\n",
       "      <td>6</td>\n",
       "      <td>Adult</td>\n",
       "    </tr>\n",
       "    <tr>\n",
       "      <th>2</th>\n",
       "      <td>Terry</td>\n",
       "      <td>22</td>\n",
       "      <td>2</td>\n",
       "      <td>Adult</td>\n",
       "    </tr>\n",
       "    <tr>\n",
       "      <th>3</th>\n",
       "      <td>Mark</td>\n",
       "      <td>29</td>\n",
       "      <td>5</td>\n",
       "      <td>Adult</td>\n",
       "    </tr>\n",
       "    <tr>\n",
       "      <th>4</th>\n",
       "      <td>Tyler</td>\n",
       "      <td>33</td>\n",
       "      <td>8</td>\n",
       "      <td>Adult</td>\n",
       "    </tr>\n",
       "  </tbody>\n",
       "</table>\n",
       "</div>"
      ],
      "text/plain": [
       "   names ages  tenure age_group\n",
       "0   Jess   25       4     Adult\n",
       "1    Tim   35       6     Adult\n",
       "2  Terry   22       2     Adult\n",
       "3   Mark   29       5     Adult\n",
       "4  Tyler   33       8     Adult"
      ]
     },
     "execution_count": 35,
     "metadata": {},
     "output_type": "execute_result"
    }
   ],
   "source": [
    "# removing duplicates based on the same names\n",
    "df = df.drop_duplicates(subset=\"names\")\n",
    "df.head()"
   ]
  },
  {
   "cell_type": "markdown",
   "id": "128eb96f",
   "metadata": {},
   "source": [
    "Note: Omitting the subset argument will remove only duplicate records that have identical values in all columns."
   ]
  },
  {
   "cell_type": "markdown",
   "id": "ccca9aab",
   "metadata": {},
   "source": [
    "#### Pandas Joins\n",
    "\n",
    "Often, you will have to combine data from several different sources to obtain the actual dataset you need for your exploration or modeling. Pandas draws heavily on SQL in its\n",
    "design for joins. This section assumes some knowledge of SQL and SQL joins. If you’re not familiar with how joins work in SQL, visit w3schools4 for reference material.\n",
    "\n",
    "www.w3schools.com/sql/sql_join.asp\n",
    "\n",
    "###### Createing a second DataFrame\n",
    "\n",
    "Let’s create a secondary DataFrame to represent our customers posting ratings about our company. We’ll create ratings for three users so we can see both inner joins and\n",
    "outer joins:\n"
   ]
  },
  {
   "cell_type": "code",
   "execution_count": 36,
   "id": "3b72a3e9",
   "metadata": {},
   "outputs": [
    {
     "data": {
      "text/html": [
       "<div>\n",
       "<style scoped>\n",
       "    .dataframe tbody tr th:only-of-type {\n",
       "        vertical-align: middle;\n",
       "    }\n",
       "\n",
       "    .dataframe tbody tr th {\n",
       "        vertical-align: top;\n",
       "    }\n",
       "\n",
       "    .dataframe thead th {\n",
       "        text-align: right;\n",
       "    }\n",
       "</style>\n",
       "<table border=\"1\" class=\"dataframe\">\n",
       "  <thead>\n",
       "    <tr style=\"text-align: right;\">\n",
       "      <th></th>\n",
       "      <th>names</th>\n",
       "      <th>ratings</th>\n",
       "    </tr>\n",
       "  </thead>\n",
       "  <tbody>\n",
       "    <tr>\n",
       "      <th>0</th>\n",
       "      <td>Jess</td>\n",
       "      <td>10</td>\n",
       "    </tr>\n",
       "    <tr>\n",
       "      <th>1</th>\n",
       "      <td>Tyler</td>\n",
       "      <td>9</td>\n",
       "    </tr>\n",
       "    <tr>\n",
       "      <th>2</th>\n",
       "      <td>Ted</td>\n",
       "      <td>6</td>\n",
       "    </tr>\n",
       "  </tbody>\n",
       "</table>\n",
       "</div>"
      ],
      "text/plain": [
       "   names  ratings\n",
       "0   Jess       10\n",
       "1  Tyler        9\n",
       "2    Ted        6"
      ]
     },
     "execution_count": 36,
     "metadata": {},
     "output_type": "execute_result"
    }
   ],
   "source": [
    "# creating another fake DataFrame to work with, having same names and new ratings column\n",
    "ratings = {\n",
    "    \"names\": [\"Jess\", \"Tyler\", \"Ted\"],\n",
    "    \"ratings\": [10, 9, 6]\n",
    "}\n",
    "ratings = df.from_dict(ratings)\n",
    "ratings.head()"
   ]
  },
  {
   "cell_type": "markdown",
   "id": "d3d87f11",
   "metadata": {},
   "source": [
    "###### Inner Join\n",
    "\n",
    "Anytime you perform a join, you need a unique column to join the data with. In our case, we can use the names column to join the ratings DataFrame with our original DataFrame. Let’s perform an inner join on these two datasets so that we can connect users with their ratings:"
   ]
  },
  {
   "cell_type": "code",
   "execution_count": 37,
   "id": "37842b68",
   "metadata": {},
   "outputs": [
    {
     "data": {
      "text/html": [
       "<div>\n",
       "<style scoped>\n",
       "    .dataframe tbody tr th:only-of-type {\n",
       "        vertical-align: middle;\n",
       "    }\n",
       "\n",
       "    .dataframe tbody tr th {\n",
       "        vertical-align: top;\n",
       "    }\n",
       "\n",
       "    .dataframe thead th {\n",
       "        text-align: right;\n",
       "    }\n",
       "</style>\n",
       "<table border=\"1\" class=\"dataframe\">\n",
       "  <thead>\n",
       "    <tr style=\"text-align: right;\">\n",
       "      <th></th>\n",
       "      <th>names</th>\n",
       "      <th>ages</th>\n",
       "      <th>tenure</th>\n",
       "      <th>age_group</th>\n",
       "      <th>ratings</th>\n",
       "    </tr>\n",
       "  </thead>\n",
       "  <tbody>\n",
       "    <tr>\n",
       "      <th>0</th>\n",
       "      <td>Jess</td>\n",
       "      <td>25</td>\n",
       "      <td>4</td>\n",
       "      <td>Adult</td>\n",
       "      <td>10</td>\n",
       "    </tr>\n",
       "    <tr>\n",
       "      <th>1</th>\n",
       "      <td>Tyler</td>\n",
       "      <td>33</td>\n",
       "      <td>8</td>\n",
       "      <td>Adult</td>\n",
       "      <td>9</td>\n",
       "    </tr>\n",
       "  </tbody>\n",
       "</table>\n",
       "</div>"
      ],
      "text/plain": [
       "   names ages  tenure age_group  ratings\n",
       "0   Jess   25       4     Adult       10\n",
       "1  Tyler   33       8     Adult        9"
      ]
     },
     "execution_count": 37,
     "metadata": {},
     "output_type": "execute_result"
    }
   ],
   "source": [
    "# Performing an inner join with df and ratings DataFrames based on names, get data that matches\n",
    "matched_ratings = df.merge(ratings, on=\"names\", how=\"inner\")\n",
    "matched_ratings.head()"
   ]
  },
  {
   "cell_type": "markdown",
   "id": "653e5ebc",
   "metadata": {},
   "source": [
    "###### Outer Join\n",
    "If we want to return all the records, but connect the ratings for people who gave one, we would need to perform an outer join. This would allow us to keep all records from\n",
    "our original DataFrame while adding the ratings column. We need to specify the how parameter to “outer”:"
   ]
  },
  {
   "cell_type": "code",
   "execution_count": 39,
   "id": "b2bfc67d",
   "metadata": {},
   "outputs": [
    {
     "data": {
      "text/html": [
       "<div>\n",
       "<style scoped>\n",
       "    .dataframe tbody tr th:only-of-type {\n",
       "        vertical-align: middle;\n",
       "    }\n",
       "\n",
       "    .dataframe tbody tr th {\n",
       "        vertical-align: top;\n",
       "    }\n",
       "\n",
       "    .dataframe thead th {\n",
       "        text-align: right;\n",
       "    }\n",
       "</style>\n",
       "<table border=\"1\" class=\"dataframe\">\n",
       "  <thead>\n",
       "    <tr style=\"text-align: right;\">\n",
       "      <th></th>\n",
       "      <th>names</th>\n",
       "      <th>ages</th>\n",
       "      <th>tenure</th>\n",
       "      <th>age_group</th>\n",
       "      <th>ratings</th>\n",
       "    </tr>\n",
       "  </thead>\n",
       "  <tbody>\n",
       "    <tr>\n",
       "      <th>0</th>\n",
       "      <td>Jess</td>\n",
       "      <td>25</td>\n",
       "      <td>4.0</td>\n",
       "      <td>Adult</td>\n",
       "      <td>10.0</td>\n",
       "    </tr>\n",
       "    <tr>\n",
       "      <th>1</th>\n",
       "      <td>Tim</td>\n",
       "      <td>35</td>\n",
       "      <td>6.0</td>\n",
       "      <td>Adult</td>\n",
       "      <td>NaN</td>\n",
       "    </tr>\n",
       "    <tr>\n",
       "      <th>2</th>\n",
       "      <td>Terry</td>\n",
       "      <td>22</td>\n",
       "      <td>2.0</td>\n",
       "      <td>Adult</td>\n",
       "      <td>NaN</td>\n",
       "    </tr>\n",
       "    <tr>\n",
       "      <th>3</th>\n",
       "      <td>Mark</td>\n",
       "      <td>29</td>\n",
       "      <td>5.0</td>\n",
       "      <td>Adult</td>\n",
       "      <td>NaN</td>\n",
       "    </tr>\n",
       "    <tr>\n",
       "      <th>4</th>\n",
       "      <td>Tyler</td>\n",
       "      <td>33</td>\n",
       "      <td>8.0</td>\n",
       "      <td>Adult</td>\n",
       "      <td>9.0</td>\n",
       "    </tr>\n",
       "  </tbody>\n",
       "</table>\n",
       "</div>"
      ],
      "text/plain": [
       "   names ages  tenure age_group  ratings\n",
       "0   Jess   25     4.0     Adult     10.0\n",
       "1    Tim   35     6.0     Adult      NaN\n",
       "2  Terry   22     2.0     Adult      NaN\n",
       "3   Mark   29     5.0     Adult      NaN\n",
       "4  Tyler   33     8.0     Adult      9.0"
      ]
     },
     "execution_count": 39,
     "metadata": {},
     "output_type": "execute_result"
    }
   ],
   "source": [
    "# performing an outer join with our df and ratings DataFrames based on names, get all data\n",
    "all_ratings = df.merge(ratings, on=\"names\", how=\"outer\")\n",
    "all_ratings.head()"
   ]
  },
  {
   "cell_type": "markdown",
   "id": "4e6e6997",
   "metadata": {},
   "source": [
    "## Thank you God for bringing me this end. Give me understanding and intelligence to do it on my own."
   ]
  },
  {
   "cell_type": "code",
   "execution_count": null,
   "id": "8b9c005c",
   "metadata": {},
   "outputs": [],
   "source": []
  }
 ],
 "metadata": {
  "kernelspec": {
   "display_name": "Python 3",
   "language": "python",
   "name": "python3"
  },
  "language_info": {
   "codemirror_mode": {
    "name": "ipython",
    "version": 3
   },
   "file_extension": ".py",
   "mimetype": "text/x-python",
   "name": "python",
   "nbconvert_exporter": "python",
   "pygments_lexer": "ipython3",
   "version": "3.8.8"
  }
 },
 "nbformat": 4,
 "nbformat_minor": 5
}
